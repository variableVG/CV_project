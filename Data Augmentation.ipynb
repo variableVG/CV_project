{
  "cells": [
    {
      "cell_type": "code",
      "source": [
        "from google.colab import drive\n",
        "drive.mount('/content/drive')"
      ],
      "metadata": {
        "colab": {
          "base_uri": "https://localhost:8080/"
        },
        "id": "pbI7XBEDPadH",
        "outputId": "331ad661-5892-479e-fcd2-b7bc4504eb56"
      },
      "execution_count": 2,
      "outputs": [
        {
          "output_type": "stream",
          "name": "stdout",
          "text": [
            "Drive already mounted at /content/drive; to attempt to forcibly remount, call drive.mount(\"/content/drive\", force_remount=True).\n"
          ]
        }
      ]
    },
    {
      "cell_type": "markdown",
      "source": [
        "# Import Data and images"
      ],
      "metadata": {
        "collapsed": false,
        "id": "NyFX0fY7PWqt"
      }
    },
    {
      "cell_type": "code",
      "source": [
        "! pip install gdown\n",
        "! mkdir -p /content/pic/\n",
        "! gdown -O /content/pictures_small.tar \"1RVa4YzGpGidql_NOb69bYgpLZcdZD98b\""
      ],
      "metadata": {
        "colab": {
          "base_uri": "https://localhost:8080/"
        },
        "id": "7bNnusjjyJUu",
        "outputId": "68395342-0689-4e92-eafa-2a2e4330b102"
      },
      "execution_count": 3,
      "outputs": [
        {
          "output_type": "stream",
          "name": "stdout",
          "text": [
            "Looking in indexes: https://pypi.org/simple, https://us-python.pkg.dev/colab-wheels/public/simple/\n",
            "Requirement already satisfied: gdown in /usr/local/lib/python3.7/dist-packages (4.4.0)\n",
            "Requirement already satisfied: requests[socks] in /usr/local/lib/python3.7/dist-packages (from gdown) (2.23.0)\n",
            "Requirement already satisfied: six in /usr/local/lib/python3.7/dist-packages (from gdown) (1.15.0)\n",
            "Requirement already satisfied: filelock in /usr/local/lib/python3.7/dist-packages (from gdown) (3.8.0)\n",
            "Requirement already satisfied: beautifulsoup4 in /usr/local/lib/python3.7/dist-packages (from gdown) (4.6.3)\n",
            "Requirement already satisfied: tqdm in /usr/local/lib/python3.7/dist-packages (from gdown) (4.64.1)\n",
            "Requirement already satisfied: certifi>=2017.4.17 in /usr/local/lib/python3.7/dist-packages (from requests[socks]->gdown) (2022.9.24)\n",
            "Requirement already satisfied: chardet<4,>=3.0.2 in /usr/local/lib/python3.7/dist-packages (from requests[socks]->gdown) (3.0.4)\n",
            "Requirement already satisfied: idna<3,>=2.5 in /usr/local/lib/python3.7/dist-packages (from requests[socks]->gdown) (2.10)\n",
            "Requirement already satisfied: urllib3!=1.25.0,!=1.25.1,<1.26,>=1.21.1 in /usr/local/lib/python3.7/dist-packages (from requests[socks]->gdown) (1.24.3)\n",
            "Requirement already satisfied: PySocks!=1.5.7,>=1.5.6 in /usr/local/lib/python3.7/dist-packages (from requests[socks]->gdown) (1.7.1)\n",
            "Downloading...\n",
            "From: https://drive.google.com/uc?id=1RVa4YzGpGidql_NOb69bYgpLZcdZD98b\n",
            "To: /content/pictures_small.tar\n",
            "100% 2.97M/2.97M [00:00<00:00, 180MB/s]\n"
          ]
        }
      ]
    },
    {
      "cell_type": "code",
      "source": [
        "import tarfile\n",
        "try: \n",
        "  tar = tarfile.open('/content/pictures_small.tar')\n",
        "  tar.extractall(path='/content/pic')\n",
        "  tar.close()\n",
        "except:\n",
        "  print(\"Pictures could not be extracted\")"
      ],
      "metadata": {
        "id": "ABrvx_7CzqRg"
      },
      "execution_count": 4,
      "outputs": []
    },
    {
      "cell_type": "code",
      "source": [
        "! mv /content/pic/content/small_pics/* /content/pic/\n",
        "! rmdir /content/pic/content"
      ],
      "metadata": {
        "colab": {
          "base_uri": "https://localhost:8080/"
        },
        "id": "7IPMIwllp_z0",
        "outputId": "8216f281-a893-4594-c6d4-65b022387ce2"
      },
      "execution_count": 5,
      "outputs": [
        {
          "output_type": "stream",
          "name": "stdout",
          "text": [
            "rmdir: failed to remove '/content/pic/content': Directory not empty\n"
          ]
        }
      ]
    },
    {
      "cell_type": "code",
      "source": [
        "path_to_pictures = '/content/pic/'\n",
        "path_to_dataset = '/content/drive/MyDrive/Colab Notebooks/CVNLP/dataset_faces_small.csv'"
      ],
      "metadata": {
        "id": "jtkb3rz9PX4I"
      },
      "execution_count": 6,
      "outputs": []
    },
    {
      "cell_type": "code",
      "execution_count": 7,
      "outputs": [
        {
          "output_type": "stream",
          "name": "stdout",
          "text": [
            "Looking in indexes: https://pypi.org/simple, https://us-python.pkg.dev/colab-wheels/public/simple/\n",
            "Requirement already satisfied: torch in /usr/local/lib/python3.7/dist-packages (1.12.1+cu113)\n",
            "Requirement already satisfied: torchvision in /usr/local/lib/python3.7/dist-packages (0.13.1+cu113)\n",
            "Requirement already satisfied: typing-extensions in /usr/local/lib/python3.7/dist-packages (from torch) (4.1.1)\n",
            "Requirement already satisfied: numpy in /usr/local/lib/python3.7/dist-packages (from torchvision) (1.21.6)\n",
            "Requirement already satisfied: requests in /usr/local/lib/python3.7/dist-packages (from torchvision) (2.23.0)\n",
            "Requirement already satisfied: pillow!=8.3.*,>=5.3.0 in /usr/local/lib/python3.7/dist-packages (from torchvision) (7.1.2)\n",
            "Requirement already satisfied: certifi>=2017.4.17 in /usr/local/lib/python3.7/dist-packages (from requests->torchvision) (2022.9.24)\n",
            "Requirement already satisfied: chardet<4,>=3.0.2 in /usr/local/lib/python3.7/dist-packages (from requests->torchvision) (3.0.4)\n",
            "Requirement already satisfied: urllib3!=1.25.0,!=1.25.1,<1.26,>=1.21.1 in /usr/local/lib/python3.7/dist-packages (from requests->torchvision) (1.24.3)\n",
            "Requirement already satisfied: idna<3,>=2.5 in /usr/local/lib/python3.7/dist-packages (from requests->torchvision) (2.10)\n"
          ]
        }
      ],
      "source": [
        "!pip install torch torchvision"
      ],
      "metadata": {
        "colab": {
          "base_uri": "https://localhost:8080/"
        },
        "id": "lQbgzYMuPWqr",
        "outputId": "534a20af-91a1-4429-c550-28ee2aad741c"
      }
    },
    {
      "cell_type": "code",
      "execution_count": 8,
      "outputs": [],
      "source": [
        "import pandas as pd\n",
        "import numpy as np\n",
        "import torchvision.transforms as T\n",
        "import matplotlib.pyplot as plt\n",
        "from PIL import Image\n",
        "import torch"
      ],
      "metadata": {
        "id": "hU8k8mlNPWqu"
      }
    },
    {
      "cell_type": "code",
      "execution_count": 9,
      "outputs": [],
      "source": [
        "df = pd.read_csv(path_to_dataset)"
      ],
      "metadata": {
        "id": "MA97DxqiPWqv"
      }
    },
    {
      "cell_type": "code",
      "execution_count": 10,
      "outputs": [
        {
          "output_type": "execute_result",
          "data": {
            "text/plain": [
              "                       filename  age  gender  ethnicity\n",
              "0  36_1_1_20170116161709695.jpg   36       1          1\n",
              "1  36_1_1_20170116223054510.jpg   36       1          1\n",
              "2  36_1_1_20170117134015960.jpg   36       1          1\n",
              "3  37_0_0_20170117164409579.jpg   37       0          0\n",
              "4  37_0_1_20170116202035694.jpg   37       0          1"
            ],
            "text/html": [
              "\n",
              "  <div id=\"df-5074d87e-a729-40cb-9610-325b72fd180b\">\n",
              "    <div class=\"colab-df-container\">\n",
              "      <div>\n",
              "<style scoped>\n",
              "    .dataframe tbody tr th:only-of-type {\n",
              "        vertical-align: middle;\n",
              "    }\n",
              "\n",
              "    .dataframe tbody tr th {\n",
              "        vertical-align: top;\n",
              "    }\n",
              "\n",
              "    .dataframe thead th {\n",
              "        text-align: right;\n",
              "    }\n",
              "</style>\n",
              "<table border=\"1\" class=\"dataframe\">\n",
              "  <thead>\n",
              "    <tr style=\"text-align: right;\">\n",
              "      <th></th>\n",
              "      <th>filename</th>\n",
              "      <th>age</th>\n",
              "      <th>gender</th>\n",
              "      <th>ethnicity</th>\n",
              "    </tr>\n",
              "  </thead>\n",
              "  <tbody>\n",
              "    <tr>\n",
              "      <th>0</th>\n",
              "      <td>36_1_1_20170116161709695.jpg</td>\n",
              "      <td>36</td>\n",
              "      <td>1</td>\n",
              "      <td>1</td>\n",
              "    </tr>\n",
              "    <tr>\n",
              "      <th>1</th>\n",
              "      <td>36_1_1_20170116223054510.jpg</td>\n",
              "      <td>36</td>\n",
              "      <td>1</td>\n",
              "      <td>1</td>\n",
              "    </tr>\n",
              "    <tr>\n",
              "      <th>2</th>\n",
              "      <td>36_1_1_20170117134015960.jpg</td>\n",
              "      <td>36</td>\n",
              "      <td>1</td>\n",
              "      <td>1</td>\n",
              "    </tr>\n",
              "    <tr>\n",
              "      <th>3</th>\n",
              "      <td>37_0_0_20170117164409579.jpg</td>\n",
              "      <td>37</td>\n",
              "      <td>0</td>\n",
              "      <td>0</td>\n",
              "    </tr>\n",
              "    <tr>\n",
              "      <th>4</th>\n",
              "      <td>37_0_1_20170116202035694.jpg</td>\n",
              "      <td>37</td>\n",
              "      <td>0</td>\n",
              "      <td>1</td>\n",
              "    </tr>\n",
              "  </tbody>\n",
              "</table>\n",
              "</div>\n",
              "      <button class=\"colab-df-convert\" onclick=\"convertToInteractive('df-5074d87e-a729-40cb-9610-325b72fd180b')\"\n",
              "              title=\"Convert this dataframe to an interactive table.\"\n",
              "              style=\"display:none;\">\n",
              "        \n",
              "  <svg xmlns=\"http://www.w3.org/2000/svg\" height=\"24px\"viewBox=\"0 0 24 24\"\n",
              "       width=\"24px\">\n",
              "    <path d=\"M0 0h24v24H0V0z\" fill=\"none\"/>\n",
              "    <path d=\"M18.56 5.44l.94 2.06.94-2.06 2.06-.94-2.06-.94-.94-2.06-.94 2.06-2.06.94zm-11 1L8.5 8.5l.94-2.06 2.06-.94-2.06-.94L8.5 2.5l-.94 2.06-2.06.94zm10 10l.94 2.06.94-2.06 2.06-.94-2.06-.94-.94-2.06-.94 2.06-2.06.94z\"/><path d=\"M17.41 7.96l-1.37-1.37c-.4-.4-.92-.59-1.43-.59-.52 0-1.04.2-1.43.59L10.3 9.45l-7.72 7.72c-.78.78-.78 2.05 0 2.83L4 21.41c.39.39.9.59 1.41.59.51 0 1.02-.2 1.41-.59l7.78-7.78 2.81-2.81c.8-.78.8-2.07 0-2.86zM5.41 20L4 18.59l7.72-7.72 1.47 1.35L5.41 20z\"/>\n",
              "  </svg>\n",
              "      </button>\n",
              "      \n",
              "  <style>\n",
              "    .colab-df-container {\n",
              "      display:flex;\n",
              "      flex-wrap:wrap;\n",
              "      gap: 12px;\n",
              "    }\n",
              "\n",
              "    .colab-df-convert {\n",
              "      background-color: #E8F0FE;\n",
              "      border: none;\n",
              "      border-radius: 50%;\n",
              "      cursor: pointer;\n",
              "      display: none;\n",
              "      fill: #1967D2;\n",
              "      height: 32px;\n",
              "      padding: 0 0 0 0;\n",
              "      width: 32px;\n",
              "    }\n",
              "\n",
              "    .colab-df-convert:hover {\n",
              "      background-color: #E2EBFA;\n",
              "      box-shadow: 0px 1px 2px rgba(60, 64, 67, 0.3), 0px 1px 3px 1px rgba(60, 64, 67, 0.15);\n",
              "      fill: #174EA6;\n",
              "    }\n",
              "\n",
              "    [theme=dark] .colab-df-convert {\n",
              "      background-color: #3B4455;\n",
              "      fill: #D2E3FC;\n",
              "    }\n",
              "\n",
              "    [theme=dark] .colab-df-convert:hover {\n",
              "      background-color: #434B5C;\n",
              "      box-shadow: 0px 1px 3px 1px rgba(0, 0, 0, 0.15);\n",
              "      filter: drop-shadow(0px 1px 2px rgba(0, 0, 0, 0.3));\n",
              "      fill: #FFFFFF;\n",
              "    }\n",
              "  </style>\n",
              "\n",
              "      <script>\n",
              "        const buttonEl =\n",
              "          document.querySelector('#df-5074d87e-a729-40cb-9610-325b72fd180b button.colab-df-convert');\n",
              "        buttonEl.style.display =\n",
              "          google.colab.kernel.accessAllowed ? 'block' : 'none';\n",
              "\n",
              "        async function convertToInteractive(key) {\n",
              "          const element = document.querySelector('#df-5074d87e-a729-40cb-9610-325b72fd180b');\n",
              "          const dataTable =\n",
              "            await google.colab.kernel.invokeFunction('convertToInteractive',\n",
              "                                                     [key], {});\n",
              "          if (!dataTable) return;\n",
              "\n",
              "          const docLinkHtml = 'Like what you see? Visit the ' +\n",
              "            '<a target=\"_blank\" href=https://colab.research.google.com/notebooks/data_table.ipynb>data table notebook</a>'\n",
              "            + ' to learn more about interactive tables.';\n",
              "          element.innerHTML = '';\n",
              "          dataTable['output_type'] = 'display_data';\n",
              "          await google.colab.output.renderOutput(dataTable, element);\n",
              "          const docLink = document.createElement('div');\n",
              "          docLink.innerHTML = docLinkHtml;\n",
              "          element.appendChild(docLink);\n",
              "        }\n",
              "      </script>\n",
              "    </div>\n",
              "  </div>\n",
              "  "
            ]
          },
          "metadata": {},
          "execution_count": 10
        }
      ],
      "source": [
        "df.head()"
      ],
      "metadata": {
        "colab": {
          "base_uri": "https://localhost:8080/",
          "height": 206
        },
        "id": "28o-IgLVPWqw",
        "outputId": "350a2eec-d09b-4785-f6d2-9a9c3c0ea807"
      }
    },
    {
      "cell_type": "code",
      "source": [
        "df.shape"
      ],
      "metadata": {
        "id": "1BQqGJ6aNGE4",
        "outputId": "c69da8ba-8ba2-4026-c38b-42957b7e9c81",
        "colab": {
          "base_uri": "https://localhost:8080/"
        }
      },
      "execution_count": 11,
      "outputs": [
        {
          "output_type": "execute_result",
          "data": {
            "text/plain": [
              "(1251, 4)"
            ]
          },
          "metadata": {},
          "execution_count": 11
        }
      ]
    },
    {
      "cell_type": "markdown",
      "source": [
        "## Get pictures as numpy arrays"
      ],
      "metadata": {
        "collapsed": false,
        "id": "w2zaDjn4PWqx"
      }
    },
    {
      "cell_type": "code",
      "execution_count": 12,
      "outputs": [
        {
          "output_type": "stream",
          "name": "stderr",
          "text": [
            "100%|██████████| 1251/1251 [00:00<00:00, 3292.45it/s]\n"
          ]
        }
      ],
      "source": [
        "# WARNING: This might take long\n",
        "from tqdm import tqdm\n",
        "from pathlib import Path\n",
        "images = []\n",
        "\n",
        "for image in tqdm(df['filename']):\n",
        "  path = path_to_pictures + image\n",
        "  try: \n",
        "    img = Image.open(path).convert('RGB') # I use that to make sure all the pictures are RGB\n",
        "    images.append(img)\n",
        "    #img = np.array(img)\n",
        "  except FileNotFoundError as e:\n",
        "    print(e)\n",
        "  "
      ],
      "metadata": {
        "colab": {
          "base_uri": "https://localhost:8080/"
        },
        "id": "EKDSiCOqPWqx",
        "outputId": "6e5240dd-a56c-43f3-aa1b-d623dcfcf009"
      }
    },
    {
      "cell_type": "code",
      "execution_count": 13,
      "outputs": [
        {
          "output_type": "execute_result",
          "data": {
            "text/plain": [
              "<PIL.Image.Image image mode=RGB size=64x64 at 0x7F2B1049BE50>"
            ],
            "image/png": "[encoded data removed]"
          },
          "metadata": {},
          "execution_count": 13
        }
      ],
      "source": [
        "images[0]"
      ],
      "metadata": {
        "colab": {
          "base_uri": "https://localhost:8080/",
          "height": 81
        },
        "id": "35ng0xCZPWqy",
        "outputId": "87e07d08-8b10-4964-d34c-efde41a3cd1a"
      }
    },
    {
      "cell_type": "code",
      "source": [
        "# Check sizes\n",
        "for idx, img in enumerate(images[0:5]):\n",
        "  img_array = np.array(img)\n",
        "  print(f\"Image {idx} has shape {img_array.shape}\")"
      ],
      "metadata": {
        "id": "Ov23dcXxS6J_",
        "outputId": "ebfcf944-026c-4f11-e13b-dbf4352ba920",
        "colab": {
          "base_uri": "https://localhost:8080/"
        }
      },
      "execution_count": 14,
      "outputs": [
        {
          "output_type": "stream",
          "name": "stdout",
          "text": [
            "Image 0 has shape (64, 64, 3)\n",
            "Image 1 has shape (64, 64, 3)\n",
            "Image 2 has shape (64, 64, 3)\n",
            "Image 3 has shape (64, 64, 3)\n",
            "Image 4 has shape (64, 64, 3)\n"
          ]
        }
      ]
    },
    {
      "cell_type": "code",
      "source": [
        "img_size = (64, 64)"
      ],
      "metadata": {
        "id": "8LYNntCSY3NI"
      },
      "execution_count": 15,
      "outputs": []
    },
    {
      "cell_type": "markdown",
      "source": [
        "# Normalize Pictures with PyTorch\n",
        "\n",
        "The normalization can constitute an effective way to speed up the computation in the model based on neural network architecture and learn faster by reducing the skewness. \n",
        "\n",
        "There are 2 steps to normalize the images: \n",
        "\n",
        "\n",
        "1.   Substract the channel mean from each input channel\n",
        "2.   Dived it by the channel standard deviation\n",
        "\n",
        "When we transformed an image into a PyTorch tensor, the pixel values are scaled between 0 and 1. In PyTorch, this transformation is done usint torchvision.transforms.ToTensor(). This converts the PIL image with a pixel range of 0 to 255 to a PyTorch FloatTensor of shape (C, H, W) with a range from 0 to 1. \n",
        "\n",
        "**Normalizing the images means transforming the images into such values that the mean and stadard deviation of the image become 0 and 1 respectively.**\n",
        "\n",
        "To actually normalize the image, then we use torchvision.transforms.Normalize(). \n",
        "\n",
        "Normalize() takes 2 parameters: \n",
        "* mean: Sequeance of means for each channel. \n",
        "* std. Sequence of standard deviations for each channel. \n",
        "And it returns a normalized tensor image. \n",
        "\n",
        "To normalize the image we first calculate the mean and standard deviation of 10 random pictures. "
      ],
      "metadata": {
        "id": "w8FVTRBxiYE4"
      }
    },
    {
      "cell_type": "code",
      "source": [
        "# Transform images to tensor images: \n",
        "tensor_images = []\n",
        "for idx, img in enumerate(images):\n",
        "  tensor_img = (T.ToTensor())(img) # Transform image to pixel values btw 0 and 1\n",
        "  tensor_images.append(tensor_img)"
      ],
      "metadata": {
        "id": "YKGC8ElysNus"
      },
      "execution_count": 16,
      "outputs": []
    },
    {
      "cell_type": "code",
      "source": [
        "# Plot pixel values of first image: \n",
        "array_img = np.array(tensor_images[0])\n",
        "\n",
        "plt.hist(array_img.ravel(), bins=50, density=True)\n",
        "plt.xlabel('pixel values')\n",
        "plt.ylabel('relative frequency')\n",
        "plt.title('distribution of pixels for first picture')"
      ],
      "metadata": {
        "id": "z_aXGRdKtUiN",
        "outputId": "d1f5ee40-6ece-44d1-bc7a-d96f3702af10",
        "colab": {
          "base_uri": "https://localhost:8080/",
          "height": 312
        }
      },
      "execution_count": 17,
      "outputs": [
        {
          "output_type": "execute_result",
          "data": {
            "text/plain": [
              "Text(0.5, 1.0, 'distribution of pixels for first picture')"
            ]
          },
          "metadata": {},
          "execution_count": 17
        },
        {
          "output_type": "display_data",
          "data": {
            "text/plain": [
              "<Figure size 432x288 with 1 Axes>"
            ],
            "image/png": "[encoded data removed]"
          },
          "metadata": {
            "needs_background": "light"
          }
        }
      ]
    },
    {
      "cell_type": "code",
      "source": [
        "# Calculate mean and standard deviation for 10 random pictures: \n",
        "import random\n",
        "mean_pixels = torch.zeros([3, 10])\n",
        "std_pixels = torch.zeros([3, 10])\n",
        "\n",
        "for idx, img in enumerate(random.sample(tensor_images, k=10)):\n",
        "  mean = img.mean([1,2])\n",
        "  std = img.std([1,2])\n",
        "  mean_pixels[:, idx] = mean \n",
        "  std_pixels[:, idx] = std\n",
        "\n",
        "mean = mean_pixels.mean(1)\n",
        "std = std_pixels.mean(1)\n",
        "\n",
        "print(f\"Mean of 10 random images: {mean}\")\n",
        "print(f\"Std of 10 random images: {std}\")"
      ],
      "metadata": {
        "id": "EHy3wyQNt2RY",
        "outputId": "e8dbe45c-0efc-44c9-c9ca-54763a1dfcdf",
        "colab": {
          "base_uri": "https://localhost:8080/"
        }
      },
      "execution_count": 18,
      "outputs": [
        {
          "output_type": "stream",
          "name": "stdout",
          "text": [
            "Mean of 10 random images: tensor([0.4702, 0.4341, 0.4095])\n",
            "Std of 10 random images: tensor([0.2187, 0.2035, 0.2012])\n"
          ]
        }
      ]
    },
    {
      "cell_type": "code",
      "source": [
        "normalized_images_tensor = []\n",
        "# normalized_images = []\n",
        "\n",
        "# Instanciate Normalize() function with calculated mean and std\n",
        "normalizer = T.Normalize(mean=list(mean), std=list(std))\n",
        "\n",
        "for idx, img in enumerate(tensor_images):\n",
        "  try: \n",
        "    normalized_img = normalizer(img)\n",
        "    normalized_images_tensor.append(normalized_img)\n",
        "    #normalized_img = T.ToPILImage()(normalized_img)\n",
        "    #normalized_images.append(normalized_img)\n",
        "  except RuntimeError as e:\n",
        "    # delete from the df: it is not working but i do not know why\n",
        "    # df = df.drop(index=idx)\n",
        "    print(f\"Normalization failed in index {idx}: {e}\")\n",
        "    print(\"Picture will be converted or deleted.\")\n"
      ],
      "metadata": {
        "id": "reZIJM3AirTL"
      },
      "execution_count": 19,
      "outputs": []
    },
    {
      "cell_type": "code",
      "source": [
        "print(f\"Normalized lists lenght is {len(normalized_images_tensor)}\")\n",
        "print(f\"df shape is {df.shape}\")"
      ],
      "metadata": {
        "id": "t7EASEMtsfAl",
        "colab": {
          "base_uri": "https://localhost:8080/"
        },
        "outputId": "a0dfaf9f-a9be-4cf6-96bb-0ba0c9934824"
      },
      "execution_count": 20,
      "outputs": [
        {
          "output_type": "stream",
          "name": "stdout",
          "text": [
            "Normalized lists lenght is 1251\n",
            "df shape is (1251, 4)\n"
          ]
        }
      ]
    },
    {
      "cell_type": "markdown",
      "source": [
        "# Convolutional neural network\n",
        "\n",
        "\n",
        "Advantages of CNN: \n",
        "* Fewer parameters are necessary to train the model. The kernel is used to calculate the outputs of the entire image, so the model has much fewer parameters compared to a fully connected layer. \n",
        "* For classification we do not need to consider all the relations between the feature. \n",
        "* Fully connected neural networks are big and therefore computationally inefficient. \n",
        "* With CNN the unit share weights (the kernel), which makes the model more eficcient. \n",
        "* Sparsity of connections: In each layer, each output element only depends on a small number of input elements, which makes the forward and backward passes more efficient. \n",
        "* Parameter sharing and spatial invariance: The features learned by a kernel in one part of the image can be used to detect a similar pattern in a different part of another image. \n",
        "\n",
        "Sources: \n",
        "* https://towardsdatascience.com/intuitively-understanding-convolutions-for-deep-learning-1f6f42faee1\n",
        "* https://medium.com/analytics-vidhya/image-classification-with-pytorch-184e76c2cf3b"
      ],
      "metadata": {
        "id": "18F0mS3L2Y4k"
      }
    },
    {
      "cell_type": "markdown",
      "source": [
        "![giphy.webp](data:image/webp;base64,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)\n",
        "\n",
        "Source: https://giphy.com/gifs/blog-daniel-keypoints-i4NjAwytgIRDW\n",
        "\n"
      ],
      "metadata": {
        "id": "gdU5Aebo2bQI"
      }
    },
    {
      "cell_type": "markdown",
      "source": [
        "## 1) Prepare Data"
      ],
      "metadata": {
        "id": "bUh3YPQdS7jW"
      }
    },
    {
      "cell_type": "markdown",
      "source": [
        "### Get Tensordataset"
      ],
      "metadata": {
        "id": "0S043JdVtsnD"
      }
    },
    {
      "cell_type": "code",
      "source": [
        "# Get target (gender): \n",
        "tensor_y = np.array(df['age'][0:8])\n",
        "tensor_y = torch.from_numpy(tensor_y)"
      ],
      "metadata": {
        "id": "txOt-SpDZB6U"
      },
      "execution_count": 96,
      "outputs": []
    },
    {
      "cell_type": "code",
      "source": [
        "# Get features (images)\n",
        "X = normalized_images_tensor[0:8]\n",
        "X[0].shape"
      ],
      "metadata": {
        "id": "PGJZomAgXIWp",
        "colab": {
          "base_uri": "https://localhost:8080/"
        },
        "outputId": "3543c763-589c-4dab-e810-8b00034d1110"
      },
      "execution_count": 97,
      "outputs": [
        {
          "output_type": "execute_result",
          "data": {
            "text/plain": [
              "torch.Size([3, 64, 64])"
            ]
          },
          "metadata": {},
          "execution_count": 97
        }
      ]
    },
    {
      "cell_type": "code",
      "source": [
        "# X is a list of tensors. In this cell we transform X from list into a tensor itself. \n",
        "tensor_X = torch.zeros(len(X), 3, img_size[0], img_size[1])\n",
        "for idx, x in enumerate(X):\n",
        "  tensor_X[idx] = x "
      ],
      "metadata": {
        "id": "nvRqhl5ZWhE2"
      },
      "execution_count": 98,
      "outputs": []
    },
    {
      "cell_type": "code",
      "source": [
        "from torch.utils.data import TensorDataset\n",
        "tensor_ds = TensorDataset(tensor_X, tensor_y)"
      ],
      "metadata": {
        "id": "PPCXkf_EJxMl"
      },
      "execution_count": 99,
      "outputs": []
    },
    {
      "cell_type": "code",
      "source": [
        "len(tensor_ds)"
      ],
      "metadata": {
        "id": "2bLoKQ3a6TYK",
        "colab": {
          "base_uri": "https://localhost:8080/"
        },
        "outputId": "f48fddd2-aaa1-42d4-bc42-a12e53cb94d9"
      },
      "execution_count": 100,
      "outputs": [
        {
          "output_type": "execute_result",
          "data": {
            "text/plain": [
              "8"
            ]
          },
          "metadata": {},
          "execution_count": 100
        }
      ]
    },
    {
      "cell_type": "code",
      "source": [
        "img, label = tensor_ds[4]\n",
        "print(img.shape, label)"
      ],
      "metadata": {
        "id": "HlAKDa2Vu2UW",
        "colab": {
          "base_uri": "https://localhost:8080/"
        },
        "outputId": "2bbbc7e5-02f7-4f07-cfe9-b43b4aca864c"
      },
      "execution_count": 101,
      "outputs": [
        {
          "output_type": "stream",
          "name": "stdout",
          "text": [
            "torch.Size([3, 64, 64]) tensor(37)\n"
          ]
        }
      ]
    },
    {
      "cell_type": "code",
      "source": [
        "plt.imshow(img.permute(1, 2, 0))\n",
        "plt.show()"
      ],
      "metadata": {
        "id": "AK-Pv3JevB38",
        "colab": {
          "base_uri": "https://localhost:8080/",
          "height": 285
        },
        "outputId": "b56ea06c-21d1-4b13-dc63-e27c8c315c98"
      },
      "execution_count": 102,
      "outputs": [
        {
          "output_type": "stream",
          "name": "stderr",
          "text": [
            "WARNING:matplotlib.image:Clipping input data to the valid range for imshow with RGB data ([0..1] for floats or [0..255] for integers).\n"
          ]
        },
        {
          "output_type": "display_data",
          "data": {
            "text/plain": [
              "<Figure size 432x288 with 1 Axes>"
            ],
            "image/png": "[encoded data removed]"
          },
          "metadata": {
            "needs_background": "light"
          }
        }
      ]
    },
    {
      "cell_type": "markdown",
      "source": [
        "### Split dataset with PyTorch"
      ],
      "metadata": {
        "id": "Q6K1pODDygVY"
      }
    },
    {
      "cell_type": "code",
      "source": [
        "from torch.utils.data import random_split\n",
        "# Random numbers will be generated always on the same way, so we can compare models. \n",
        "random_seed = 42\n",
        "torch.manual_seed(random_seed)"
      ],
      "metadata": {
        "id": "ZROv3BtnyjKk",
        "colab": {
          "base_uri": "https://localhost:8080/"
        },
        "outputId": "9801bbaf-9b91-4088-e81b-f7cb0c07aa34"
      },
      "execution_count": 103,
      "outputs": [
        {
          "output_type": "execute_result",
          "data": {
            "text/plain": [
              "<torch._C.Generator at 0x7f2b1a54b310>"
            ]
          },
          "metadata": {},
          "execution_count": 103
        }
      ]
    },
    {
      "cell_type": "markdown",
      "source": [
        "20% of the images will be used for validate the model. "
      ],
      "metadata": {
        "id": "ruyPfVL4zBC9"
      }
    },
    {
      "cell_type": "code",
      "source": [
        "# split dataset with PyTorch\n",
        "test_size = int(len(tensor_ds) * 0.2)\n",
        "train_size = len(tensor_ds) - test_size\n",
        "print(f\"Dataset has length {len(tensor_ds)}, train set has length {train_size} and test set has length {test_size}.\")\n",
        "print(f\"Total length is {train_size + test_size}.\")"
      ],
      "metadata": {
        "id": "iy1ouxsdJxQt",
        "colab": {
          "base_uri": "https://localhost:8080/"
        },
        "outputId": "6df5b581-315a-4001-b4d8-664b053886ae"
      },
      "execution_count": 104,
      "outputs": [
        {
          "output_type": "stream",
          "name": "stdout",
          "text": [
            "Dataset has length 8, train set has length 7 and test set has length 1.\n",
            "Total length is 8.\n"
          ]
        }
      ]
    },
    {
      "cell_type": "code",
      "source": [
        "train_ds, test_ds = random_split(tensor_ds, [train_size, test_size])\n",
        "print(len(train_ds))\n",
        "print(len(test_ds))"
      ],
      "metadata": {
        "id": "djjnJxrB6aBe",
        "colab": {
          "base_uri": "https://localhost:8080/"
        },
        "outputId": "cd129746-3f18-474f-9951-f69183f6ae44"
      },
      "execution_count": 105,
      "outputs": [
        {
          "output_type": "stream",
          "name": "stdout",
          "text": [
            "7\n",
            "1\n"
          ]
        }
      ]
    },
    {
      "cell_type": "code",
      "source": [
        "# Load the data\n",
        "from torch.utils.data import DataLoader\n",
        "batch_size=8\n",
        "train_loader = DataLoader(train_ds, batch_size, shuffle=True, num_workers=2)\n",
        "test_loader = DataLoader(test_ds, batch_size)"
      ],
      "metadata": {
        "id": "msyPFzWXiD2b"
      },
      "execution_count": 106,
      "outputs": []
    },
    {
      "cell_type": "markdown",
      "source": [
        "The dataloader allows to split the data into batches of a predifined size while training. The pictures for the dataloader will be randomly selected (shuffle=True)"
      ],
      "metadata": {
        "id": "cgcvrviSjLkX"
      }
    },
    {
      "cell_type": "code",
      "source": [
        "# Show a batch of data: \n",
        "from torchvision.utils import make_grid\n",
        "\n",
        "def show_batch(dataloader): \n",
        "  for images, labels in dataloader:\n",
        "    fg, ax = plt.subplots(figsize=(12,6))\n",
        "    ax.set_xticks([])\n",
        "    ax.set_yticks([])\n",
        "    ax.imshow(make_grid(images, nrow=16).permute(1, 2, 0))\n",
        "    break;\n"
      ],
      "metadata": {
        "id": "-rN1psq2iD5C"
      },
      "execution_count": 107,
      "outputs": []
    },
    {
      "cell_type": "code",
      "source": [
        "show_batch(train_loader)"
      ],
      "metadata": {
        "id": "GQSCqjUJiD9K",
        "colab": {
          "base_uri": "https://localhost:8080/",
          "height": 150
        },
        "outputId": "a475e256-1bdf-4d14-a7bc-6ec663006236"
      },
      "execution_count": 108,
      "outputs": [
        {
          "output_type": "stream",
          "name": "stderr",
          "text": [
            "WARNING:matplotlib.image:Clipping input data to the valid range for imshow with RGB data ([0..1] for floats or [0..255] for integers).\n"
          ]
        },
        {
          "output_type": "display_data",
          "data": {
            "text/plain": [
              "<Figure size 864x432 with 1 Axes>"
            ],
            "image/png": "[encoded data removed]"
          },
          "metadata": {}
        }
      ]
    },
    {
      "cell_type": "markdown",
      "source": [
        "## 2) Create Model"
      ],
      "metadata": {
        "id": "7MgNGC3KN67K"
      }
    },
    {
      "cell_type": "code",
      "source": [
        "# Define initial number of kernels. \n",
        "num_kernels = img_size[0]\n",
        "num_kernels\n",
        "X[0].shape"
      ],
      "metadata": {
        "id": "4yl2TRqHcewB",
        "colab": {
          "base_uri": "https://localhost:8080/"
        },
        "outputId": "d1c27786-5bc7-4b29-8858-2ffb7dbaf2ba"
      },
      "execution_count": 109,
      "outputs": [
        {
          "output_type": "execute_result",
          "data": {
            "text/plain": [
              "torch.Size([3, 64, 64])"
            ]
          },
          "metadata": {},
          "execution_count": 109
        }
      ]
    },
    {
      "cell_type": "code",
      "source": [
        "from torch import nn\n",
        "\n",
        "class Model(nn.Module): \n",
        "  def __init__(self): \n",
        "    super().__init__()\n",
        "    self.network = nn.Sequential(\n",
        "        nn.Conv2d(3, num_kernels, kernel_size=3, padding=1),\n",
        "        nn.ReLU(), \n",
        "        nn.Conv2d(num_kernels, num_kernels*2, kernel_size=3, stride=1, padding=1),\n",
        "        nn.ReLU(),\n",
        "        nn.MaxPool2d(2,2), # Output: 64x16x16\n",
        "        #MaxPool reduce the size of the image by half (if it was 32x32, becomes 16x16)\n",
        "\n",
        "        nn.Conv2d(num_kernels*2, num_kernels*3, kernel_size=3, padding=1, stride=1),\n",
        "        nn.ReLU(), \n",
        "        nn.Conv2d(num_kernels*3, num_kernels*3, kernel_size=3, stride=1, padding=1),\n",
        "        nn.ReLU(),\n",
        "        nn.MaxPool2d(2,2), # Output: 128x8x8\n",
        "\n",
        "        nn.Conv2d(num_kernels*3, num_kernels*4, kernel_size=3, stride=1, padding=1),\n",
        "        nn.ReLU(), \n",
        "        nn.Conv2d(num_kernels*4, num_kernels*4, kernel_size=3, stride=1, padding=1),\n",
        "        nn.ReLU(),\n",
        "        # MaxPool2d reduces the image of a picture by half\n",
        "        nn.MaxPool2d(2,2), # Output: 256x4x4\n",
        "\n",
        "        # Flatten() reduces the 3 dimensions in one dimension. \n",
        "        nn.Flatten(), # 5x32768\n",
        "        nn.Linear(num_kernels*4 *4*4*4, num_kernels*4*4), #32.768 , 8.192\n",
        "        nn.ReLU(),\n",
        "        nn.Linear(num_kernels*4*4, num_kernels*4),# 8.192, 1024\n",
        "        nn.ReLU(),\n",
        "        nn.Linear(num_kernels*4, 1), #1024, 120\n",
        "        #nn.ReLU(), # To make sure there is at the end a number > 0\n",
        "    )\n",
        "  def forward(self, x):\n",
        "    return self.network(x)"
      ],
      "metadata": {
        "id": "IVbFF_8_N6cy"
      },
      "execution_count": 116,
      "outputs": []
    },
    {
      "cell_type": "code",
      "source": [
        "# Use Google Collabs GPU\n",
        "def get_device():\n",
        "  if torch.cuda.is_available():\n",
        "    return torch.device('cuda')\n",
        "  else:\n",
        "    return torch.device('cpu')"
      ],
      "metadata": {
        "id": "JAIeDqFFEAil"
      },
      "execution_count": 117,
      "outputs": []
    },
    {
      "cell_type": "code",
      "source": [
        "def to_device(data, device):\n",
        "  if isinstance(data, (list, tuple)):\n",
        "    return [to_device(x, device) for x in data]\n",
        "  return data.to(device, non_blocking=True)"
      ],
      "metadata": {
        "id": "OfcDRyxTFCua"
      },
      "execution_count": 118,
      "outputs": []
    },
    {
      "cell_type": "markdown",
      "source": [
        "## 3) Train the model"
      ],
      "metadata": {
        "id": "Iw4hEsFpexPL"
      }
    },
    {
      "cell_type": "code",
      "source": [
        "def fit(model, train_loader, num_epochs, optimizer, loss_function):\n",
        "  #log = {}\n",
        "  # Tell the model we are in training mode. \n",
        "  # model.train()\n",
        "\n",
        "  for epoch in range(num_epochs): # for each number of epochs. \n",
        "    model.train()\n",
        "    #losses = []\n",
        "    for x, y in train_loader: # for each batch in the train loader: \n",
        "      prediction = model(x) # The prediction is 3x1 but we need a tensor of 3.\n",
        "      y = y[:, None]\n",
        "      #prediction = prediction.squeeze()\n",
        "      loss = loss_function(prediction, y)\n",
        "      loss.backward()\n",
        "      optimizer.step()\n",
        "      optimizer.zero_grad()\n",
        "    #log[epoch] = sum(losses) / len(losses)\n",
        "    print(f\"Epoch [{epoch + 1 }/{num_epochs}] loss: {loss.item()}.\")\n",
        "\n"
      ],
      "metadata": {
        "id": "dgvv5kZx8BdL"
      },
      "execution_count": 119,
      "outputs": []
    },
    {
      "cell_type": "code",
      "source": [
        "# Initialize the model\n",
        "# model = to_device(Model(), get_device()) \n",
        "model = Model()\n",
        "\n",
        "# Create Optimizer\n",
        "optimizer = torch.optim.Adam(model.parameters())\n",
        "# Other optimizer could be the stochastic gradient descent\n",
        "# torch.optim.SGD(model.parameters(), lr=1e-5)\n",
        "\n",
        "# define loss function\n",
        "loss_function = nn.L1Loss()\n",
        "\n",
        "# Train the model using the function above: \n",
        "fit(model, train_loader, 200, optimizer, loss_function)"
      ],
      "metadata": {
        "id": "5d75NM3-99dl",
        "colab": {
          "base_uri": "https://localhost:8080/",
          "height": 1000
        },
        "outputId": "44045fee-c35e-437e-de25-4169a4af191d"
      },
      "execution_count": 121,
      "outputs": [
        {
          "output_type": "stream",
          "name": "stdout",
          "text": [
            "Epoch [1/200] loss: 36.61101150512695.\n",
            "Epoch [2/200] loss: 35.700477600097656.\n",
            "Epoch [3/200] loss: 7.6700310707092285.\n",
            "Epoch [4/200] loss: 34.277442932128906.\n",
            "Epoch [5/200] loss: 36.253231048583984.\n",
            "Epoch [6/200] loss: 36.45847702026367.\n",
            "Epoch [7/200] loss: 36.48662567138672.\n",
            "Epoch [8/200] loss: 36.47623062133789.\n",
            "Epoch [9/200] loss: 36.44542694091797.\n",
            "Epoch [10/200] loss: 36.38482666015625.\n",
            "Epoch [11/200] loss: 36.26270294189453.\n",
            "Epoch [12/200] loss: 36.01736831665039.\n",
            "Epoch [13/200] loss: 35.508460998535156.\n",
            "Epoch [14/200] loss: 34.37281036376953.\n",
            "Epoch [15/200] loss: 31.5634822845459.\n",
            "Epoch [16/200] loss: 24.16172981262207.\n",
            "Epoch [17/200] loss: 4.578084468841553.\n",
            "Epoch [18/200] loss: 46.22692108154297.\n",
            "Epoch [19/200] loss: 28.626800537109375.\n",
            "Epoch [20/200] loss: 3.120537042617798.\n",
            "Epoch [21/200] loss: 16.263378143310547.\n",
            "Epoch [22/200] loss: 22.410551071166992.\n",
            "Epoch [23/200] loss: 24.97857093811035.\n",
            "Epoch [24/200] loss: 25.827007293701172.\n",
            "Epoch [25/200] loss: 25.61289405822754.\n",
            "Epoch [26/200] loss: 24.420331954956055.\n",
            "Epoch [27/200] loss: 21.985965728759766.\n",
            "Epoch [28/200] loss: 17.613889694213867.\n",
            "Epoch [29/200] loss: 9.673294067382812.\n",
            "Epoch [30/200] loss: 6.789622783660889.\n",
            "Epoch [31/200] loss: 14.339834213256836.\n",
            "Epoch [32/200] loss: 10.151163101196289.\n",
            "Epoch [33/200] loss: 2.5736823081970215.\n",
            "Epoch [34/200] loss: 9.565520286560059.\n",
            "Epoch [35/200] loss: 12.995919227600098.\n",
            "Epoch [36/200] loss: 13.101881980895996.\n",
            "Epoch [37/200] loss: 10.445724487304688.\n",
            "Epoch [38/200] loss: 4.293002128601074.\n"
          ]
        },
        {
          "output_type": "error",
          "ename": "KeyboardInterrupt",
          "evalue": "ignored",
          "traceback": [
            "\u001b[0;31m---------------------------------------------------------------------------\u001b[0m",
            "\u001b[0;31mKeyboardInterrupt\u001b[0m                         Traceback (most recent call last)",
            "\u001b[0;32m<ipython-input-121-c5b36f83e2d5>\u001b[0m in \u001b[0;36m<module>\u001b[0;34m\u001b[0m\n\u001b[1;32m     12\u001b[0m \u001b[0;34m\u001b[0m\u001b[0m\n\u001b[1;32m     13\u001b[0m \u001b[0;31m# Train the model using the function above:\u001b[0m\u001b[0;34m\u001b[0m\u001b[0;34m\u001b[0m\u001b[0;34m\u001b[0m\u001b[0m\n\u001b[0;32m---> 14\u001b[0;31m \u001b[0mfit\u001b[0m\u001b[0;34m(\u001b[0m\u001b[0mmodel\u001b[0m\u001b[0;34m,\u001b[0m \u001b[0mtrain_loader\u001b[0m\u001b[0;34m,\u001b[0m \u001b[0;36m200\u001b[0m\u001b[0;34m,\u001b[0m \u001b[0moptimizer\u001b[0m\u001b[0;34m,\u001b[0m \u001b[0mloss_function\u001b[0m\u001b[0;34m)\u001b[0m\u001b[0;34m\u001b[0m\u001b[0;34m\u001b[0m\u001b[0m\n\u001b[0m",
            "\u001b[0;32m<ipython-input-119-2b94d1e7f36b>\u001b[0m in \u001b[0;36mfit\u001b[0;34m(model, train_loader, num_epochs, optimizer, loss_function)\u001b[0m\n\u001b[1;32m     12\u001b[0m       \u001b[0;31m#prediction = prediction.squeeze()\u001b[0m\u001b[0;34m\u001b[0m\u001b[0;34m\u001b[0m\u001b[0;34m\u001b[0m\u001b[0m\n\u001b[1;32m     13\u001b[0m       \u001b[0mloss\u001b[0m \u001b[0;34m=\u001b[0m \u001b[0mloss_function\u001b[0m\u001b[0;34m(\u001b[0m\u001b[0mprediction\u001b[0m\u001b[0;34m,\u001b[0m \u001b[0my\u001b[0m\u001b[0;34m)\u001b[0m\u001b[0;34m\u001b[0m\u001b[0;34m\u001b[0m\u001b[0m\n\u001b[0;32m---> 14\u001b[0;31m       \u001b[0mloss\u001b[0m\u001b[0;34m.\u001b[0m\u001b[0mbackward\u001b[0m\u001b[0;34m(\u001b[0m\u001b[0;34m)\u001b[0m\u001b[0;34m\u001b[0m\u001b[0;34m\u001b[0m\u001b[0m\n\u001b[0m\u001b[1;32m     15\u001b[0m       \u001b[0moptimizer\u001b[0m\u001b[0;34m.\u001b[0m\u001b[0mstep\u001b[0m\u001b[0;34m(\u001b[0m\u001b[0;34m)\u001b[0m\u001b[0;34m\u001b[0m\u001b[0;34m\u001b[0m\u001b[0m\n\u001b[1;32m     16\u001b[0m       \u001b[0moptimizer\u001b[0m\u001b[0;34m.\u001b[0m\u001b[0mzero_grad\u001b[0m\u001b[0;34m(\u001b[0m\u001b[0;34m)\u001b[0m\u001b[0;34m\u001b[0m\u001b[0;34m\u001b[0m\u001b[0m\n",
            "\u001b[0;32m/usr/local/lib/python3.7/dist-packages/torch/_tensor.py\u001b[0m in \u001b[0;36mbackward\u001b[0;34m(self, gradient, retain_graph, create_graph, inputs)\u001b[0m\n\u001b[1;32m    394\u001b[0m                 \u001b[0mcreate_graph\u001b[0m\u001b[0;34m=\u001b[0m\u001b[0mcreate_graph\u001b[0m\u001b[0;34m,\u001b[0m\u001b[0;34m\u001b[0m\u001b[0;34m\u001b[0m\u001b[0m\n\u001b[1;32m    395\u001b[0m                 inputs=inputs)\n\u001b[0;32m--> 396\u001b[0;31m         \u001b[0mtorch\u001b[0m\u001b[0;34m.\u001b[0m\u001b[0mautograd\u001b[0m\u001b[0;34m.\u001b[0m\u001b[0mbackward\u001b[0m\u001b[0;34m(\u001b[0m\u001b[0mself\u001b[0m\u001b[0;34m,\u001b[0m \u001b[0mgradient\u001b[0m\u001b[0;34m,\u001b[0m \u001b[0mretain_graph\u001b[0m\u001b[0;34m,\u001b[0m \u001b[0mcreate_graph\u001b[0m\u001b[0;34m,\u001b[0m \u001b[0minputs\u001b[0m\u001b[0;34m=\u001b[0m\u001b[0minputs\u001b[0m\u001b[0;34m)\u001b[0m\u001b[0;34m\u001b[0m\u001b[0;34m\u001b[0m\u001b[0m\n\u001b[0m\u001b[1;32m    397\u001b[0m \u001b[0;34m\u001b[0m\u001b[0m\n\u001b[1;32m    398\u001b[0m     \u001b[0;32mdef\u001b[0m \u001b[0mregister_hook\u001b[0m\u001b[0;34m(\u001b[0m\u001b[0mself\u001b[0m\u001b[0;34m,\u001b[0m \u001b[0mhook\u001b[0m\u001b[0;34m)\u001b[0m\u001b[0;34m:\u001b[0m\u001b[0;34m\u001b[0m\u001b[0;34m\u001b[0m\u001b[0m\n",
            "\u001b[0;32m/usr/local/lib/python3.7/dist-packages/torch/autograd/__init__.py\u001b[0m in \u001b[0;36mbackward\u001b[0;34m(tensors, grad_tensors, retain_graph, create_graph, grad_variables, inputs)\u001b[0m\n\u001b[1;32m    173\u001b[0m     Variable._execution_engine.run_backward(  # Calls into the C++ engine to run the backward pass\n\u001b[1;32m    174\u001b[0m         \u001b[0mtensors\u001b[0m\u001b[0;34m,\u001b[0m \u001b[0mgrad_tensors_\u001b[0m\u001b[0;34m,\u001b[0m \u001b[0mretain_graph\u001b[0m\u001b[0;34m,\u001b[0m \u001b[0mcreate_graph\u001b[0m\u001b[0;34m,\u001b[0m \u001b[0minputs\u001b[0m\u001b[0;34m,\u001b[0m\u001b[0;34m\u001b[0m\u001b[0;34m\u001b[0m\u001b[0m\n\u001b[0;32m--> 175\u001b[0;31m         allow_unreachable=True, accumulate_grad=True)  # Calls into the C++ engine to run the backward pass\n\u001b[0m\u001b[1;32m    176\u001b[0m \u001b[0;34m\u001b[0m\u001b[0m\n\u001b[1;32m    177\u001b[0m def grad(\n",
            "\u001b[0;31mKeyboardInterrupt\u001b[0m: "
          ]
        }
      ]
    },
    {
      "cell_type": "code",
      "source": [
        "def evaluate(loader, name=\"Training\"):\n",
        "  # Get predictions\n",
        "  absolute_error, total = 0, 0 \n",
        "\n",
        "  # This tells PyTorch that the model is in evalution mode. \n",
        "  model.eval() \n",
        "  for idx, (x, y) in enumerate(loader):\n",
        "    prediction = model(x).squeeze()\n",
        "    #max_prob, prediction = torch.max(output, 1)\n",
        "    total += y.size(0)\n",
        "    absolute_error += ((prediction - y).abs()).sum().item()\n",
        "\n",
        "  mean_absolute_error = absolute_error/ total \n",
        "  print(f\"{name} => Mean Absolute error is {mean_absolute_error:.2f} years\")\n",
        "\n",
        "evaluate(train_loader)\n",
        "evaluate(test_loader, \"Testing\")\n"
      ],
      "metadata": {
        "id": "Czm5vd2rTB3e",
        "colab": {
          "base_uri": "https://localhost:8080/"
        },
        "outputId": "06c67a95-44b7-4071-c880-1f43d3c34979"
      },
      "execution_count": 122,
      "outputs": [
        {
          "output_type": "stream",
          "name": "stdout",
          "text": [
            "Training => Mean Absolute error is 7.88 years\n",
            "Testing => Mean Absolute error is 10.38 years\n"
          ]
        }
      ]
    },
    {
      "cell_type": "code",
      "source": [
        "def predict(): \n",
        "  "
      ],
      "metadata": {
        "id": "leLsWjhUcUm6"
      },
      "execution_count": null,
      "outputs": []
    },
    {
      "cell_type": "code",
      "source": [
        "# Source: \n",
        "# https://www.analyticsvidhya.com/blog/2019/12/image-augmentation-deep-learning-pytorch/"
      ],
      "metadata": {
        "id": "RFLU0GiVHBM0"
      },
      "execution_count": null,
      "outputs": []
    }
  ],
  "metadata": {
    "kernelspec": {
      "display_name": "Python 3",
      "language": "python",
      "name": "python3"
    },
    "language_info": {
      "codemirror_mode": {
        "name": "ipython",
        "version": 2
      },
      "file_extension": ".py",
      "mimetype": "text/x-python",
      "name": "python",
      "nbconvert_exporter": "python",
      "pygments_lexer": "ipython2",
      "version": "2.7.6"
    },
    "colab": {
      "provenance": []
    },
    "gpuClass": "standard"
  },
  "nbformat": 4,
  "nbformat_minor": 0
}