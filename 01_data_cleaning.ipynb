{
  "cells": [
    {
      "cell_type": "code",
      "source": [
        "from google.colab import drive\n",
        "drive.mount('/content/drive')"
      ],
      "metadata": {
        "id": "I445RLkYcnbc",
        "outputId": "bc5d8aec-887a-4722-e15e-4648bcd9fa9f",
        "colab": {
          "base_uri": "https://localhost:8080/"
        }
      },
      "execution_count": 1,
      "outputs": [
        {
          "output_type": "stream",
          "name": "stdout",
          "text": [
            "Drive already mounted at /content/drive; to attempt to forcibly remount, call drive.mount(\"/content/drive\", force_remount=True).\n"
          ]
        }
      ]
    },
    {
      "cell_type": "code",
      "source": [
        "path_to_pictures = '/content/drive/MyDrive/pic/'"
      ],
      "metadata": {
        "id": "vnOcrtVvcqHs"
      },
      "execution_count": 2,
      "outputs": []
    },
    {
      "cell_type": "markdown",
      "source": [
        "# Import libraries and Modules"
      ],
      "metadata": {
        "collapsed": false,
        "id": "yKmZoCanbZqo"
      }
    },
    {
      "cell_type": "code",
      "execution_count": 3,
      "outputs": [],
      "source": [
        "import os\n",
        "import pandas as pd\n",
        "import numpy as np"
      ],
      "metadata": {
        "id": "JNrSiJxobZqq"
      }
    },
    {
      "cell_type": "markdown",
      "source": [
        "# Upload Pictures"
      ],
      "metadata": {
        "collapsed": false,
        "id": "k9bwtOVJbZqt"
      }
    },
    {
      "cell_type": "code",
      "execution_count": 4,
      "outputs": [],
      "source": [
        "path = os.path.realpath(path_to_pictures)\n",
        "# If the given path is a directory, open the directory and store the pictures in  a list\n",
        "picture_list = []\n",
        "if os.path.isdir(path):\n",
        "    for file in os.listdir(path):\n",
        "        if file.endswith(\".jpg\"):\n",
        "            picture_list.append(file)"
      ],
      "metadata": {
        "id": "XKkPNTLfbZqt"
      }
    },
    {
      "cell_type": "code",
      "execution_count": 5,
      "outputs": [
        {
          "output_type": "execute_result",
          "data": {
            "text/plain": [
              "['36_0_0_20170109003426572.jpg',\n",
              " '49_1_0_20170109011101339.jpg',\n",
              " '69_0_0_20170109011208585.jpg',\n",
              " '30_1_0_20170109001620649.jpg',\n",
              " '26_1_4_20170109002629914.jpg']"
            ]
          },
          "metadata": {},
          "execution_count": 5
        }
      ],
      "source": [
        "picture_list[0:5]"
      ],
      "metadata": {
        "id": "9ZwD_fWBbZqu",
        "outputId": "ff5f2e8a-6aef-472f-fdc7-b1f9dafeba7b",
        "colab": {
          "base_uri": "https://localhost:8080/"
        }
      }
    },
    {
      "cell_type": "markdown",
      "source": [
        "# Create a Dataset from the labels\n",
        "\n",
        "* Age\n",
        "* Gender\n",
        "* Ethnicity\n",
        "* picture name / picture path"
      ],
      "metadata": {
        "collapsed": false,
        "id": "P1jKNwpGbZqu"
      }
    },
    {
      "cell_type": "code",
      "execution_count": 6,
      "outputs": [
        {
          "output_type": "stream",
          "name": "stdout",
          "text": [
            "36_0_0_20170109003426572.jpg\n"
          ]
        }
      ],
      "source": [
        "# Each picture name looks like: age_gender_ethnicity_id.jpg\n",
        "print(picture_list[0])"
      ],
      "metadata": {
        "id": "PsJC2tAEbZqv",
        "outputId": "ae0460ff-d5c6-423a-e6b3-88544dac23e2",
        "colab": {
          "base_uri": "https://localhost:8080/"
        }
      }
    },
    {
      "cell_type": "code",
      "execution_count": 7,
      "outputs": [
        {
          "output_type": "stream",
          "name": "stdout",
          "text": [
            "['36', '0', '0', '20170109003426572.jpg']\n"
          ]
        }
      ],
      "source": [
        "# We applied split() to get an array with the labels for the picture.\n",
        "temp = picture_list[0].split('_')\n",
        "print(temp)"
      ],
      "metadata": {
        "id": "srhrUvKibZqw",
        "outputId": "57c46a73-1d7e-41a2-c233-e04cce513fbd",
        "colab": {
          "base_uri": "https://localhost:8080/"
        }
      }
    },
    {
      "cell_type": "code",
      "execution_count": 8,
      "outputs": [],
      "source": [
        "age_labels = []\n",
        "gender_labels = []\n",
        "ethnicity_labels = []\n",
        "\n",
        "for file in picture_list:\n",
        "    temp = file.split(\"_\")\n",
        "    age_labels.append(temp[0])\n",
        "    gender_labels.append(temp[1])\n",
        "    ethnicity_labels.append(temp[2])\n"
      ],
      "metadata": {
        "id": "X-T8zka8bZqx"
      }
    },
    {
      "cell_type": "markdown",
      "source": [
        "Convert to a dataframe"
      ],
      "metadata": {
        "collapsed": false,
        "id": "LWJRBTOmbZqy"
      }
    },
    {
      "cell_type": "code",
      "execution_count": 9,
      "outputs": [],
      "source": [
        "df = pd.DataFrame()\n",
        "df[\"filename\"] = picture_list\n",
        "df[\"age\"] = age_labels\n",
        "df[\"gender\"] = gender_labels\n",
        "df[\"ethnicity\"] = ethnicity_labels"
      ],
      "metadata": {
        "id": "zq_Gy0tybZqz"
      }
    },
    {
      "cell_type": "code",
      "execution_count": 10,
      "outputs": [],
      "source": [
        "# map labels\n",
        "gender_dict = {0: 'Male', 1: 'Female'}\n",
        "ethnicity_dict = {}"
      ],
      "metadata": {
        "id": "7-WwWKaBbZqz"
      }
    },
    {
      "cell_type": "markdown",
      "source": [
        "# Data inspection and Data cleaning"
      ],
      "metadata": {
        "collapsed": false,
        "id": "6zV09Lb6bZqz"
      }
    },
    {
      "cell_type": "markdown",
      "source": [
        "## Data shape"
      ],
      "metadata": {
        "collapsed": false,
        "id": "7DnCxJccbZq0"
      }
    },
    {
      "cell_type": "code",
      "execution_count": 11,
      "outputs": [
        {
          "output_type": "execute_result",
          "data": {
            "text/plain": [
              "(10137, 4)"
            ]
          },
          "metadata": {},
          "execution_count": 11
        }
      ],
      "source": [
        "df.shape"
      ],
      "metadata": {
        "id": "ahhqKb-_bZq0",
        "outputId": "2e060681-4a8d-4e1b-d461-14830f7e66de",
        "colab": {
          "base_uri": "https://localhost:8080/"
        }
      }
    },
    {
      "cell_type": "code",
      "execution_count": 12,
      "outputs": [
        {
          "output_type": "display_data",
          "data": {
            "text/plain": [
              "                           filename age gender ethnicity\n",
              "0      36_0_0_20170109003426572.jpg  36      0         0\n",
              "1      49_1_0_20170109011101339.jpg  49      1         0\n",
              "2      69_0_0_20170109011208585.jpg  69      0         0\n",
              "3      30_1_0_20170109001620649.jpg  30      1         0\n",
              "4      26_1_4_20170109002629914.jpg  26      1         4\n",
              "...                             ...  ..    ...       ...\n",
              "10132  70_0_1_20170111201412415.jpg  70      0         1\n",
              "10133  70_0_0_20170111201419254.jpg  70      0         0\n",
              "10134  39_0_0_20170111201500864.jpg  39      0         0\n",
              "10135  57_0_0_20170111201514151.jpg  57      0         0\n",
              "10136  50_0_0_20170111201507166.jpg  50      0         0\n",
              "\n",
              "[10137 rows x 4 columns]"
            ],
            "text/html": [
              "\n",
              "  <div id=\"df-73dfcb55-1456-417e-8599-a9eac0db4dad\">\n",
              "    <div class=\"colab-df-container\">\n",
              "      <div>\n",
              "<style scoped>\n",
              "    .dataframe tbody tr th:only-of-type {\n",
              "        vertical-align: middle;\n",
              "    }\n",
              "\n",
              "    .dataframe tbody tr th {\n",
              "        vertical-align: top;\n",
              "    }\n",
              "\n",
              "    .dataframe thead th {\n",
              "        text-align: right;\n",
              "    }\n",
              "</style>\n",
              "<table border=\"1\" class=\"dataframe\">\n",
              "  <thead>\n",
              "    <tr style=\"text-align: right;\">\n",
              "      <th></th>\n",
              "      <th>filename</th>\n",
              "      <th>age</th>\n",
              "      <th>gender</th>\n",
              "      <th>ethnicity</th>\n",
              "    </tr>\n",
              "  </thead>\n",
              "  <tbody>\n",
              "    <tr>\n",
              "      <th>0</th>\n",
              "      <td>36_0_0_20170109003426572.jpg</td>\n",
              "      <td>36</td>\n",
              "      <td>0</td>\n",
              "      <td>0</td>\n",
              "    </tr>\n",
              "    <tr>\n",
              "      <th>1</th>\n",
              "      <td>49_1_0_20170109011101339.jpg</td>\n",
              "      <td>49</td>\n",
              "      <td>1</td>\n",
              "      <td>0</td>\n",
              "    </tr>\n",
              "    <tr>\n",
              "      <th>2</th>\n",
              "      <td>69_0_0_20170109011208585.jpg</td>\n",
              "      <td>69</td>\n",
              "      <td>0</td>\n",
              "      <td>0</td>\n",
              "    </tr>\n",
              "    <tr>\n",
              "      <th>3</th>\n",
              "      <td>30_1_0_20170109001620649.jpg</td>\n",
              "      <td>30</td>\n",
              "      <td>1</td>\n",
              "      <td>0</td>\n",
              "    </tr>\n",
              "    <tr>\n",
              "      <th>4</th>\n",
              "      <td>26_1_4_20170109002629914.jpg</td>\n",
              "      <td>26</td>\n",
              "      <td>1</td>\n",
              "      <td>4</td>\n",
              "    </tr>\n",
              "    <tr>\n",
              "      <th>...</th>\n",
              "      <td>...</td>\n",
              "      <td>...</td>\n",
              "      <td>...</td>\n",
              "      <td>...</td>\n",
              "    </tr>\n",
              "    <tr>\n",
              "      <th>10132</th>\n",
              "      <td>70_0_1_20170111201412415.jpg</td>\n",
              "      <td>70</td>\n",
              "      <td>0</td>\n",
              "      <td>1</td>\n",
              "    </tr>\n",
              "    <tr>\n",
              "      <th>10133</th>\n",
              "      <td>70_0_0_20170111201419254.jpg</td>\n",
              "      <td>70</td>\n",
              "      <td>0</td>\n",
              "      <td>0</td>\n",
              "    </tr>\n",
              "    <tr>\n",
              "      <th>10134</th>\n",
              "      <td>39_0_0_20170111201500864.jpg</td>\n",
              "      <td>39</td>\n",
              "      <td>0</td>\n",
              "      <td>0</td>\n",
              "    </tr>\n",
              "    <tr>\n",
              "      <th>10135</th>\n",
              "      <td>57_0_0_20170111201514151.jpg</td>\n",
              "      <td>57</td>\n",
              "      <td>0</td>\n",
              "      <td>0</td>\n",
              "    </tr>\n",
              "    <tr>\n",
              "      <th>10136</th>\n",
              "      <td>50_0_0_20170111201507166.jpg</td>\n",
              "      <td>50</td>\n",
              "      <td>0</td>\n",
              "      <td>0</td>\n",
              "    </tr>\n",
              "  </tbody>\n",
              "</table>\n",
              "<p>10137 rows × 4 columns</p>\n",
              "</div>\n",
              "      <button class=\"colab-df-convert\" onclick=\"convertToInteractive('df-73dfcb55-1456-417e-8599-a9eac0db4dad')\"\n",
              "              title=\"Convert this dataframe to an interactive table.\"\n",
              "              style=\"display:none;\">\n",
              "        \n",
              "  <svg xmlns=\"http://www.w3.org/2000/svg\" height=\"24px\"viewBox=\"0 0 24 24\"\n",
              "       width=\"24px\">\n",
              "    <path d=\"M0 0h24v24H0V0z\" fill=\"none\"/>\n",
              "    <path d=\"M18.56 5.44l.94 2.06.94-2.06 2.06-.94-2.06-.94-.94-2.06-.94 2.06-2.06.94zm-11 1L8.5 8.5l.94-2.06 2.06-.94-2.06-.94L8.5 2.5l-.94 2.06-2.06.94zm10 10l.94 2.06.94-2.06 2.06-.94-2.06-.94-.94-2.06-.94 2.06-2.06.94z\"/><path d=\"M17.41 7.96l-1.37-1.37c-.4-.4-.92-.59-1.43-.59-.52 0-1.04.2-1.43.59L10.3 9.45l-7.72 7.72c-.78.78-.78 2.05 0 2.83L4 21.41c.39.39.9.59 1.41.59.51 0 1.02-.2 1.41-.59l7.78-7.78 2.81-2.81c.8-.78.8-2.07 0-2.86zM5.41 20L4 18.59l7.72-7.72 1.47 1.35L5.41 20z\"/>\n",
              "  </svg>\n",
              "      </button>\n",
              "      \n",
              "  <style>\n",
              "    .colab-df-container {\n",
              "      display:flex;\n",
              "      flex-wrap:wrap;\n",
              "      gap: 12px;\n",
              "    }\n",
              "\n",
              "    .colab-df-convert {\n",
              "      background-color: #E8F0FE;\n",
              "      border: none;\n",
              "      border-radius: 50%;\n",
              "      cursor: pointer;\n",
              "      display: none;\n",
              "      fill: #1967D2;\n",
              "      height: 32px;\n",
              "      padding: 0 0 0 0;\n",
              "      width: 32px;\n",
              "    }\n",
              "\n",
              "    .colab-df-convert:hover {\n",
              "      background-color: #E2EBFA;\n",
              "      box-shadow: 0px 1px 2px rgba(60, 64, 67, 0.3), 0px 1px 3px 1px rgba(60, 64, 67, 0.15);\n",
              "      fill: #174EA6;\n",
              "    }\n",
              "\n",
              "    [theme=dark] .colab-df-convert {\n",
              "      background-color: #3B4455;\n",
              "      fill: #D2E3FC;\n",
              "    }\n",
              "\n",
              "    [theme=dark] .colab-df-convert:hover {\n",
              "      background-color: #434B5C;\n",
              "      box-shadow: 0px 1px 3px 1px rgba(0, 0, 0, 0.15);\n",
              "      filter: drop-shadow(0px 1px 2px rgba(0, 0, 0, 0.3));\n",
              "      fill: #FFFFFF;\n",
              "    }\n",
              "  </style>\n",
              "\n",
              "      <script>\n",
              "        const buttonEl =\n",
              "          document.querySelector('#df-73dfcb55-1456-417e-8599-a9eac0db4dad button.colab-df-convert');\n",
              "        buttonEl.style.display =\n",
              "          google.colab.kernel.accessAllowed ? 'block' : 'none';\n",
              "\n",
              "        async function convertToInteractive(key) {\n",
              "          const element = document.querySelector('#df-73dfcb55-1456-417e-8599-a9eac0db4dad');\n",
              "          const dataTable =\n",
              "            await google.colab.kernel.invokeFunction('convertToInteractive',\n",
              "                                                     [key], {});\n",
              "          if (!dataTable) return;\n",
              "\n",
              "          const docLinkHtml = 'Like what you see? Visit the ' +\n",
              "            '<a target=\"_blank\" href=https://colab.research.google.com/notebooks/data_table.ipynb>data table notebook</a>'\n",
              "            + ' to learn more about interactive tables.';\n",
              "          element.innerHTML = '';\n",
              "          dataTable['output_type'] = 'display_data';\n",
              "          await google.colab.output.renderOutput(dataTable, element);\n",
              "          const docLink = document.createElement('div');\n",
              "          docLink.innerHTML = docLinkHtml;\n",
              "          element.appendChild(docLink);\n",
              "        }\n",
              "      </script>\n",
              "    </div>\n",
              "  </div>\n",
              "  "
            ]
          },
          "metadata": {}
        }
      ],
      "source": [
        "display(df)"
      ],
      "metadata": {
        "id": "9gc6cIiybZq1",
        "outputId": "c9e38b82-100a-4626-8b08-b52749a9e326",
        "colab": {
          "base_uri": "https://localhost:8080/",
          "height": 424
        }
      }
    },
    {
      "cell_type": "markdown",
      "source": [
        "## Check data types and proper spelling / labels"
      ],
      "metadata": {
        "collapsed": false,
        "id": "qGyv0uulbZq2"
      }
    },
    {
      "cell_type": "code",
      "execution_count": 13,
      "outputs": [
        {
          "output_type": "stream",
          "name": "stdout",
          "text": [
            "\n",
            "Column filename, Data type: object\n",
            "Unique values: 10137 \n",
            "36_0_0_20170109003426572.jpg    1\n",
            "1_0_2_20161219201523620.jpg     1\n",
            "1_0_0_20161219195753899.jpg     1\n",
            "1_0_2_20161219203236876.jpg     1\n",
            "1_0_0_20161219200250923.jpg     1\n",
            "                               ..\n",
            "14_0_0_20170104012341136.jpg    1\n",
            "14_0_3_20170104012427337.jpg    1\n",
            "14_0_2_20170104012541763.jpg    1\n",
            "12_1_2_20170104012405785.jpg    1\n",
            "50_0_0_20170111201507166.jpg    1\n",
            "Name: filename, Length: 10137, dtype: int64\n",
            "\n",
            "Column age, Data type: object\n",
            "Unique values: 99 \n",
            "1      1271\n",
            "2       524\n",
            "3       303\n",
            "26      280\n",
            "4       270\n",
            "       ... \n",
            "110       3\n",
            "93        3\n",
            "99        2\n",
            "91        1\n",
            "101       1\n",
            "Name: age, Length: 99, dtype: int64\n",
            "\n",
            "Column gender, Data type: object\n",
            "Unique values: 2 \n",
            "1    5598\n",
            "0    4539\n",
            "Name: gender, dtype: int64\n",
            "\n",
            "Column ethnicity, Data type: object\n",
            "Unique values: 5 \n",
            "0    5396\n",
            "2    1703\n",
            "3    1494\n",
            "4    1121\n",
            "1     423\n",
            "Name: ethnicity, dtype: int64\n"
          ]
        }
      ],
      "source": [
        "for column in df:\n",
        "  unique_values = df[column].nunique()\n",
        "  print(f\"\\nColumn {column}, Data type: {df[column].dtype}\")\n",
        "  print(f\"Unique values: {unique_values} \")\n",
        "  print(df[column].value_counts())"
      ],
      "metadata": {
        "id": "l82ku6yYbZq2",
        "outputId": "4b161359-88f1-4cd7-cf69-067877daa6b1",
        "colab": {
          "base_uri": "https://localhost:8080/"
        }
      }
    },
    {
      "cell_type": "markdown",
      "source": [
        "It should be possible to cast from string to integer for age, gender and ethnicity labels."
      ],
      "metadata": {
        "collapsed": false,
        "id": "mY7agSnibZq2"
      }
    },
    {
      "cell_type": "code",
      "execution_count": 14,
      "outputs": [],
      "source": [
        "def correct_picture(column_name, row_index, correct_age, correct_gender, correct_ethnicity):\n",
        "    temp = df[column_name][row_index].split('_')\n",
        "    new_filename = '{}_{}_{}_{}'.format(correct_age, correct_gender, correct_ethnicity, temp[-1])\n",
        "\n",
        "    # rename file in the system\n",
        "    old_name = f'pic/{df[\"filename\"][row_index]}'\n",
        "    new_name = f'pic/{new_filename}'\n",
        "    os.rename(old_name, new_name)\n",
        "\n",
        "    # rename file in dataset\n",
        "    df[\"filename\"][row_index] = new_filename\n",
        "    df[\"age\"] = correct_age\n",
        "    df[\"gender\"][row_index] = correct_gender\n",
        "    df[\"ethnicity\"][row_index] = correct_ethnicity"
      ],
      "metadata": {
        "id": "2zKfyvQsbZq2"
      }
    },
    {
      "cell_type": "code",
      "execution_count": 15,
      "outputs": [],
      "source": [
        "for column in df:\n",
        "    if column != \"filename\":\n",
        "        try: # Find out which columns have problems\n",
        "            df[column].astype('float64')\n",
        "        except ValueError as err:\n",
        "            print(f'\\nColumn \" {column} \" could not be converted: {err!s}')\n",
        "            # Find out which rows have problems\n",
        "            for row_index, value in enumerate(df[column]):\n",
        "                if value is not None:\n",
        "                    try:\n",
        "                        int(value)\n",
        "                    except ValueError as err:\n",
        "                        print(f'Row {row_index} in column \"{column}\" with file name \"{df[\"filename\"][row_index]}\" could not be converted: {err!s}')\n",
        "                        if (df[\"filename\"][row_index] == \"61_1_20170109142408075.jpg\" or df[\"filename\"][row_index] == \"61_3_20170109150557335.jpg\"):\n",
        "                            temp = df[\"filename\"][row_index].split('_')\n",
        "                            correct_picture(column, row_index, temp[0], 1, temp[1])"
      ],
      "metadata": {
        "id": "k3MjNy_ibZq3"
      }
    },
    {
      "cell_type": "markdown",
      "source": [
        "Filename should have the pattern: age_gender_ethnicity_id.jpg\n",
        "\n",
        "We found the following incidences: \n",
        "* Picture 61_1_20170109142408075.jpg is a \n",
        "black woman. Picture will be renamed to 61_1_1_20170109142408075.jpg\n",
        "* Picture 61_3_20170109150557335.jpg is an indian woman. Picture will be renamed to 61_1_3_20170109150557335.jpg"
      ],
      "metadata": {
        "collapsed": false,
        "id": "U9WcmuJsbZq_"
      }
    },
    {
      "cell_type": "code",
      "execution_count": 16,
      "outputs": [
        {
          "output_type": "stream",
          "name": "stdout",
          "text": [
            "\n",
            "Column filename, Data type: object\n",
            "Unique values: 10137 \n",
            "36_0_0_20170109003426572.jpg    1\n",
            "1_0_2_20161219201523620.jpg     1\n",
            "1_0_0_20161219195753899.jpg     1\n",
            "1_0_2_20161219203236876.jpg     1\n",
            "1_0_0_20161219200250923.jpg     1\n",
            "                               ..\n",
            "14_0_0_20170104012341136.jpg    1\n",
            "14_0_3_20170104012427337.jpg    1\n",
            "14_0_2_20170104012541763.jpg    1\n",
            "12_1_2_20170104012405785.jpg    1\n",
            "50_0_0_20170111201507166.jpg    1\n",
            "Name: filename, Length: 10137, dtype: int64\n",
            "\n",
            "Column age, Data type: object\n",
            "Unique values: 99 \n",
            "1      1271\n",
            "2       524\n",
            "3       303\n",
            "26      280\n",
            "4       270\n",
            "       ... \n",
            "110       3\n",
            "93        3\n",
            "99        2\n",
            "91        1\n",
            "101       1\n",
            "Name: age, Length: 99, dtype: int64\n",
            "\n",
            "Column gender, Data type: object\n",
            "Unique values: 2 \n",
            "1    5598\n",
            "0    4539\n",
            "Name: gender, dtype: int64\n",
            "\n",
            "Column ethnicity, Data type: object\n",
            "Unique values: 5 \n",
            "0    5396\n",
            "2    1703\n",
            "3    1494\n",
            "4    1121\n",
            "1     423\n",
            "Name: ethnicity, dtype: int64\n"
          ]
        }
      ],
      "source": [
        "# Check that corrections have been implemented\n",
        "for column in df:\n",
        "  unique_values = df[column].nunique()\n",
        "  print(f\"\\nColumn {column}, Data type: {df[column].dtype}\")\n",
        "  print(f\"Unique values: {unique_values} \")\n",
        "  print(df[column].value_counts())"
      ],
      "metadata": {
        "id": "jK8I9vKKbZq_",
        "outputId": "d60662bf-0672-4086-ce53-685aaa8bded5",
        "colab": {
          "base_uri": "https://localhost:8080/"
        }
      }
    },
    {
      "cell_type": "markdown",
      "source": [
        "## Analyze NaN values"
      ],
      "metadata": {
        "collapsed": false,
        "id": "Zgu5EPz9bZrA"
      }
    },
    {
      "cell_type": "code",
      "execution_count": 17,
      "outputs": [
        {
          "output_type": "stream",
          "name": "stdout",
          "text": [
            "There are 0.0% of NaN values.\n"
          ]
        }
      ],
      "source": [
        "# Check for the presence of NaN values in percentage\n",
        "percentageNAN = round((((df.isnull().sum()).sum() / np.product(df.shape)) * 100), 2)\n",
        "print(f\"There are {percentageNAN}% of NaN values.\")"
      ],
      "metadata": {
        "id": "m059GdexbZrA",
        "outputId": "0be273ed-2143-4744-bcfd-9a4481219661",
        "colab": {
          "base_uri": "https://localhost:8080/"
        }
      }
    },
    {
      "cell_type": "code",
      "execution_count": 18,
      "outputs": [
        {
          "output_type": "stream",
          "name": "stdout",
          "text": [
            "filename     0\n",
            "age          0\n",
            "gender       0\n",
            "ethnicity    0\n",
            "dtype: int64\n"
          ]
        }
      ],
      "source": [
        "# Number of missing values per column\n",
        "print(df.isnull().sum())"
      ],
      "metadata": {
        "id": "e9vprZZLbZrA",
        "outputId": "b0d8ca24-e1cf-42be-b521-c290140b9550",
        "colab": {
          "base_uri": "https://localhost:8080/"
        }
      }
    },
    {
      "cell_type": "markdown",
      "source": [
        "## Check for double values"
      ],
      "metadata": {
        "id": "CAwp19bMd5aT"
      }
    },
    {
      "cell_type": "code",
      "source": [
        "df.duplicated().any()"
      ],
      "metadata": {
        "id": "1hGabX_-d746",
        "outputId": "06445ed5-3b81-4a0c-9a23-685eb2d09d34",
        "colab": {
          "base_uri": "https://localhost:8080/"
        }
      },
      "execution_count": 20,
      "outputs": [
        {
          "output_type": "execute_result",
          "data": {
            "text/plain": [
              "False"
            ]
          },
          "metadata": {},
          "execution_count": 20
        }
      ]
    },
    {
      "cell_type": "markdown",
      "source": [
        "# Store dataframe in .csv file"
      ],
      "metadata": {
        "collapsed": false,
        "id": "ZeQg8SZfbZrB"
      }
    },
    {
      "cell_type": "code",
      "execution_count": 19,
      "outputs": [],
      "source": [
        "df.to_csv('dataset_faces.csv', index=False)"
      ],
      "metadata": {
        "id": "pKAu20sDbZrB"
      }
    }
  ],
  "metadata": {
    "kernelspec": {
      "display_name": "Python 3",
      "language": "python",
      "name": "python3"
    },
    "language_info": {
      "codemirror_mode": {
        "name": "ipython",
        "version": 2
      },
      "file_extension": ".py",
      "mimetype": "text/x-python",
      "name": "python",
      "nbconvert_exporter": "python",
      "pygments_lexer": "ipython2",
      "version": "2.7.6"
    },
    "colab": {
      "provenance": []
    }
  },
  "nbformat": 4,
  "nbformat_minor": 0
}