{
  "cells": [
    {
      "cell_type": "code",
      "source": [
        "from google.colab import drive\n",
        "drive.mount('/content/drive')"
      ],
      "metadata": {
        "id": "I445RLkYcnbc",
        "outputId": "4b37b3f2-e9e6-4d9e-e637-e18dd3c23a65",
        "colab": {
          "base_uri": "https://localhost:8080/"
        }
      },
      "execution_count": 43,
      "outputs": [
        {
          "output_type": "stream",
          "name": "stdout",
          "text": [
            "Drive already mounted at /content/drive; to attempt to forcibly remount, call drive.mount(\"/content/drive\", force_remount=True).\n"
          ]
        }
      ]
    },
    {
      "cell_type": "code",
      "source": [
        "path_to_pictures = '/content/drive/MyDrive/pic/'"
      ],
      "metadata": {
        "id": "vnOcrtVvcqHs"
      },
      "execution_count": 44,
      "outputs": []
    },
    {
      "cell_type": "markdown",
      "source": [
        "# Import libraries and Modules"
      ],
      "metadata": {
        "collapsed": false,
        "id": "yKmZoCanbZqo"
      }
    },
    {
      "cell_type": "code",
      "execution_count": 45,
      "outputs": [],
      "source": [
        "import os\n",
        "import pandas as pd\n",
        "import numpy as np"
      ],
      "metadata": {
        "id": "JNrSiJxobZqq"
      }
    },
    {
      "cell_type": "markdown",
      "source": [
        "# Upload Pictures"
      ],
      "metadata": {
        "collapsed": false,
        "id": "k9bwtOVJbZqt"
      }
    },
    {
      "cell_type": "code",
      "execution_count": 65,
      "outputs": [],
      "source": [
        "path = os.path.realpath(path_to_pictures)\n",
        "# If the given path is a directory, open the directory and store the pictures in  a list\n",
        "picture_list = []\n",
        "if os.path.isdir(path):\n",
        "    for file in os.listdir(path):\n",
        "        if file.endswith(\".jpg\"):\n",
        "            picture_list.append(file)"
      ],
      "metadata": {
        "id": "XKkPNTLfbZqt"
      }
    },
    {
      "cell_type": "code",
      "execution_count": 47,
      "outputs": [
        {
          "output_type": "execute_result",
          "data": {
            "text/plain": [
              "['36_1_1_20170116155035948.jpg',\n",
              " '36_1_1_20170116014305365.jpg',\n",
              " '36_1_1_20170116022026435.jpg',\n",
              " '36_1_1_20170116153744623.jpg',\n",
              " '36_1_1_20170116161213859.jpg']"
            ]
          },
          "metadata": {},
          "execution_count": 47
        }
      ],
      "source": [
        "picture_list[0:5]"
      ],
      "metadata": {
        "id": "9ZwD_fWBbZqu",
        "outputId": "0948136d-5a16-4b8b-f7c0-762ad0e2d32b",
        "colab": {
          "base_uri": "https://localhost:8080/"
        }
      }
    },
    {
      "cell_type": "markdown",
      "source": [
        "# Create a Dataset from the labels\n",
        "\n",
        "* Age\n",
        "* Gender\n",
        "* Ethnicity\n",
        "* picture name / picture path"
      ],
      "metadata": {
        "collapsed": false,
        "id": "P1jKNwpGbZqu"
      }
    },
    {
      "cell_type": "code",
      "execution_count": 48,
      "outputs": [
        {
          "output_type": "stream",
          "name": "stdout",
          "text": [
            "36_1_1_20170116155035948.jpg\n"
          ]
        }
      ],
      "source": [
        "# Each picture name looks like: age_gender_ethnicity_id.jpg\n",
        "print(picture_list[0])"
      ],
      "metadata": {
        "id": "PsJC2tAEbZqv",
        "outputId": "b516a71a-5d6a-4bd4-bfb3-571849cd950d",
        "colab": {
          "base_uri": "https://localhost:8080/"
        }
      }
    },
    {
      "cell_type": "code",
      "execution_count": 49,
      "outputs": [
        {
          "output_type": "stream",
          "name": "stdout",
          "text": [
            "['36', '1', '1', '20170116155035948.jpg']\n"
          ]
        }
      ],
      "source": [
        "# We applied split() to get an array with the labels for the picture.\n",
        "temp = picture_list[0].split('_')\n",
        "print(temp)"
      ],
      "metadata": {
        "id": "srhrUvKibZqw",
        "outputId": "f9bf774c-7b1d-47a9-f7f8-099398ff9b6e",
        "colab": {
          "base_uri": "https://localhost:8080/"
        }
      }
    },
    {
      "cell_type": "code",
      "execution_count": 66,
      "outputs": [],
      "source": [
        "age_labels = []\n",
        "gender_labels = []\n",
        "ethnicity_labels = []\n",
        "\n",
        "for file in picture_list:\n",
        "    temp = file.split(\"_\")\n",
        "    age_labels.append(temp[0])\n",
        "    gender_labels.append(temp[1])\n",
        "    ethnicity_labels.append(temp[2])\n"
      ],
      "metadata": {
        "id": "X-T8zka8bZqx"
      }
    },
    {
      "cell_type": "markdown",
      "source": [
        "Convert to a dataframe"
      ],
      "metadata": {
        "collapsed": false,
        "id": "LWJRBTOmbZqy"
      }
    },
    {
      "cell_type": "code",
      "execution_count": 67,
      "outputs": [],
      "source": [
        "df = pd.DataFrame()\n",
        "df[\"filename\"] = picture_list\n",
        "df[\"age\"] = age_labels\n",
        "df[\"gender\"] = gender_labels\n",
        "df[\"ethnicity\"] = ethnicity_labels"
      ],
      "metadata": {
        "id": "zq_Gy0tybZqz"
      }
    },
    {
      "cell_type": "code",
      "execution_count": 68,
      "outputs": [],
      "source": [
        "# map labels\n",
        "gender_dict = {0: 'Male', 1: 'Female'}\n",
        "ethnicity_dict = {}"
      ],
      "metadata": {
        "id": "7-WwWKaBbZqz"
      }
    },
    {
      "cell_type": "markdown",
      "source": [
        "# Data inspection and Data cleaning"
      ],
      "metadata": {
        "collapsed": false,
        "id": "6zV09Lb6bZqz"
      }
    },
    {
      "cell_type": "markdown",
      "source": [
        "## Data shape"
      ],
      "metadata": {
        "collapsed": false,
        "id": "7DnCxJccbZq0"
      }
    },
    {
      "cell_type": "code",
      "execution_count": 69,
      "outputs": [
        {
          "output_type": "execute_result",
          "data": {
            "text/plain": [
              "(24105, 4)"
            ]
          },
          "metadata": {},
          "execution_count": 69
        }
      ],
      "source": [
        "df.shape"
      ],
      "metadata": {
        "id": "ahhqKb-_bZq0",
        "outputId": "a1a26fbc-69d2-4ee7-af35-8700a4b29dd2",
        "colab": {
          "base_uri": "https://localhost:8080/"
        }
      }
    },
    {
      "cell_type": "code",
      "execution_count": 70,
      "outputs": [
        {
          "output_type": "display_data",
          "data": {
            "text/plain": [
              "                           filename age gender ethnicity\n",
              "0      36_1_1_20170116155035948.jpg  36      1         1\n",
              "1      36_1_1_20170116014305365.jpg  36      1         1\n",
              "2      36_1_1_20170116022026435.jpg  36      1         1\n",
              "3      36_1_1_20170116153744623.jpg  36      1         1\n",
              "4      36_1_1_20170116161213859.jpg  36      1         1\n",
              "...                             ...  ..    ...       ...\n",
              "24100  53_0_0_20170111200949284.jpg  53      0         0\n",
              "24101  52_0_0_20170111200958422.jpg  52      0         0\n",
              "24102  80_0_0_20170111200927317.jpg  80      0         0\n",
              "24103  42_0_1_20170111200932454.jpg  42      0         1\n",
              "24104  69_0_0_20170111200942998.jpg  69      0         0\n",
              "\n",
              "[24105 rows x 4 columns]"
            ],
            "text/html": [
              "\n",
              "  <div id=\"df-19231a17-8044-42b4-a4c6-280e83ecbcc4\">\n",
              "    <div class=\"colab-df-container\">\n",
              "      <div>\n",
              "<style scoped>\n",
              "    .dataframe tbody tr th:only-of-type {\n",
              "        vertical-align: middle;\n",
              "    }\n",
              "\n",
              "    .dataframe tbody tr th {\n",
              "        vertical-align: top;\n",
              "    }\n",
              "\n",
              "    .dataframe thead th {\n",
              "        text-align: right;\n",
              "    }\n",
              "</style>\n",
              "<table border=\"1\" class=\"dataframe\">\n",
              "  <thead>\n",
              "    <tr style=\"text-align: right;\">\n",
              "      <th></th>\n",
              "      <th>filename</th>\n",
              "      <th>age</th>\n",
              "      <th>gender</th>\n",
              "      <th>ethnicity</th>\n",
              "    </tr>\n",
              "  </thead>\n",
              "  <tbody>\n",
              "    <tr>\n",
              "      <th>0</th>\n",
              "      <td>36_1_1_20170116155035948.jpg</td>\n",
              "      <td>36</td>\n",
              "      <td>1</td>\n",
              "      <td>1</td>\n",
              "    </tr>\n",
              "    <tr>\n",
              "      <th>1</th>\n",
              "      <td>36_1_1_20170116014305365.jpg</td>\n",
              "      <td>36</td>\n",
              "      <td>1</td>\n",
              "      <td>1</td>\n",
              "    </tr>\n",
              "    <tr>\n",
              "      <th>2</th>\n",
              "      <td>36_1_1_20170116022026435.jpg</td>\n",
              "      <td>36</td>\n",
              "      <td>1</td>\n",
              "      <td>1</td>\n",
              "    </tr>\n",
              "    <tr>\n",
              "      <th>3</th>\n",
              "      <td>36_1_1_20170116153744623.jpg</td>\n",
              "      <td>36</td>\n",
              "      <td>1</td>\n",
              "      <td>1</td>\n",
              "    </tr>\n",
              "    <tr>\n",
              "      <th>4</th>\n",
              "      <td>36_1_1_20170116161213859.jpg</td>\n",
              "      <td>36</td>\n",
              "      <td>1</td>\n",
              "      <td>1</td>\n",
              "    </tr>\n",
              "    <tr>\n",
              "      <th>...</th>\n",
              "      <td>...</td>\n",
              "      <td>...</td>\n",
              "      <td>...</td>\n",
              "      <td>...</td>\n",
              "    </tr>\n",
              "    <tr>\n",
              "      <th>24100</th>\n",
              "      <td>53_0_0_20170111200949284.jpg</td>\n",
              "      <td>53</td>\n",
              "      <td>0</td>\n",
              "      <td>0</td>\n",
              "    </tr>\n",
              "    <tr>\n",
              "      <th>24101</th>\n",
              "      <td>52_0_0_20170111200958422.jpg</td>\n",
              "      <td>52</td>\n",
              "      <td>0</td>\n",
              "      <td>0</td>\n",
              "    </tr>\n",
              "    <tr>\n",
              "      <th>24102</th>\n",
              "      <td>80_0_0_20170111200927317.jpg</td>\n",
              "      <td>80</td>\n",
              "      <td>0</td>\n",
              "      <td>0</td>\n",
              "    </tr>\n",
              "    <tr>\n",
              "      <th>24103</th>\n",
              "      <td>42_0_1_20170111200932454.jpg</td>\n",
              "      <td>42</td>\n",
              "      <td>0</td>\n",
              "      <td>1</td>\n",
              "    </tr>\n",
              "    <tr>\n",
              "      <th>24104</th>\n",
              "      <td>69_0_0_20170111200942998.jpg</td>\n",
              "      <td>69</td>\n",
              "      <td>0</td>\n",
              "      <td>0</td>\n",
              "    </tr>\n",
              "  </tbody>\n",
              "</table>\n",
              "<p>24105 rows × 4 columns</p>\n",
              "</div>\n",
              "      <button class=\"colab-df-convert\" onclick=\"convertToInteractive('df-19231a17-8044-42b4-a4c6-280e83ecbcc4')\"\n",
              "              title=\"Convert this dataframe to an interactive table.\"\n",
              "              style=\"display:none;\">\n",
              "        \n",
              "  <svg xmlns=\"http://www.w3.org/2000/svg\" height=\"24px\"viewBox=\"0 0 24 24\"\n",
              "       width=\"24px\">\n",
              "    <path d=\"M0 0h24v24H0V0z\" fill=\"none\"/>\n",
              "    <path d=\"M18.56 5.44l.94 2.06.94-2.06 2.06-.94-2.06-.94-.94-2.06-.94 2.06-2.06.94zm-11 1L8.5 8.5l.94-2.06 2.06-.94-2.06-.94L8.5 2.5l-.94 2.06-2.06.94zm10 10l.94 2.06.94-2.06 2.06-.94-2.06-.94-.94-2.06-.94 2.06-2.06.94z\"/><path d=\"M17.41 7.96l-1.37-1.37c-.4-.4-.92-.59-1.43-.59-.52 0-1.04.2-1.43.59L10.3 9.45l-7.72 7.72c-.78.78-.78 2.05 0 2.83L4 21.41c.39.39.9.59 1.41.59.51 0 1.02-.2 1.41-.59l7.78-7.78 2.81-2.81c.8-.78.8-2.07 0-2.86zM5.41 20L4 18.59l7.72-7.72 1.47 1.35L5.41 20z\"/>\n",
              "  </svg>\n",
              "      </button>\n",
              "      \n",
              "  <style>\n",
              "    .colab-df-container {\n",
              "      display:flex;\n",
              "      flex-wrap:wrap;\n",
              "      gap: 12px;\n",
              "    }\n",
              "\n",
              "    .colab-df-convert {\n",
              "      background-color: #E8F0FE;\n",
              "      border: none;\n",
              "      border-radius: 50%;\n",
              "      cursor: pointer;\n",
              "      display: none;\n",
              "      fill: #1967D2;\n",
              "      height: 32px;\n",
              "      padding: 0 0 0 0;\n",
              "      width: 32px;\n",
              "    }\n",
              "\n",
              "    .colab-df-convert:hover {\n",
              "      background-color: #E2EBFA;\n",
              "      box-shadow: 0px 1px 2px rgba(60, 64, 67, 0.3), 0px 1px 3px 1px rgba(60, 64, 67, 0.15);\n",
              "      fill: #174EA6;\n",
              "    }\n",
              "\n",
              "    [theme=dark] .colab-df-convert {\n",
              "      background-color: #3B4455;\n",
              "      fill: #D2E3FC;\n",
              "    }\n",
              "\n",
              "    [theme=dark] .colab-df-convert:hover {\n",
              "      background-color: #434B5C;\n",
              "      box-shadow: 0px 1px 3px 1px rgba(0, 0, 0, 0.15);\n",
              "      filter: drop-shadow(0px 1px 2px rgba(0, 0, 0, 0.3));\n",
              "      fill: #FFFFFF;\n",
              "    }\n",
              "  </style>\n",
              "\n",
              "      <script>\n",
              "        const buttonEl =\n",
              "          document.querySelector('#df-19231a17-8044-42b4-a4c6-280e83ecbcc4 button.colab-df-convert');\n",
              "        buttonEl.style.display =\n",
              "          google.colab.kernel.accessAllowed ? 'block' : 'none';\n",
              "\n",
              "        async function convertToInteractive(key) {\n",
              "          const element = document.querySelector('#df-19231a17-8044-42b4-a4c6-280e83ecbcc4');\n",
              "          const dataTable =\n",
              "            await google.colab.kernel.invokeFunction('convertToInteractive',\n",
              "                                                     [key], {});\n",
              "          if (!dataTable) return;\n",
              "\n",
              "          const docLinkHtml = 'Like what you see? Visit the ' +\n",
              "            '<a target=\"_blank\" href=https://colab.research.google.com/notebooks/data_table.ipynb>data table notebook</a>'\n",
              "            + ' to learn more about interactive tables.';\n",
              "          element.innerHTML = '';\n",
              "          dataTable['output_type'] = 'display_data';\n",
              "          await google.colab.output.renderOutput(dataTable, element);\n",
              "          const docLink = document.createElement('div');\n",
              "          docLink.innerHTML = docLinkHtml;\n",
              "          element.appendChild(docLink);\n",
              "        }\n",
              "      </script>\n",
              "    </div>\n",
              "  </div>\n",
              "  "
            ]
          },
          "metadata": {}
        }
      ],
      "source": [
        "display(df)"
      ],
      "metadata": {
        "id": "9gc6cIiybZq1",
        "outputId": "1cca7025-2d48-4297-e712-0994e6fbaee9",
        "colab": {
          "base_uri": "https://localhost:8080/",
          "height": 424
        }
      }
    },
    {
      "cell_type": "markdown",
      "source": [
        "## Check data types and proper spelling / labels"
      ],
      "metadata": {
        "collapsed": false,
        "id": "qGyv0uulbZq2"
      }
    },
    {
      "cell_type": "code",
      "execution_count": 55,
      "outputs": [
        {
          "output_type": "stream",
          "name": "stdout",
          "text": [
            "\n",
            "Column filename, Data type: object\n",
            "Unique values: 24105 \n",
            "36_1_1_20170116155035948.jpg    1\n",
            "37_1_0_20170104171729234.jpg    1\n",
            "40_0_0_20170104202600778.jpg    1\n",
            "43_0_0_20170104205149195.jpg    1\n",
            "32_0_0_20170104202239802.jpg    1\n",
            "                               ..\n",
            "39_0_0_20170113183735128.jpg    1\n",
            "38_1_1_20170113183305653.jpg    1\n",
            "38_1_1_20170113184328127.jpg    1\n",
            "40_0_1_20170113182334142.jpg    1\n",
            "69_0_0_20170111200942998.jpg    1\n",
            "Name: filename, Length: 24105, dtype: int64\n",
            "\n",
            "Column age, Data type: object\n",
            "Unique values: 104 \n",
            "26     2206\n",
            "1      1282\n",
            "28      921\n",
            "35      881\n",
            "24      861\n",
            "       ... \n",
            "115       3\n",
            "91        2\n",
            "101       2\n",
            "103       1\n",
            "111       1\n",
            "Name: age, Length: 104, dtype: int64\n",
            "\n",
            "Column gender, Data type: object\n",
            "Unique values: 2 \n",
            "0    12581\n",
            "1    11524\n",
            "Name: gender, dtype: int64\n",
            "\n",
            "Column ethnicity, Data type: object\n",
            "Unique values: 5 \n",
            "0    10221\n",
            "1     4560\n",
            "3     4028\n",
            "2     3586\n",
            "4     1710\n",
            "Name: ethnicity, dtype: int64\n"
          ]
        }
      ],
      "source": [
        "for column in df:\n",
        "  unique_values = df[column].nunique()\n",
        "  print(f\"\\nColumn {column}, Data type: {df[column].dtype}\")\n",
        "  print(f\"Unique values: {unique_values} \")\n",
        "  print(df[column].value_counts())"
      ],
      "metadata": {
        "id": "l82ku6yYbZq2",
        "outputId": "e04b9804-8840-43ee-c782-0ee6250223cc",
        "colab": {
          "base_uri": "https://localhost:8080/"
        }
      }
    },
    {
      "cell_type": "markdown",
      "source": [
        "It should be possible to cast from string to integer for age, gender and ethnicity labels."
      ],
      "metadata": {
        "collapsed": false,
        "id": "mY7agSnibZq2"
      }
    },
    {
      "cell_type": "code",
      "execution_count": 56,
      "outputs": [],
      "source": [
        "def correct_picture(column_name, row_index, correct_age, correct_gender, correct_ethnicity):\n",
        "    temp = df[column_name][row_index].split('_')\n",
        "    new_filename = '{}_{}_{}_{}'.format(correct_age, correct_gender, correct_ethnicity, temp[-1])\n",
        "\n",
        "    # rename file in the system\n",
        "    old_name = f'{path_to_pictures}{df[\"filename\"][row_index]}'\n",
        "    new_name = f'{path_to_pictures}{new_filename}'\n",
        "    os.rename(old_name, new_name)\n",
        "\n",
        "    # rename file in dataset\n",
        "    df[\"filename\"][row_index] = new_filename\n",
        "    df[\"age\"] = correct_age\n",
        "    df[\"gender\"][row_index] = correct_gender\n",
        "    df[\"ethnicity\"][row_index] = correct_ethnicity"
      ],
      "metadata": {
        "id": "2zKfyvQsbZq2"
      }
    },
    {
      "cell_type": "code",
      "execution_count": 63,
      "outputs": [],
      "source": [
        "for column in df:\n",
        "    if column != \"filename\":\n",
        "        try: # Find out which columns have problems\n",
        "            df[column].astype('float64')\n",
        "        except ValueError as err:\n",
        "            print(f'\\nColumn \" {column} \" could not be converted: {err!s}')\n",
        "            # Find out which rows have problems\n",
        "            for row_index, value in enumerate(df[column]):\n",
        "                if value is not None:\n",
        "                    try:\n",
        "                      int(value)\n",
        "                    except ValueError as err:\n",
        "                      print(f'Row {row_index} in column \"{column}\" with file name \"{df[\"filename\"][row_index]}\" could not be converted: {err!s}')\n",
        "                      if (df[\"filename\"][row_index] == \"61_1_20170109142408075.jpg\" or df[\"filename\"][row_index] == \"61_3_20170109150557335.jpg\" or df[\"filename\"][row_index] == \"39_1_20170116174525125.jpg\" or df[\"filename\"][row_index] == \"53__0_20170116184028385.jpg\"):\n",
        "                        temp = df[\"filename\"][row_index].split('_')\n",
        "                        correct_picture(column, row_index, temp[0], 1, temp[1])"
      ],
      "metadata": {
        "id": "k3MjNy_ibZq3"
      }
    },
    {
      "cell_type": "markdown",
      "source": [
        "Filename should have the pattern: age_gender_ethnicity_id.jpg\n",
        "\n",
        "We found the following incidences: \n",
        "* Picture 39_1_20170116174525125.jpg is a black woman. Picture will be renamed as 39_1_1_20170116174525125.jpg\n",
        "* Picture 53__0_20170116184028385.jpg is a white woman. Picture will be renamed as 53_1_0_20170116184028385.jpg\n",
        "* Picture 61_1_20170109142408075.jpg is a \n",
        "black woman. Picture will be renamed to 61_1_1_20170109142408075.jpg\n",
        "* Picture 61_3_20170109150557335.jpg is an indian woman. Picture will be renamed to 61_1_3_20170109150557335.jpg"
      ],
      "metadata": {
        "collapsed": false,
        "id": "U9WcmuJsbZq_"
      }
    },
    {
      "cell_type": "code",
      "execution_count": 64,
      "outputs": [
        {
          "output_type": "stream",
          "name": "stdout",
          "text": [
            "\n",
            "Column filename, Data type: object\n",
            "Unique values: 24105 \n",
            "36_1_1_20170116155035948.jpg    1\n",
            "37_1_0_20170104171729234.jpg    1\n",
            "40_0_0_20170104202600778.jpg    1\n",
            "43_0_0_20170104205149195.jpg    1\n",
            "32_0_0_20170104202239802.jpg    1\n",
            "                               ..\n",
            "39_0_0_20170113183735128.jpg    1\n",
            "38_1_1_20170113183305653.jpg    1\n",
            "38_1_1_20170113184328127.jpg    1\n",
            "40_0_1_20170113182334142.jpg    1\n",
            "69_0_0_20170111200942998.jpg    1\n",
            "Name: filename, Length: 24105, dtype: int64\n",
            "\n",
            "Column age, Data type: object\n",
            "Unique values: 104 \n",
            "26     2206\n",
            "1      1282\n",
            "28      921\n",
            "35      881\n",
            "24      861\n",
            "       ... \n",
            "115       3\n",
            "91        2\n",
            "101       2\n",
            "103       1\n",
            "111       1\n",
            "Name: age, Length: 104, dtype: int64\n",
            "\n",
            "Column gender, Data type: object\n",
            "Unique values: 2 \n",
            "0    12581\n",
            "1    11524\n",
            "Name: gender, dtype: int64\n",
            "\n",
            "Column ethnicity, Data type: object\n",
            "Unique values: 5 \n",
            "0    10221\n",
            "1     4560\n",
            "3     4028\n",
            "2     3586\n",
            "4     1710\n",
            "Name: ethnicity, dtype: int64\n"
          ]
        }
      ],
      "source": [
        "# Check that corrections have been implemented\n",
        "for column in df:\n",
        "  unique_values = df[column].nunique()\n",
        "  print(f\"\\nColumn {column}, Data type: {df[column].dtype}\")\n",
        "  print(f\"Unique values: {unique_values} \")\n",
        "  print(df[column].value_counts())"
      ],
      "metadata": {
        "id": "jK8I9vKKbZq_",
        "outputId": "e392482b-4f20-4e88-9596-d2cd48f34002",
        "colab": {
          "base_uri": "https://localhost:8080/"
        }
      }
    },
    {
      "cell_type": "markdown",
      "source": [
        "## Analyze NaN values"
      ],
      "metadata": {
        "collapsed": false,
        "id": "Zgu5EPz9bZrA"
      }
    },
    {
      "cell_type": "code",
      "execution_count": 59,
      "outputs": [
        {
          "output_type": "stream",
          "name": "stdout",
          "text": [
            "There are 0.0% of NaN values.\n"
          ]
        }
      ],
      "source": [
        "# Check for the presence of NaN values in percentage\n",
        "percentageNAN = round((((df.isnull().sum()).sum() / np.product(df.shape)) * 100), 2)\n",
        "print(f\"There are {percentageNAN}% of NaN values.\")"
      ],
      "metadata": {
        "id": "m059GdexbZrA",
        "outputId": "85e4f164-8cf0-401d-8641-422cc739c6f1",
        "colab": {
          "base_uri": "https://localhost:8080/"
        }
      }
    },
    {
      "cell_type": "code",
      "execution_count": 60,
      "outputs": [
        {
          "output_type": "stream",
          "name": "stdout",
          "text": [
            "filename     0\n",
            "age          0\n",
            "gender       0\n",
            "ethnicity    0\n",
            "dtype: int64\n"
          ]
        }
      ],
      "source": [
        "# Number of missing values per column\n",
        "print(df.isnull().sum())"
      ],
      "metadata": {
        "id": "e9vprZZLbZrA",
        "outputId": "8fd14b4c-19f7-4e15-edce-ed522e68c42e",
        "colab": {
          "base_uri": "https://localhost:8080/"
        }
      }
    },
    {
      "cell_type": "markdown",
      "source": [
        "## Check for double values"
      ],
      "metadata": {
        "id": "CAwp19bMd5aT"
      }
    },
    {
      "cell_type": "code",
      "source": [
        "df.duplicated().any()"
      ],
      "metadata": {
        "id": "1hGabX_-d746",
        "outputId": "8c1cd42b-251e-440e-ad22-b4a041339710",
        "colab": {
          "base_uri": "https://localhost:8080/"
        }
      },
      "execution_count": 61,
      "outputs": [
        {
          "output_type": "execute_result",
          "data": {
            "text/plain": [
              "False"
            ]
          },
          "metadata": {},
          "execution_count": 61
        }
      ]
    },
    {
      "cell_type": "markdown",
      "source": [
        "# Store dataframe in .csv file"
      ],
      "metadata": {
        "collapsed": false,
        "id": "ZeQg8SZfbZrB"
      }
    },
    {
      "cell_type": "code",
      "execution_count": 62,
      "outputs": [],
      "source": [
        "df.to_csv('dataset_faces.csv', index=False)"
      ],
      "metadata": {
        "id": "pKAu20sDbZrB"
      }
    }
  ],
  "metadata": {
    "kernelspec": {
      "display_name": "Python 3",
      "language": "python",
      "name": "python3"
    },
    "language_info": {
      "codemirror_mode": {
        "name": "ipython",
        "version": 2
      },
      "file_extension": ".py",
      "mimetype": "text/x-python",
      "name": "python",
      "nbconvert_exporter": "python",
      "pygments_lexer": "ipython2",
      "version": "2.7.6"
    },
    "colab": {
      "provenance": []
    }
  },
  "nbformat": 4,
  "nbformat_minor": 0
}