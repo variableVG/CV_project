{
  "nbformat": 4,
  "nbformat_minor": 0,
  "metadata": {
    "colab": {
      "provenance": [],
      "authorship_tag": "ABX9TyPqhG3NU+VEoR2zeQfb0/ow",
      "include_colab_link": true
    },
    "kernelspec": {
      "name": "python3",
      "display_name": "Python 3"
    },
    "language_info": {
      "name": "python"
    }
  },
  "cells": [
    {
      "cell_type": "markdown",
      "metadata": {
        "id": "view-in-github",
        "colab_type": "text"
      },
      "source": [
        "<a href=\"https://colab.research.google.com/github/variableVG/CV_project/blob/master/04_Data_Augmentation.ipynb\" target=\"_parent\"><img src=\"https://colab.research.google.com/assets/colab-badge.svg\" alt=\"Open In Colab\"/></a>"
      ]
    },
    {
      "cell_type": "code",
      "execution_count": null,
      "metadata": {
        "id": "_Uik9vkxNTsp"
      },
      "outputs": [],
      "source": []
    },
    {
      "cell_type": "markdown",
      "source": [
        "# Data Augmentation?\n",
        "\n",
        "Data Augmentation is a technique that can be used to artificially expand the size of a training dataset by creating modified data from the existing one.\n",
        "\n",
        "It is a good technique if you want to prevent overfitting, or the initial dataset is too small to train on, or even if you want to squeeze better performance from your model.\n",
        "\n",
        "Data Augmentation in computer vision is used to generate new images through different techniques. \n",
        "\n",
        "## Data Augmentation techniques\n",
        "* Geometric transformations: Randomly flip, crop, rotate or translate images.\n",
        "* Color space transformations: change RGB color channels, intensify any color.\n",
        "* Kernel filters: sharpen or blur an image.\n",
        "* Random Erasing: delete a part of the initial image.\n",
        "* Mixing images: basically, mix images with one another.\n",
        "\n",
        "All these operations are applicable for classification problems where the location of objects in the image does not matter. In object detection task, where the location of the objects is what we want to detect, these techniques might not be appropriate. \n",
        "\n",
        "## Data Augmentation Frameworks:\n",
        "* TensorFlow\n",
        "* Keras\n",
        "* PyTorch\n",
        "\n",
        "\n",
        "Sources:\n",
        "* https://neptune.ai/blog/data-augmentation-in-python\n",
        "* https://pytorch.org/tutorials/beginner/data_loading_tutorial.html?highlight=dataloader\n",
        "* https://towardsdatascience.com/a-comprehensive-guide-to-image-augmentation-using-pytorch-fb162f2444be\n",
        "* https://www.youtube.com/watch?v=vo_fUOk-IKk&list=PLWKjhJtqVAbm3T2Eq1_KgloC7ogdXxdRa"
      ],
      "metadata": {
        "collapsed": false,
        "id": "XdDFOIPSPWqq"
      }
    }
  ]
}