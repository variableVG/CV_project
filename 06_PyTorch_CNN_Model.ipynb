{
  "nbformat": 4,
  "nbformat_minor": 0,
  "metadata": {
    "colab": {
      "provenance": [],
      "collapsed_sections": [],
      "authorship_tag": "ABX9TyPBsUeC6mxPV3DGV47ENVen",
      "include_colab_link": true
    },
    "kernelspec": {
      "name": "python3",
      "display_name": "Python 3"
    },
    "language_info": {
      "name": "python"
    },
    "accelerator": "GPU",
    "gpuClass": "standard"
  },
  "cells": [
    {
      "cell_type": "markdown",
      "metadata": {
        "id": "view-in-github",
        "colab_type": "text"
      },
      "source": [
        "<a href=\"https://colab.research.google.com/github/variableVG/CV_project/blob/master/06_PyTorch_CNN_Model.ipynb\" target=\"_parent\"><img src=\"https://colab.research.google.com/assets/colab-badge.svg\" alt=\"Open In Colab\"/></a>"
      ]
    },
    {
      "cell_type": "code",
      "execution_count": 2,
      "metadata": {
        "colab": {
          "base_uri": "https://localhost:8080/"
        },
        "id": "qZnEjMfq2MYv",
        "outputId": "60969dcc-80df-4d39-dc28-a53ee996815f"
      },
      "outputs": [
        {
          "output_type": "stream",
          "name": "stdout",
          "text": [
            "Mounted at /content/drive\n"
          ]
        }
      ],
      "source": [
        "from google.colab import drive\n",
        "drive.mount('/content/drive')"
      ]
    },
    {
      "cell_type": "markdown",
      "source": [
        "# Import Data and images\n"
      ],
      "metadata": {
        "id": "LDsCT-022Xj3"
      }
    },
    {
      "cell_type": "code",
      "source": [
        "import pandas as pd\n",
        "import numpy as np\n",
        "import torchvision.transforms as T\n",
        "import matplotlib.pyplot as plt\n",
        "from PIL import Image\n",
        "import torch\n",
        "import os"
      ],
      "metadata": {
        "id": "2DUJB2Na2mqf"
      },
      "execution_count": 22,
      "outputs": []
    },
    {
      "cell_type": "code",
      "source": [
        "# Use Google Collabs GPU\n",
        "def get_device():\n",
        "  if torch.cuda.is_available():\n",
        "    return torch.device('cuda')\n",
        "  else:\n",
        "    return torch.device('cpu')\n",
        "\n",
        "device = get_device()\n",
        "\n",
        "def to_device(data, device=device):\n",
        "  if isinstance(data, (list, tuple)):\n",
        "    return [to_device(x, device) for x in data]\n",
        "  return data.to(device, non_blocking=True)\n",
        "\n"
      ],
      "metadata": {
        "id": "64K_9gIfopCN"
      },
      "execution_count": 23,
      "outputs": []
    },
    {
      "cell_type": "code",
      "source": [
        "path_to_pictures = '/content/pic/'\n",
        "path_to_dataset = '/content/drive/MyDrive/Colab Notebooks/CVNLP/dataset_faces_small.csv'"
      ],
      "metadata": {
        "id": "ki4_dm8L2asa"
      },
      "execution_count": 24,
      "outputs": []
    },
    {
      "cell_type": "code",
      "source": [
        "#Get .tar file with pytorch files ffrom google drive\n",
        "! pip install gdown\n",
        "! mkdir -p /content/pic/\n",
        "! gdown -O /content/pytorch_files.tar \"16MCrByNUvuVrn_PpAEjrD5_sKGFwvTBE\""
      ],
      "metadata": {
        "colab": {
          "base_uri": "https://localhost:8080/"
        },
        "id": "7bNnusjjyJUu",
        "outputId": "cb2653b5-8746-4b22-f380-33ff6d47ccd8"
      },
      "execution_count": 25,
      "outputs": [
        {
          "output_type": "stream",
          "name": "stdout",
          "text": [
            "Looking in indexes: https://pypi.org/simple, https://us-python.pkg.dev/colab-wheels/public/simple/\n",
            "Requirement already satisfied: gdown in /usr/local/lib/python3.7/dist-packages (4.4.0)\n",
            "Requirement already satisfied: requests[socks] in /usr/local/lib/python3.7/dist-packages (from gdown) (2.23.0)\n",
            "Requirement already satisfied: tqdm in /usr/local/lib/python3.7/dist-packages (from gdown) (4.64.1)\n",
            "Requirement already satisfied: filelock in /usr/local/lib/python3.7/dist-packages (from gdown) (3.8.0)\n",
            "Requirement already satisfied: beautifulsoup4 in /usr/local/lib/python3.7/dist-packages (from gdown) (4.6.3)\n",
            "Requirement already satisfied: six in /usr/local/lib/python3.7/dist-packages (from gdown) (1.15.0)\n",
            "Requirement already satisfied: idna<3,>=2.5 in /usr/local/lib/python3.7/dist-packages (from requests[socks]->gdown) (2.10)\n",
            "Requirement already satisfied: chardet<4,>=3.0.2 in /usr/local/lib/python3.7/dist-packages (from requests[socks]->gdown) (3.0.4)\n",
            "Requirement already satisfied: certifi>=2017.4.17 in /usr/local/lib/python3.7/dist-packages (from requests[socks]->gdown) (2022.9.24)\n",
            "Requirement already satisfied: urllib3!=1.25.0,!=1.25.1,<1.26,>=1.21.1 in /usr/local/lib/python3.7/dist-packages (from requests[socks]->gdown) (1.24.3)\n",
            "Requirement already satisfied: PySocks!=1.5.7,>=1.5.6 in /usr/local/lib/python3.7/dist-packages (from requests[socks]->gdown) (1.7.1)\n",
            "Downloading...\n",
            "From: https://drive.google.com/uc?id=16MCrByNUvuVrn_PpAEjrD5_sKGFwvTBE\n",
            "To: /content/pytorch_files.tar\n",
            "100% 248M/248M [00:01<00:00, 215MB/s]\n"
          ]
        }
      ]
    },
    {
      "cell_type": "code",
      "source": [
        "import tarfile\n",
        "try: \n",
        "  tar = tarfile.open('/content/pytorch_files.tar')\n",
        "  tar.extractall(path='/content/pic')\n",
        "  tar.close()\n",
        "except:\n",
        "  print(\"Pictures could not be extracted\")"
      ],
      "metadata": {
        "id": "ABrvx_7CzqRg"
      },
      "execution_count": 26,
      "outputs": []
    },
    {
      "cell_type": "code",
      "source": [
        "! mv /content/pic/content/drive/MyDrive/Colab\\ Notebooks/CVNLP/normalized_tensor_images/* /content/pic/\n",
        "! rmdir /content/pic/content"
      ],
      "metadata": {
        "colab": {
          "base_uri": "https://localhost:8080/"
        },
        "id": "7IPMIwllp_z0",
        "outputId": "43d1a510-128a-4276-afc8-73cffc9bbb7e"
      },
      "execution_count": 27,
      "outputs": [
        {
          "output_type": "stream",
          "name": "stdout",
          "text": [
            "rmdir: failed to remove '/content/pic/content': Directory not empty\n"
          ]
        }
      ]
    },
    {
      "cell_type": "code",
      "source": [
        "df = pd.read_csv(path_to_dataset)"
      ],
      "metadata": {
        "id": "sSBXgyak2oLx"
      },
      "execution_count": 28,
      "outputs": []
    },
    {
      "cell_type": "code",
      "source": [
        "df.head()"
      ],
      "metadata": {
        "colab": {
          "base_uri": "https://localhost:8080/",
          "height": 206
        },
        "id": "4kmMhx4Z2rX3",
        "outputId": "c7f93b06-f7eb-4b4c-91ed-4afa85d73a8b"
      },
      "execution_count": 29,
      "outputs": [
        {
          "output_type": "execute_result",
          "data": {
            "text/plain": [
              "                       filename  age  gender  ethnicity\n",
              "0  36_1_1_20170116153744623.jpg   36       1          1\n",
              "1  37_0_1_20170116002833730.jpg   37       0          1\n",
              "2  37_0_1_20170117143125092.jpg   37       0          1\n",
              "3  37_1_1_20170116001322849.jpg   37       1          1\n",
              "4  37_1_1_20170116232758932.jpg   37       1          1"
            ],
            "text/html": [
              "\n",
              "  <div id=\"df-c7b6206b-8397-4ea7-9737-f33ae63f441d\">\n",
              "    <div class=\"colab-df-container\">\n",
              "      <div>\n",
              "<style scoped>\n",
              "    .dataframe tbody tr th:only-of-type {\n",
              "        vertical-align: middle;\n",
              "    }\n",
              "\n",
              "    .dataframe tbody tr th {\n",
              "        vertical-align: top;\n",
              "    }\n",
              "\n",
              "    .dataframe thead th {\n",
              "        text-align: right;\n",
              "    }\n",
              "</style>\n",
              "<table border=\"1\" class=\"dataframe\">\n",
              "  <thead>\n",
              "    <tr style=\"text-align: right;\">\n",
              "      <th></th>\n",
              "      <th>filename</th>\n",
              "      <th>age</th>\n",
              "      <th>gender</th>\n",
              "      <th>ethnicity</th>\n",
              "    </tr>\n",
              "  </thead>\n",
              "  <tbody>\n",
              "    <tr>\n",
              "      <th>0</th>\n",
              "      <td>36_1_1_20170116153744623.jpg</td>\n",
              "      <td>36</td>\n",
              "      <td>1</td>\n",
              "      <td>1</td>\n",
              "    </tr>\n",
              "    <tr>\n",
              "      <th>1</th>\n",
              "      <td>37_0_1_20170116002833730.jpg</td>\n",
              "      <td>37</td>\n",
              "      <td>0</td>\n",
              "      <td>1</td>\n",
              "    </tr>\n",
              "    <tr>\n",
              "      <th>2</th>\n",
              "      <td>37_0_1_20170117143125092.jpg</td>\n",
              "      <td>37</td>\n",
              "      <td>0</td>\n",
              "      <td>1</td>\n",
              "    </tr>\n",
              "    <tr>\n",
              "      <th>3</th>\n",
              "      <td>37_1_1_20170116001322849.jpg</td>\n",
              "      <td>37</td>\n",
              "      <td>1</td>\n",
              "      <td>1</td>\n",
              "    </tr>\n",
              "    <tr>\n",
              "      <th>4</th>\n",
              "      <td>37_1_1_20170116232758932.jpg</td>\n",
              "      <td>37</td>\n",
              "      <td>1</td>\n",
              "      <td>1</td>\n",
              "    </tr>\n",
              "  </tbody>\n",
              "</table>\n",
              "</div>\n",
              "      <button class=\"colab-df-convert\" onclick=\"convertToInteractive('df-c7b6206b-8397-4ea7-9737-f33ae63f441d')\"\n",
              "              title=\"Convert this dataframe to an interactive table.\"\n",
              "              style=\"display:none;\">\n",
              "        \n",
              "  <svg xmlns=\"http://www.w3.org/2000/svg\" height=\"24px\"viewBox=\"0 0 24 24\"\n",
              "       width=\"24px\">\n",
              "    <path d=\"M0 0h24v24H0V0z\" fill=\"none\"/>\n",
              "    <path d=\"M18.56 5.44l.94 2.06.94-2.06 2.06-.94-2.06-.94-.94-2.06-.94 2.06-2.06.94zm-11 1L8.5 8.5l.94-2.06 2.06-.94-2.06-.94L8.5 2.5l-.94 2.06-2.06.94zm10 10l.94 2.06.94-2.06 2.06-.94-2.06-.94-.94-2.06-.94 2.06-2.06.94z\"/><path d=\"M17.41 7.96l-1.37-1.37c-.4-.4-.92-.59-1.43-.59-.52 0-1.04.2-1.43.59L10.3 9.45l-7.72 7.72c-.78.78-.78 2.05 0 2.83L4 21.41c.39.39.9.59 1.41.59.51 0 1.02-.2 1.41-.59l7.78-7.78 2.81-2.81c.8-.78.8-2.07 0-2.86zM5.41 20L4 18.59l7.72-7.72 1.47 1.35L5.41 20z\"/>\n",
              "  </svg>\n",
              "      </button>\n",
              "      \n",
              "  <style>\n",
              "    .colab-df-container {\n",
              "      display:flex;\n",
              "      flex-wrap:wrap;\n",
              "      gap: 12px;\n",
              "    }\n",
              "\n",
              "    .colab-df-convert {\n",
              "      background-color: #E8F0FE;\n",
              "      border: none;\n",
              "      border-radius: 50%;\n",
              "      cursor: pointer;\n",
              "      display: none;\n",
              "      fill: #1967D2;\n",
              "      height: 32px;\n",
              "      padding: 0 0 0 0;\n",
              "      width: 32px;\n",
              "    }\n",
              "\n",
              "    .colab-df-convert:hover {\n",
              "      background-color: #E2EBFA;\n",
              "      box-shadow: 0px 1px 2px rgba(60, 64, 67, 0.3), 0px 1px 3px 1px rgba(60, 64, 67, 0.15);\n",
              "      fill: #174EA6;\n",
              "    }\n",
              "\n",
              "    [theme=dark] .colab-df-convert {\n",
              "      background-color: #3B4455;\n",
              "      fill: #D2E3FC;\n",
              "    }\n",
              "\n",
              "    [theme=dark] .colab-df-convert:hover {\n",
              "      background-color: #434B5C;\n",
              "      box-shadow: 0px 1px 3px 1px rgba(0, 0, 0, 0.15);\n",
              "      filter: drop-shadow(0px 1px 2px rgba(0, 0, 0, 0.3));\n",
              "      fill: #FFFFFF;\n",
              "    }\n",
              "  </style>\n",
              "\n",
              "      <script>\n",
              "        const buttonEl =\n",
              "          document.querySelector('#df-c7b6206b-8397-4ea7-9737-f33ae63f441d button.colab-df-convert');\n",
              "        buttonEl.style.display =\n",
              "          google.colab.kernel.accessAllowed ? 'block' : 'none';\n",
              "\n",
              "        async function convertToInteractive(key) {\n",
              "          const element = document.querySelector('#df-c7b6206b-8397-4ea7-9737-f33ae63f441d');\n",
              "          const dataTable =\n",
              "            await google.colab.kernel.invokeFunction('convertToInteractive',\n",
              "                                                     [key], {});\n",
              "          if (!dataTable) return;\n",
              "\n",
              "          const docLinkHtml = 'Like what you see? Visit the ' +\n",
              "            '<a target=\"_blank\" href=https://colab.research.google.com/notebooks/data_table.ipynb>data table notebook</a>'\n",
              "            + ' to learn more about interactive tables.';\n",
              "          element.innerHTML = '';\n",
              "          dataTable['output_type'] = 'display_data';\n",
              "          await google.colab.output.renderOutput(dataTable, element);\n",
              "          const docLink = document.createElement('div');\n",
              "          docLink.innerHTML = docLinkHtml;\n",
              "          element.appendChild(docLink);\n",
              "        }\n",
              "      </script>\n",
              "    </div>\n",
              "  </div>\n",
              "  "
            ]
          },
          "metadata": {},
          "execution_count": 29
        }
      ]
    },
    {
      "cell_type": "code",
      "source": [
        "df.shape"
      ],
      "metadata": {
        "colab": {
          "base_uri": "https://localhost:8080/"
        },
        "id": "aH7g36s42r33",
        "outputId": "ee73de50-e705-44d0-abcb-96e7658166eb"
      },
      "execution_count": 30,
      "outputs": [
        {
          "output_type": "execute_result",
          "data": {
            "text/plain": [
              "(1251, 4)"
            ]
          },
          "metadata": {},
          "execution_count": 30
        }
      ]
    },
    {
      "cell_type": "markdown",
      "source": [
        "# Create Dataset and Load Pictures with Data Loader\n",
        "\n",
        "Because my RAM was constantly crashing and taking a long time to upload photos, I created a class that uses torch.load() and loads directly the images as torch files which seems more efficient"
      ],
      "metadata": {
        "id": "F4xV43LrBUV1"
      }
    },
    {
      "cell_type": "code",
      "source": [
        "# SOurce: https://pytorch.org/docs/stable/data.html\n",
        "# We want a class that implements the image dataset to be able to request pictures\n",
        "# by need and not load all pictures at once (RAM crashes)\n",
        "\n",
        "class TensorDataset(torch.utils.data.Dataset): \n",
        "  def __init__(self, df):\n",
        "    super().__init__()\n",
        "    self.df = df\n",
        "\n",
        "  def __len__(self): \n",
        "    return len(self.df)\n",
        "\n",
        "  def __getitem__(self, idx): # by __getitem__ return a tupel of (picture, label)\n",
        "    basename, extension = os.path.splitext(self.df['filename'][idx])\n",
        "    path = path_to_pictures + basename + '.pth'\n",
        "    torch_picture = torch.load(path)\n",
        "    label = self.df['age'][idx]\n",
        "    return (torch_picture, label)"
      ],
      "metadata": {
        "id": "chry43I68xRi"
      },
      "execution_count": 31,
      "outputs": []
    },
    {
      "cell_type": "code",
      "source": [
        "# Create tensor dataset \n",
        "tensor_dataset = TensorDataset(df)\n",
        "print(len(tensor_dataset))"
      ],
      "metadata": {
        "colab": {
          "base_uri": "https://localhost:8080/"
        },
        "id": "eBcR0oUc34hm",
        "outputId": "bb05c4e3-04df-4d22-b496-3a4748e3ba1d"
      },
      "execution_count": 32,
      "outputs": [
        {
          "output_type": "stream",
          "name": "stdout",
          "text": [
            "1251\n"
          ]
        }
      ]
    },
    {
      "cell_type": "code",
      "source": [
        "img, label = tensor_dataset.__getitem__(3)\n",
        "print(img.shape, label)\n",
        "# Element at index 3 is a pytorch image with age 37. "
      ],
      "metadata": {
        "colab": {
          "base_uri": "https://localhost:8080/"
        },
        "id": "QrnMUltEeL-A",
        "outputId": "d3a97b8d-7d83-49a8-9b3b-9ba119b4d9b6"
      },
      "execution_count": 33,
      "outputs": [
        {
          "output_type": "stream",
          "name": "stdout",
          "text": [
            "torch.Size([3, 128, 128]) 37\n"
          ]
        }
      ]
    },
    {
      "cell_type": "code",
      "source": [
        "# split dataset with PyTorch\n",
        "test_size = int(len(tensor_dataset) * 0.2)\n",
        "train_size = len(tensor_dataset) - test_size\n",
        "print(f\"Dataset has length {len(tensor_dataset)}, train set has length {train_size} and test set has length {test_size}.\")\n",
        "print(f\"Sum of test and train sets is {train_size + test_size}.\")"
      ],
      "metadata": {
        "colab": {
          "base_uri": "https://localhost:8080/"
        },
        "id": "d19UZ0Q6_ve2",
        "outputId": "a9103eab-fed5-49cf-ce65-22fbf182e3b1"
      },
      "execution_count": 34,
      "outputs": [
        {
          "output_type": "stream",
          "name": "stdout",
          "text": [
            "Dataset has length 1251, train set has length 1001 and test set has length 250.\n",
            "Sum of test and train sets is 1251.\n"
          ]
        }
      ]
    },
    {
      "cell_type": "code",
      "source": [
        "from torch.utils.data import random_split\n",
        "# Random numbers will be generated always on the same way, so we can compare models. \n",
        "random_seed = 42\n",
        "torch.manual_seed(random_seed)\n",
        "\n",
        "# Split dataset\n",
        "train_ds, test_ds = random_split(tensor_dataset, [train_size, test_size])\n",
        "print(len(train_ds))\n",
        "print(len(test_ds))"
      ],
      "metadata": {
        "colab": {
          "base_uri": "https://localhost:8080/"
        },
        "id": "7T3kB7fXAj2G",
        "outputId": "e46d0d1e-3a14-4dfb-dcc0-939da29aaf38"
      },
      "execution_count": 35,
      "outputs": [
        {
          "output_type": "stream",
          "name": "stdout",
          "text": [
            "1001\n",
            "250\n"
          ]
        }
      ]
    },
    {
      "cell_type": "code",
      "source": [
        "# Load Data with DataLoader\n",
        "batch_size=8\n",
        "\n",
        "from torch.utils.data import DataLoader\n",
        "train_loader = DataLoader(train_ds, batch_size, shuffle=True, num_workers=2)\n",
        "test_loader = DataLoader(test_ds, batch_size)"
      ],
      "metadata": {
        "id": "cbNLQd1X_U5O"
      },
      "execution_count": 36,
      "outputs": []
    },
    {
      "cell_type": "markdown",
      "source": [
        "# Create Model"
      ],
      "metadata": {
        "id": "ptXGrQJue8Ig"
      }
    },
    {
      "cell_type": "code",
      "source": [
        "# Define initial number of kernels. \n",
        "num_pixels_x = 128\n",
        "num_pixels_y = 128\n",
        "num_kernels = 16"
      ],
      "metadata": {
        "id": "WXc01XGke9PQ"
      },
      "execution_count": 37,
      "outputs": []
    },
    {
      "cell_type": "code",
      "source": [
        "from torch import nn\n",
        "\n",
        "class Model(nn.Module): \n",
        "  def __init__(self): \n",
        "    super().__init__()\n",
        "    self.network = nn.Sequential(\n",
        "        nn.Conv2d(3, num_kernels, kernel_size=3, padding=1),\n",
        "        nn.ReLU(), \n",
        "        nn.Conv2d(num_kernels, num_kernels*2, kernel_size=3, stride=1, padding=1),\n",
        "        nn.ReLU(),\n",
        "        nn.MaxPool2d(2,2), \n",
        "        #MaxPool reduce the size of the image by half (if it was 32x32, becomes 16x16)\n",
        "\n",
        "        nn.Conv2d(num_kernels*2, num_kernels*3, kernel_size=3, padding=1, stride=1),\n",
        "        nn.ReLU(), \n",
        "        nn.Conv2d(num_kernels*3, num_kernels*3, kernel_size=3, stride=1, padding=1),\n",
        "        nn.ReLU(),\n",
        "        nn.MaxPool2d(2,2), \n",
        "\n",
        "        nn.Conv2d(num_kernels*3, num_kernels*4, kernel_size=3, stride=1, padding=1),\n",
        "        nn.ReLU(), \n",
        "        nn.Conv2d(num_kernels*4, num_kernels*4, kernel_size=3, stride=1, padding=1),\n",
        "        nn.ReLU(),\n",
        "        # MaxPool2d reduces the image of a picture by half\n",
        "        nn.MaxPool2d(2,2), # Output:8x4096\n",
        "\n",
        "        # Flatten() reduces the 3 dimensions in one dimension. \n",
        "        nn.Flatten(), \n",
        "        nn.Linear(num_pixels_x*num_pixels_y*num_kernels // 16, num_kernels*4), \n",
        "        nn.ReLU(),\n",
        "        nn.Linear(num_kernels*4, num_kernels*2),\n",
        "        nn.ReLU(),\n",
        "        nn.Linear(num_kernels*2, 1), \n",
        "        #nn.ReLU(), # To make sure there is at the end a number > 0\n",
        "    )\n",
        "  def forward(self, x):\n",
        "    return self.network(x)"
      ],
      "metadata": {
        "id": "cQ3Ul11YfkUx"
      },
      "execution_count": 38,
      "outputs": []
    },
    {
      "cell_type": "markdown",
      "source": [
        "# Train the model"
      ],
      "metadata": {
        "id": "xurTIyFjfoeW"
      }
    },
    {
      "cell_type": "code",
      "source": [
        "def fit(model, train_loader, num_epochs, optimizer, loss_function):\n",
        "  #log = {}\n",
        "  # Tell the model we are in training mode. \n",
        "  # model.train()\n",
        "\n",
        "  for epoch in range(num_epochs): # for each number of epochs. \n",
        "    model.train()\n",
        "    sumloss = []\n",
        "    for x, y in train_loader: # for each batch in the train loader: \n",
        "      x, y = to_device([x, y])\n",
        "      prediction = model(x) # The prediction is 3x1 but we need a tensor of 3.\n",
        "      y = y[:, None]\n",
        "      #prediction = prediction.squeeze()\n",
        "      loss = loss_function(prediction, y)\n",
        "      sumloss.append(loss.detach().item())\n",
        "      loss.backward()\n",
        "      optimizer.step()\n",
        "      optimizer.zero_grad()\n",
        "    #log[epoch] = sum(losses) / len(losses)\n",
        "    print(f\"Epoch [{epoch + 1 }/{num_epochs}] loss: {np.mean(sumloss):.3f}.\")\n"
      ],
      "metadata": {
        "id": "Dp_sRIrafsQ6"
      },
      "execution_count": 39,
      "outputs": []
    },
    {
      "cell_type": "code",
      "source": [
        "# Initialize the model\n",
        "model = to_device(Model())\n",
        "\n",
        "number_param = 0\n",
        "for param in model.parameters():\n",
        "  number_param = number_param + np.prod(param.shape)\n",
        "\n",
        "print(number_param)"
      ],
      "metadata": {
        "colab": {
          "base_uri": "https://localhost:8080/"
        },
        "id": "GVVw0xMSfxgA",
        "outputId": "a28d96a1-7576-4473-a8fe-36e5421b1fd8"
      },
      "execution_count": 40,
      "outputs": [
        {
          "output_type": "stream",
          "name": "stdout",
          "text": [
            "1155137\n"
          ]
        }
      ]
    },
    {
      "cell_type": "code",
      "source": [
        "# Create Optimizer\n",
        "optimizer = torch.optim.Adam(model.parameters())\n",
        "# Other optimizer could be the stochastic gradient descent\n",
        "# torch.optim.SGD(model.parameters(), lr=1e-5)\n",
        "\n",
        "# define loss function\n",
        "loss_function = nn.L1Loss()\n",
        "\n",
        "# Define num of epochs: \n",
        "num_epochs = 50\n",
        "\n",
        "# Train the model using the function above: \n",
        "fit(model, train_loader, num_epochs, optimizer, loss_function)"
      ],
      "metadata": {
        "colab": {
          "base_uri": "https://localhost:8080/"
        },
        "id": "mTfj5fYJk4J4",
        "outputId": "8010368a-da23-4de4-b7df-443cefea0121"
      },
      "execution_count": 44,
      "outputs": [
        {
          "output_type": "stream",
          "name": "stdout",
          "text": [
            "Epoch [1/50] loss: 16.753676694536967.\n",
            "Epoch [2/50] loss: 16.730683674888006.\n",
            "Epoch [3/50] loss: 16.581802171374125.\n",
            "Epoch [4/50] loss: 16.53394649520753.\n",
            "Epoch [5/50] loss: 16.375661744011772.\n",
            "Epoch [6/50] loss: 16.070507723187642.\n",
            "Epoch [7/50] loss: 16.265874669665383.\n",
            "Epoch [8/50] loss: 16.11109665461949.\n",
            "Epoch [9/50] loss: 15.472288985101004.\n",
            "Epoch [10/50] loss: 15.62151811614869.\n",
            "Epoch [11/50] loss: 16.167609714326403.\n",
            "Epoch [12/50] loss: 15.268537385123116.\n",
            "Epoch [13/50] loss: 15.049605952368843.\n",
            "Epoch [14/50] loss: 15.2012459020766.\n",
            "Epoch [15/50] loss: 14.58672607134259.\n",
            "Epoch [16/50] loss: 14.53099909282866.\n",
            "Epoch [17/50] loss: 14.261441484330193.\n",
            "Epoch [18/50] loss: 13.85767676338317.\n",
            "Epoch [19/50] loss: 13.370558413248213.\n",
            "Epoch [20/50] loss: 13.446772787306044.\n",
            "Epoch [21/50] loss: 13.267713501339866.\n",
            "Epoch [22/50] loss: 13.478022068265885.\n",
            "Epoch [23/50] loss: 14.162138647503323.\n",
            "Epoch [24/50] loss: 12.511676201744685.\n",
            "Epoch [25/50] loss: 12.01255072487725.\n",
            "Epoch [26/50] loss: 11.642545601678274.\n",
            "Epoch [27/50] loss: 11.414752916684227.\n",
            "Epoch [28/50] loss: 10.63841296377636.\n",
            "Epoch [29/50] loss: 10.365974257862757.\n",
            "Epoch [30/50] loss: 10.387809798831032.\n",
            "Epoch [31/50] loss: 10.059178897312709.\n",
            "Epoch [32/50] loss: 9.815778671749054.\n",
            "Epoch [33/50] loss: 8.7408738912098.\n",
            "Epoch [34/50] loss: 9.232845495617578.\n",
            "Epoch [35/50] loss: 8.54468560218811.\n",
            "Epoch [36/50] loss: 8.728859443513175.\n",
            "Epoch [37/50] loss: 8.43641393714481.\n",
            "Epoch [38/50] loss: 7.9638607691204735.\n",
            "Epoch [39/50] loss: 7.064912135638888.\n",
            "Epoch [40/50] loss: 6.871436041498941.\n",
            "Epoch [41/50] loss: 6.870490111055828.\n",
            "Epoch [42/50] loss: 6.636061111139873.\n",
            "Epoch [43/50] loss: 6.242008954759628.\n",
            "Epoch [44/50] loss: 5.807021861984616.\n",
            "Epoch [45/50] loss: 5.816467460185763.\n",
            "Epoch [46/50] loss: 5.621870797777933.\n",
            "Epoch [47/50] loss: 5.527624577756912.\n",
            "Epoch [48/50] loss: 5.230763336022695.\n",
            "Epoch [49/50] loss: 4.840659305216774.\n",
            "Epoch [50/50] loss: 4.809770120514764.\n"
          ]
        }
      ]
    },
    {
      "cell_type": "code",
      "source": [
        "def evaluate(loader, name=\"Training\"):\n",
        "  # Get predictions\n",
        "  absolute_error, total = 0, 0 \n",
        "\n",
        "  # This tells PyTorch that the model is in evalution mode. \n",
        "  model.eval() \n",
        "  for idx, (x, y) in enumerate(loader):\n",
        "    x, y = to_device((x,y))\n",
        "    prediction = model(x).squeeze()\n",
        "    #max_prob, prediction = torch.max(output, 1)\n",
        "    total += y.size(0)\n",
        "    absolute_error += ((prediction - y).abs()).sum().item()\n",
        "\n",
        "  mean_absolute_error = absolute_error/ total \n",
        "  print(f\"{name} => Mean Absolute error is {mean_absolute_error:.2f} years\")\n",
        "\n",
        "evaluate(train_loader)\n",
        "evaluate(test_loader, \"Testing\")"
      ],
      "metadata": {
        "colab": {
          "base_uri": "https://localhost:8080/"
        },
        "id": "WpEXLlZFhi5S",
        "outputId": "95c3842b-dc1d-4ddb-ea75-f1a09ab09132"
      },
      "execution_count": 45,
      "outputs": [
        {
          "output_type": "stream",
          "name": "stdout",
          "text": [
            "Training => Mean Absolute error is 4.94 years\n",
            "Testing => Mean Absolute error is 18.89 years\n"
          ]
        }
      ]
    },
    {
      "cell_type": "code",
      "source": [
        "def predict():"
      ],
      "metadata": {
        "colab": {
          "base_uri": "https://localhost:8080/",
          "height": 132
        },
        "id": "D5E7UngRhlPY",
        "outputId": "0f527ce8-6692-4ac1-9067-21c718d548be"
      },
      "execution_count": 43,
      "outputs": [
        {
          "output_type": "error",
          "ename": "SyntaxError",
          "evalue": "ignored",
          "traceback": [
            "\u001b[0;36m  File \u001b[0;32m\"<ipython-input-43-9017fe18d7e1>\"\u001b[0;36m, line \u001b[0;32m1\u001b[0m\n\u001b[0;31m    def predict():\u001b[0m\n\u001b[0m                  ^\u001b[0m\n\u001b[0;31mSyntaxError\u001b[0m\u001b[0;31m:\u001b[0m unexpected EOF while parsing\n"
          ]
        }
      ]
    }
  ]
}