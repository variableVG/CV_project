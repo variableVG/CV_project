{
  "nbformat": 4,
  "nbformat_minor": 0,
  "metadata": {
    "colab": {
      "provenance": [],
      "toc_visible": true,
      "mount_file_id": "https://github.com/variableVG/CV_project/blob/master/05_data_normalization.ipynb",
      "authorship_tag": "ABX9TyPQ8x6PF7qlMBesn1Jtjdz5",
      "include_colab_link": true
    },
    "kernelspec": {
      "name": "python3",
      "display_name": "Python 3"
    },
    "language_info": {
      "name": "python"
    }
  },
  "cells": [
    {
      "cell_type": "markdown",
      "metadata": {
        "id": "view-in-github",
        "colab_type": "text"
      },
      "source": [
        "<a href=\"https://colab.research.google.com/github/variableVG/CV_project/blob/master/05_data_normalization.ipynb\" target=\"_parent\"><img src=\"https://colab.research.google.com/assets/colab-badge.svg\" alt=\"Open In Colab\"/></a>"
      ]
    },
    {
      "cell_type": "markdown",
      "source": [
        "# Normalization\n",
        "\n",
        "\n",
        "In this notebook we normalize the figures and then save them as tensors. The tensors will be used in the next notebook for the convolutional neural network.\n",
        "\n",
        "We use normalization to speed up the computation in the model and learn faster by reducing the skewness of the pixels. To achieve normalization we used the method torchvision.transforms.Normalize(). This method does not support PIL Images. Therefore, we first need to transform the pictures into tensors and then apply normalization. The normalized pictures will be stored as a tensors and used in the convolutional neural network. \n",
        "\n",
        "The Images will be convert to tensors using torchvision.transforms.ToTensor(). This converts the PIL image with a pixel range of 0 to 255 to a PyTorch FloatTensor of shape (C, H, W) with a range from 0 to 1.\n",
        "\n",
        "To normalize the images, we transform their values such as the mean and the standard deviation of the image become 0 and 1 respectively. Therefore Normalize() takes 2 parameters: \n",
        "* Mean: Sequence of means for each channel\n",
        "* Std: Sequence of standard deviations for each channel. \n",
        "\n",
        "It returns a normalized tensor image \n",
        "\n",
        "\n",
        "\n",
        "Sources: \n",
        "* https://pytorch.org/vision/stable/generated/torchvision.transforms.ToTensor.html\n",
        "* https://pytorch.org/vision/main/generated/torchvision.transforms.Normalize.html\n",
        "* https://inside-machinelearning.com/en/why-and-how-to-normalize-data-object-detection-on-image-in-pytorch-part-1/"
      ],
      "metadata": {
        "id": "1HAsPv07SnVO"
      }
    },
    {
      "cell_type": "code",
      "source": [
        "from google.colab import drive\n",
        "drive.mount('/content/drive')"
      ],
      "metadata": {
        "colab": {
          "base_uri": "https://localhost:8080/"
        },
        "id": "pbI7XBEDPadH",
        "outputId": "229cc9b0-1468-4360-f45f-d32783fe0c56"
      },
      "execution_count": null,
      "outputs": [
        {
          "output_type": "stream",
          "name": "stdout",
          "text": [
            "Drive already mounted at /content/drive; to attempt to forcibly remount, call drive.mount(\"/content/drive\", force_remount=True).\n"
          ]
        }
      ]
    },
    {
      "cell_type": "markdown",
      "source": [
        "# Import Data and images"
      ],
      "metadata": {
        "collapsed": false,
        "id": "NyFX0fY7PWqt"
      }
    },
    {
      "cell_type": "code",
      "source": [
        "path_to_pictures = '/content/pic/'\n",
        "path_to_dataset = '/content/drive/MyDrive/Colab Notebooks/CVNLP/dataset_faces_small.csv'"
      ],
      "metadata": {
        "id": "jtkb3rz9PX4I"
      },
      "execution_count": null,
      "outputs": []
    },
    {
      "cell_type": "code",
      "source": [
        "! pip install gdown\n",
        "! mkdir -p /content/pic/\n",
        "! gdown -O /content/pictures_small.tar \"1ldp2lrGl_RXxtS7u2pUCdSAwIbXEiG40\""
      ],
      "metadata": {
        "colab": {
          "base_uri": "https://localhost:8080/"
        },
        "id": "7bNnusjjyJUu",
        "outputId": "f3f1534d-44a7-4cd4-ed7d-4bc006d741c7"
      },
      "execution_count": null,
      "outputs": [
        {
          "output_type": "stream",
          "name": "stdout",
          "text": [
            "Looking in indexes: https://pypi.org/simple, https://us-python.pkg.dev/colab-wheels/public/simple/\n",
            "Requirement already satisfied: gdown in /usr/local/lib/python3.7/dist-packages (4.4.0)\n",
            "Requirement already satisfied: requests[socks] in /usr/local/lib/python3.7/dist-packages (from gdown) (2.23.0)\n",
            "Requirement already satisfied: filelock in /usr/local/lib/python3.7/dist-packages (from gdown) (3.8.0)\n",
            "Requirement already satisfied: tqdm in /usr/local/lib/python3.7/dist-packages (from gdown) (4.64.1)\n",
            "Requirement already satisfied: beautifulsoup4 in /usr/local/lib/python3.7/dist-packages (from gdown) (4.6.3)\n",
            "Requirement already satisfied: six in /usr/local/lib/python3.7/dist-packages (from gdown) (1.15.0)\n",
            "Requirement already satisfied: certifi>=2017.4.17 in /usr/local/lib/python3.7/dist-packages (from requests[socks]->gdown) (2022.9.24)\n",
            "Requirement already satisfied: urllib3!=1.25.0,!=1.25.1,<1.26,>=1.21.1 in /usr/local/lib/python3.7/dist-packages (from requests[socks]->gdown) (1.24.3)\n",
            "Requirement already satisfied: idna<3,>=2.5 in /usr/local/lib/python3.7/dist-packages (from requests[socks]->gdown) (2.10)\n",
            "Requirement already satisfied: chardet<4,>=3.0.2 in /usr/local/lib/python3.7/dist-packages (from requests[socks]->gdown) (3.0.4)\n",
            "Requirement already satisfied: PySocks!=1.5.7,>=1.5.6 in /usr/local/lib/python3.7/dist-packages (from requests[socks]->gdown) (1.7.1)\n",
            "Downloading...\n",
            "From: https://drive.google.com/uc?id=1ldp2lrGl_RXxtS7u2pUCdSAwIbXEiG40\n",
            "To: /content/pictures_small.tar\n",
            "100% 10.8M/10.8M [00:00<00:00, 110MB/s]\n"
          ]
        }
      ]
    },
    {
      "cell_type": "code",
      "source": [
        "import tarfile\n",
        "try: \n",
        "  tar = tarfile.open('/content/pictures_small.tar')\n",
        "  tar.extractall(path='/content/pic')\n",
        "  tar.close()\n",
        "except:\n",
        "  print(\"Pictures could not be extracted\")"
      ],
      "metadata": {
        "id": "ABrvx_7CzqRg"
      },
      "execution_count": null,
      "outputs": []
    },
    {
      "cell_type": "code",
      "source": [
        "! mv /content/pic/content/small_pics/* /content/pic/\n",
        "! rmdir /content/pic/content"
      ],
      "metadata": {
        "colab": {
          "base_uri": "https://localhost:8080/"
        },
        "id": "7IPMIwllp_z0",
        "outputId": "e490972c-2f9d-4fd9-adfb-2919bae84fee"
      },
      "execution_count": null,
      "outputs": [
        {
          "output_type": "stream",
          "name": "stdout",
          "text": [
            "rmdir: failed to remove '/content/pic/content': Directory not empty\n"
          ]
        }
      ]
    },
    {
      "cell_type": "code",
      "execution_count": null,
      "outputs": [],
      "source": [
        "import pandas as pd\n",
        "import numpy as np\n",
        "import torchvision.transforms as T\n",
        "import matplotlib.pyplot as plt\n",
        "from PIL import Image\n",
        "import torch"
      ],
      "metadata": {
        "id": "hU8k8mlNPWqu"
      }
    },
    {
      "cell_type": "code",
      "execution_count": null,
      "outputs": [],
      "source": [
        "df = pd.read_csv(path_to_dataset)"
      ],
      "metadata": {
        "id": "MA97DxqiPWqv"
      }
    },
    {
      "cell_type": "code",
      "execution_count": null,
      "outputs": [
        {
          "output_type": "execute_result",
          "data": {
            "text/plain": [
              "                       filename  age  gender  ethnicity\n",
              "0  36_1_1_20170116223054510.jpg   36       1          1\n",
              "1  36_1_1_20170117165628076.jpg   36       1          1\n",
              "2  37_0_0_20170117140720825.jpg   37       0          0\n",
              "3  37_0_1_20170116193744974.jpg   37       0          1\n",
              "4  37_0_1_20170117140332549.jpg   37       0          1"
            ],
            "text/html": [
              "\n",
              "  <div id=\"df-49d86af4-5b97-4dac-9a66-24c78df914b0\">\n",
              "    <div class=\"colab-df-container\">\n",
              "      <div>\n",
              "<style scoped>\n",
              "    .dataframe tbody tr th:only-of-type {\n",
              "        vertical-align: middle;\n",
              "    }\n",
              "\n",
              "    .dataframe tbody tr th {\n",
              "        vertical-align: top;\n",
              "    }\n",
              "\n",
              "    .dataframe thead th {\n",
              "        text-align: right;\n",
              "    }\n",
              "</style>\n",
              "<table border=\"1\" class=\"dataframe\">\n",
              "  <thead>\n",
              "    <tr style=\"text-align: right;\">\n",
              "      <th></th>\n",
              "      <th>filename</th>\n",
              "      <th>age</th>\n",
              "      <th>gender</th>\n",
              "      <th>ethnicity</th>\n",
              "    </tr>\n",
              "  </thead>\n",
              "  <tbody>\n",
              "    <tr>\n",
              "      <th>0</th>\n",
              "      <td>36_1_1_20170116223054510.jpg</td>\n",
              "      <td>36</td>\n",
              "      <td>1</td>\n",
              "      <td>1</td>\n",
              "    </tr>\n",
              "    <tr>\n",
              "      <th>1</th>\n",
              "      <td>36_1_1_20170117165628076.jpg</td>\n",
              "      <td>36</td>\n",
              "      <td>1</td>\n",
              "      <td>1</td>\n",
              "    </tr>\n",
              "    <tr>\n",
              "      <th>2</th>\n",
              "      <td>37_0_0_20170117140720825.jpg</td>\n",
              "      <td>37</td>\n",
              "      <td>0</td>\n",
              "      <td>0</td>\n",
              "    </tr>\n",
              "    <tr>\n",
              "      <th>3</th>\n",
              "      <td>37_0_1_20170116193744974.jpg</td>\n",
              "      <td>37</td>\n",
              "      <td>0</td>\n",
              "      <td>1</td>\n",
              "    </tr>\n",
              "    <tr>\n",
              "      <th>4</th>\n",
              "      <td>37_0_1_20170117140332549.jpg</td>\n",
              "      <td>37</td>\n",
              "      <td>0</td>\n",
              "      <td>1</td>\n",
              "    </tr>\n",
              "  </tbody>\n",
              "</table>\n",
              "</div>\n",
              "      <button class=\"colab-df-convert\" onclick=\"convertToInteractive('df-49d86af4-5b97-4dac-9a66-24c78df914b0')\"\n",
              "              title=\"Convert this dataframe to an interactive table.\"\n",
              "              style=\"display:none;\">\n",
              "        \n",
              "  <svg xmlns=\"http://www.w3.org/2000/svg\" height=\"24px\"viewBox=\"0 0 24 24\"\n",
              "       width=\"24px\">\n",
              "    <path d=\"M0 0h24v24H0V0z\" fill=\"none\"/>\n",
              "    <path d=\"M18.56 5.44l.94 2.06.94-2.06 2.06-.94-2.06-.94-.94-2.06-.94 2.06-2.06.94zm-11 1L8.5 8.5l.94-2.06 2.06-.94-2.06-.94L8.5 2.5l-.94 2.06-2.06.94zm10 10l.94 2.06.94-2.06 2.06-.94-2.06-.94-.94-2.06-.94 2.06-2.06.94z\"/><path d=\"M17.41 7.96l-1.37-1.37c-.4-.4-.92-.59-1.43-.59-.52 0-1.04.2-1.43.59L10.3 9.45l-7.72 7.72c-.78.78-.78 2.05 0 2.83L4 21.41c.39.39.9.59 1.41.59.51 0 1.02-.2 1.41-.59l7.78-7.78 2.81-2.81c.8-.78.8-2.07 0-2.86zM5.41 20L4 18.59l7.72-7.72 1.47 1.35L5.41 20z\"/>\n",
              "  </svg>\n",
              "      </button>\n",
              "      \n",
              "  <style>\n",
              "    .colab-df-container {\n",
              "      display:flex;\n",
              "      flex-wrap:wrap;\n",
              "      gap: 12px;\n",
              "    }\n",
              "\n",
              "    .colab-df-convert {\n",
              "      background-color: #E8F0FE;\n",
              "      border: none;\n",
              "      border-radius: 50%;\n",
              "      cursor: pointer;\n",
              "      display: none;\n",
              "      fill: #1967D2;\n",
              "      height: 32px;\n",
              "      padding: 0 0 0 0;\n",
              "      width: 32px;\n",
              "    }\n",
              "\n",
              "    .colab-df-convert:hover {\n",
              "      background-color: #E2EBFA;\n",
              "      box-shadow: 0px 1px 2px rgba(60, 64, 67, 0.3), 0px 1px 3px 1px rgba(60, 64, 67, 0.15);\n",
              "      fill: #174EA6;\n",
              "    }\n",
              "\n",
              "    [theme=dark] .colab-df-convert {\n",
              "      background-color: #3B4455;\n",
              "      fill: #D2E3FC;\n",
              "    }\n",
              "\n",
              "    [theme=dark] .colab-df-convert:hover {\n",
              "      background-color: #434B5C;\n",
              "      box-shadow: 0px 1px 3px 1px rgba(0, 0, 0, 0.15);\n",
              "      filter: drop-shadow(0px 1px 2px rgba(0, 0, 0, 0.3));\n",
              "      fill: #FFFFFF;\n",
              "    }\n",
              "  </style>\n",
              "\n",
              "      <script>\n",
              "        const buttonEl =\n",
              "          document.querySelector('#df-49d86af4-5b97-4dac-9a66-24c78df914b0 button.colab-df-convert');\n",
              "        buttonEl.style.display =\n",
              "          google.colab.kernel.accessAllowed ? 'block' : 'none';\n",
              "\n",
              "        async function convertToInteractive(key) {\n",
              "          const element = document.querySelector('#df-49d86af4-5b97-4dac-9a66-24c78df914b0');\n",
              "          const dataTable =\n",
              "            await google.colab.kernel.invokeFunction('convertToInteractive',\n",
              "                                                     [key], {});\n",
              "          if (!dataTable) return;\n",
              "\n",
              "          const docLinkHtml = 'Like what you see? Visit the ' +\n",
              "            '<a target=\"_blank\" href=https://colab.research.google.com/notebooks/data_table.ipynb>data table notebook</a>'\n",
              "            + ' to learn more about interactive tables.';\n",
              "          element.innerHTML = '';\n",
              "          dataTable['output_type'] = 'display_data';\n",
              "          await google.colab.output.renderOutput(dataTable, element);\n",
              "          const docLink = document.createElement('div');\n",
              "          docLink.innerHTML = docLinkHtml;\n",
              "          element.appendChild(docLink);\n",
              "        }\n",
              "      </script>\n",
              "    </div>\n",
              "  </div>\n",
              "  "
            ]
          },
          "metadata": {},
          "execution_count": 8
        }
      ],
      "source": [
        "df.head()"
      ],
      "metadata": {
        "colab": {
          "base_uri": "https://localhost:8080/",
          "height": 206
        },
        "id": "28o-IgLVPWqw",
        "outputId": "81178e61-451d-477e-8a09-298a4821952d"
      }
    },
    {
      "cell_type": "code",
      "source": [
        "df.shape"
      ],
      "metadata": {
        "id": "1BQqGJ6aNGE4",
        "outputId": "21d01667-d2e1-45d5-f8ab-4b101d147946",
        "colab": {
          "base_uri": "https://localhost:8080/"
        }
      },
      "execution_count": null,
      "outputs": [
        {
          "output_type": "execute_result",
          "data": {
            "text/plain": [
              "(2501, 4)"
            ]
          },
          "metadata": {},
          "execution_count": 9
        }
      ]
    },
    {
      "cell_type": "markdown",
      "source": [
        "## Get pictures as numpy arrays"
      ],
      "metadata": {
        "collapsed": false,
        "id": "w2zaDjn4PWqx"
      }
    },
    {
      "cell_type": "code",
      "execution_count": null,
      "outputs": [
        {
          "output_type": "stream",
          "name": "stderr",
          "text": [
            "100%|██████████| 2501/2501 [00:00<00:00, 2565.26it/s]\n"
          ]
        }
      ],
      "source": [
        "# WARNING: This might take long\n",
        "from tqdm import tqdm\n",
        "from pathlib import Path\n",
        "images = []\n",
        "\n",
        "for image in tqdm(df['filename']):\n",
        "  path = path_to_pictures + image\n",
        "  try: \n",
        "    img = Image.open(path).convert('RGB') # I use that to make sure all the pictures are RGB\n",
        "    images.append(img)\n",
        "    #img = np.array(img)\n",
        "  except FileNotFoundError as e:\n",
        "    print(e)\n",
        "  "
      ],
      "metadata": {
        "colab": {
          "base_uri": "https://localhost:8080/"
        },
        "id": "EKDSiCOqPWqx",
        "outputId": "a9e84b9e-50f9-43ce-a709-d1f4fc7ea98d"
      }
    },
    {
      "cell_type": "code",
      "execution_count": null,
      "outputs": [
        {
          "output_type": "execute_result",
          "data": {
            "text/plain": [
              "<PIL.Image.Image image mode=RGB size=128x128 at 0x7F7B21756190>"
            ],
            "image/png": "[encoded data removed]"
          },
          "metadata": {},
          "execution_count": 11
        }
      ],
      "source": [
        "images[0]"
      ],
      "metadata": {
        "colab": {
          "base_uri": "https://localhost:8080/",
          "height": 145
        },
        "id": "35ng0xCZPWqy",
        "outputId": "95aa3904-5af4-47fa-cd07-00a787fa6f8f"
      }
    },
    {
      "cell_type": "code",
      "source": [
        "# Check sizes\n",
        "for idx, img in enumerate(images[0:5]):\n",
        "  img_array = np.array(img)\n",
        "  print(f\"Image {idx} has shape {img_array.shape}\")"
      ],
      "metadata": {
        "id": "Ov23dcXxS6J_",
        "outputId": "7fbbdb88-227a-4007-f343-709dd8f10d74",
        "colab": {
          "base_uri": "https://localhost:8080/"
        }
      },
      "execution_count": null,
      "outputs": [
        {
          "output_type": "stream",
          "name": "stdout",
          "text": [
            "Image 0 has shape (128, 128, 3)\n",
            "Image 1 has shape (128, 128, 3)\n",
            "Image 2 has shape (128, 128, 3)\n",
            "Image 3 has shape (128, 128, 3)\n",
            "Image 4 has shape (128, 128, 3)\n"
          ]
        }
      ]
    },
    {
      "cell_type": "code",
      "source": [
        "img_size = (img_array.shape[0], img_array.shape[1])"
      ],
      "metadata": {
        "id": "8LYNntCSY3NI"
      },
      "execution_count": null,
      "outputs": []
    },
    {
      "cell_type": "markdown",
      "source": [
        "# Normalize Pictures with PyTorch\n"
      ],
      "metadata": {
        "id": "w8FVTRBxiYE4"
      }
    },
    {
      "cell_type": "code",
      "source": [
        "# Transform images to tensor images: \n",
        "tensor_images = []\n",
        "for idx, img in enumerate(images):\n",
        "  tensor_img = (T.ToTensor())(img) # Transform image to pixel values btw 0 and 1\n",
        "  tensor_images.append(tensor_img)"
      ],
      "metadata": {
        "id": "YKGC8ElysNus"
      },
      "execution_count": null,
      "outputs": []
    },
    {
      "cell_type": "code",
      "source": [
        "# Plot pixel values of first image: \n",
        "array_img = np.array(tensor_images[0])\n",
        "\n",
        "plt.hist(array_img.ravel(), bins=50, density=True)\n",
        "plt.xlabel('pixel values')\n",
        "plt.ylabel('relative frequency')\n",
        "plt.title('distribution of pixels for first picture')"
      ],
      "metadata": {
        "id": "z_aXGRdKtUiN",
        "outputId": "c9145c8b-6df2-4e44-e905-0a69c09a692e",
        "colab": {
          "base_uri": "https://localhost:8080/",
          "height": 312
        }
      },
      "execution_count": null,
      "outputs": [
        {
          "output_type": "execute_result",
          "data": {
            "text/plain": [
              "Text(0.5, 1.0, 'distribution of pixels for first picture')"
            ]
          },
          "metadata": {},
          "execution_count": 15
        },
        {
          "output_type": "display_data",
          "data": {
            "text/plain": [
              "<Figure size 432x288 with 1 Axes>"
            ],
            "image/png": "[encoded data removed]"
          },
          "metadata": {
            "needs_background": "light"
          }
        }
      ]
    },
    {
      "cell_type": "code",
      "source": [
        "# Calculate mean and standard deviation for 10 random pictures: \n",
        "import random\n",
        "mean_pixels = torch.zeros([3, 10]) # Create empty torch arrays for mean_pixels and std_pixels\n",
        "std_pixels = torch.zeros([3, 10])\n",
        "\n",
        "for idx, img in enumerate(random.sample(tensor_images, k=10)):\n",
        "  mean = img.mean([1,2])\n",
        "  std = img.std([1,2])\n",
        "  mean_pixels[:, idx] = mean # Store the mean pixel value for each pic\n",
        "  std_pixels[:, idx] = std # Store the std pixel value for each pic\n",
        "\n",
        "mean = mean_pixels.mean(1) # Calculate mean and std for the 10 pictures\n",
        "std = std_pixels.mean(1)\n",
        "\n",
        "print(f\"Mean of 10 random images: {mean}\")\n",
        "print(f\"Std of 10 random images: {std}\")"
      ],
      "metadata": {
        "id": "EHy3wyQNt2RY",
        "outputId": "8cae1d9e-7451-4e72-e0d4-5491288d5d37",
        "colab": {
          "base_uri": "https://localhost:8080/"
        }
      },
      "execution_count": null,
      "outputs": [
        {
          "output_type": "stream",
          "name": "stdout",
          "text": [
            "Mean of 10 random images: tensor([0.5334, 0.4742, 0.4320])\n",
            "Std of 10 random images: tensor([0.2369, 0.2457, 0.2450])\n"
          ]
        }
      ]
    },
    {
      "cell_type": "code",
      "source": [
        "# Instanciate Normalize() function with calculated mean and std\n",
        "normalizer = T.Normalize(mean=list(mean), std=list(std))\n",
        "normalized_images_tensor = [] # Here we stored the normalized pictures\n",
        "\n",
        "for idx, img in enumerate(tensor_images):\n",
        "  try: \n",
        "    normalized_img = normalizer(img)\n",
        "    normalized_images_tensor.append(normalized_img)\n",
        "  except RuntimeError as e:\n",
        "    print(f\"Normalization failed in index {idx}: {e}\")"
      ],
      "metadata": {
        "id": "reZIJM3AirTL"
      },
      "execution_count": null,
      "outputs": []
    },
    {
      "cell_type": "code",
      "source": [
        "print(f\"Normalized lists lenght is {len(normalized_images_tensor)}\")\n",
        "print(f\"df shape is {df.shape}\")"
      ],
      "metadata": {
        "id": "t7EASEMtsfAl",
        "colab": {
          "base_uri": "https://localhost:8080/"
        },
        "outputId": "5bbcfaae-d92b-444c-f013-5860f1968208"
      },
      "execution_count": null,
      "outputs": [
        {
          "output_type": "stream",
          "name": "stdout",
          "text": [
            "Normalized lists lenght is 2501\n",
            "df shape is (2501, 4)\n"
          ]
        }
      ]
    },
    {
      "cell_type": "code",
      "source": [
        "normalized_images_tensor[0]"
      ],
      "metadata": {
        "colab": {
          "base_uri": "https://localhost:8080/"
        },
        "id": "6OqrVj85xUlv",
        "outputId": "4245ae26-05d8-4778-80e5-fe1c29b73b5a"
      },
      "execution_count": null,
      "outputs": [
        {
          "output_type": "execute_result",
          "data": {
            "text/plain": [
              "tensor([[[1.8043, 1.7381, 1.7050,  ..., 1.6884, 1.6884, 1.7050],\n",
              "         [1.8043, 1.7381, 1.7050,  ..., 1.6884, 1.6884, 1.7050],\n",
              "         [1.8043, 1.7381, 1.7050,  ..., 1.6884, 1.7050, 1.7050],\n",
              "         ...,\n",
              "         [1.8208, 1.7381, 1.7381,  ..., 1.1587, 1.2746, 1.4567],\n",
              "         [1.8208, 1.7381, 1.7215,  ..., 1.0759, 1.2414, 1.4401],\n",
              "         [1.7877, 1.7381, 1.7215,  ..., 1.0593, 1.2083, 1.4401]],\n",
              "\n",
              "        [[1.7090, 1.6451, 1.6451,  ..., 1.5973, 1.5973, 1.6132],\n",
              "         [1.7090, 1.6451, 1.6451,  ..., 1.5973, 1.5973, 1.6132],\n",
              "         [1.7090, 1.6451, 1.6451,  ..., 1.5973, 1.6132, 1.6132],\n",
              "         ...,\n",
              "         [1.7569, 1.6771, 1.6611,  ..., 0.9748, 1.1185, 1.2781],\n",
              "         [1.7409, 1.6611, 1.6611,  ..., 0.9429, 1.0865, 1.3100],\n",
              "         [1.7409, 1.6611, 1.6451,  ..., 0.9270, 1.0865, 1.3100]],\n",
              "\n",
              "        [[1.9819, 1.9179, 1.9019,  ..., 1.9019, 1.9019, 1.9179],\n",
              "         [1.9819, 1.9179, 1.9019,  ..., 1.9019, 1.9019, 1.9179],\n",
              "         [1.9819, 1.9179, 1.9019,  ..., 1.9019, 1.9179, 1.9179],\n",
              "         ...,\n",
              "         [2.0139, 1.9019, 1.8859,  ..., 1.1496, 1.3417, 1.5498],\n",
              "         [2.0939, 1.9979, 1.9499,  ..., 1.0696, 1.2937, 1.5178],\n",
              "         [2.1259, 2.0459, 1.9979,  ..., 1.0216, 1.2457, 1.5018]]])"
            ]
          },
          "metadata": {},
          "execution_count": 19
        }
      ]
    },
    {
      "cell_type": "code",
      "source": [
        "plt.imshow(normalized_images_tensor[0].permute(1, 2, 0))"
      ],
      "metadata": {
        "colab": {
          "base_uri": "https://localhost:8080/",
          "height": 303
        },
        "id": "S_co1torx0oo",
        "outputId": "2e4011b5-6563-467e-9c6a-26b42ea0fce1"
      },
      "execution_count": null,
      "outputs": [
        {
          "output_type": "stream",
          "name": "stderr",
          "text": [
            "WARNING:matplotlib.image:Clipping input data to the valid range for imshow with RGB data ([0..1] for floats or [0..255] for integers).\n"
          ]
        },
        {
          "output_type": "execute_result",
          "data": {
            "text/plain": [
              "<matplotlib.image.AxesImage at 0x7f7b20574590>"
            ]
          },
          "metadata": {},
          "execution_count": 20
        },
        {
          "output_type": "display_data",
          "data": {
            "text/plain": [
              "<Figure size 432x288 with 1 Axes>"
            ],
            "image/png": "[encoded data removed]"
          },
          "metadata": {
            "needs_background": "light"
          }
        }
      ]
    },
    {
      "cell_type": "markdown",
      "source": [
        "# Save tensors"
      ],
      "metadata": {
        "id": "iYO3LfYtx_CG"
      }
    },
    {
      "cell_type": "code",
      "source": [
        "print(df.shape)\n",
        "len(normalized_images_tensor)"
      ],
      "metadata": {
        "colab": {
          "base_uri": "https://localhost:8080/"
        },
        "id": "SdvGw3fMzf2w",
        "outputId": "cadd1d0b-177a-46f0-bd14-5c2704305473"
      },
      "execution_count": null,
      "outputs": [
        {
          "output_type": "stream",
          "name": "stdout",
          "text": [
            "(2501, 4)\n"
          ]
        },
        {
          "output_type": "execute_result",
          "data": {
            "text/plain": [
              "2501"
            ]
          },
          "metadata": {},
          "execution_count": 21
        }
      ]
    },
    {
      "cell_type": "code",
      "source": [
        "path_to_save_pictures = '/content/drive/MyDrive/Colab Notebooks/CVNLP/normalized_tensor_images/'"
      ],
      "metadata": {
        "id": "bJCUEHFZyCh4"
      },
      "execution_count": null,
      "outputs": []
    },
    {
      "cell_type": "code",
      "source": [
        "import os\n",
        "import tarfile\n",
        "tar = tarfile.open('/content/drive/MyDrive/Colab Notebooks/CVNLP/tensor_images.tar', \"w\")\n",
        "\n",
        "for idx, img in enumerate(tqdm(normalized_images_tensor)): \n",
        "  basename, extension = os.path.splitext(df['filename'][idx]) # get filename without extension\n",
        "  path = path_to_save_pictures + basename + '.pth' # extension pth is for pythorch files\n",
        "  try:\n",
        "    torch.save(img, path)\n",
        "    tar.add(path)\n",
        "  except: \n",
        "    print(f\"File {df['filename'][idx]} could not be saved\")\n",
        "tar.close()"
      ],
      "metadata": {
        "id": "-Hl0qrsJzIwm",
        "outputId": "7f0b18b4-c55b-4b6e-80b3-d2be4fece5c0",
        "colab": {
          "base_uri": "https://localhost:8080/"
        }
      },
      "execution_count": null,
      "outputs": [
        {
          "output_type": "stream",
          "name": "stderr",
          "text": [
            "100%|██████████| 2501/2501 [00:49<00:00, 50.44it/s]\n"
          ]
        }
      ]
    },
    {
      "cell_type": "code",
      "source": [
        "# Source: https://discuss.pytorch.org/t/storing-images-as-tensor/20096/3"
      ],
      "metadata": {
        "id": "36srYdRgy8_R"
      },
      "execution_count": null,
      "outputs": []
    }
  ]
}