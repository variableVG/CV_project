{
  "nbformat": 4,
  "nbformat_minor": 0,
  "metadata": {
    "colab": {
      "provenance": [],
      "authorship_tag": "ABX9TyPn5fs34m+6xIN8baxNKrr1",
      "include_colab_link": true
    },
    "kernelspec": {
      "name": "python3",
      "display_name": "Python 3"
    },
    "language_info": {
      "name": "python"
    }
  },
  "cells": [
    {
      "cell_type": "markdown",
      "metadata": {
        "id": "view-in-github",
        "colab_type": "text"
      },
      "source": [
        "<a href=\"https://colab.research.google.com/github/variableVG/CV_project/blob/master/05_data_normalization.ipynb\" target=\"_parent\"><img src=\"https://colab.research.google.com/assets/colab-badge.svg\" alt=\"Open In Colab\"/></a>"
      ]
    },
    {
      "cell_type": "code",
      "execution_count": null,
      "metadata": {
        "id": "Ngs9slz7wqup"
      },
      "outputs": [],
      "source": []
    },
    {
      "cell_type": "code",
      "source": [
        "from google.colab import drive\n",
        "drive.mount('/content/drive')"
      ],
      "metadata": {
        "colab": {
          "base_uri": "https://localhost:8080/"
        },
        "id": "pbI7XBEDPadH",
        "outputId": "668f80dc-5171-4757-b4b4-5a838f1e7dd3"
      },
      "execution_count": 1,
      "outputs": [
        {
          "output_type": "stream",
          "name": "stdout",
          "text": [
            "Mounted at /content/drive\n"
          ]
        }
      ]
    },
    {
      "cell_type": "markdown",
      "source": [
        "# Import Data and images"
      ],
      "metadata": {
        "collapsed": false,
        "id": "NyFX0fY7PWqt"
      }
    },
    {
      "cell_type": "code",
      "source": [
        "! pip install gdown\n",
        "! mkdir -p /content/pic/\n",
        "! gdown -O /content/pictures_small.tar \"1RVa4YzGpGidql_NOb69bYgpLZcdZD98b\""
      ],
      "metadata": {
        "colab": {
          "base_uri": "https://localhost:8080/"
        },
        "id": "7bNnusjjyJUu",
        "outputId": "e75a1ab6-c457-4660-f18b-47a3cc1abf7a"
      },
      "execution_count": 2,
      "outputs": [
        {
          "output_type": "stream",
          "name": "stdout",
          "text": [
            "Looking in indexes: https://pypi.org/simple, https://us-python.pkg.dev/colab-wheels/public/simple/\n",
            "Requirement already satisfied: gdown in /usr/local/lib/python3.7/dist-packages (4.4.0)\n",
            "Requirement already satisfied: beautifulsoup4 in /usr/local/lib/python3.7/dist-packages (from gdown) (4.6.3)\n",
            "Requirement already satisfied: six in /usr/local/lib/python3.7/dist-packages (from gdown) (1.15.0)\n",
            "Requirement already satisfied: tqdm in /usr/local/lib/python3.7/dist-packages (from gdown) (4.64.1)\n",
            "Requirement already satisfied: filelock in /usr/local/lib/python3.7/dist-packages (from gdown) (3.8.0)\n",
            "Requirement already satisfied: requests[socks] in /usr/local/lib/python3.7/dist-packages (from gdown) (2.23.0)\n",
            "Requirement already satisfied: chardet<4,>=3.0.2 in /usr/local/lib/python3.7/dist-packages (from requests[socks]->gdown) (3.0.4)\n",
            "Requirement already satisfied: idna<3,>=2.5 in /usr/local/lib/python3.7/dist-packages (from requests[socks]->gdown) (2.10)\n",
            "Requirement already satisfied: certifi>=2017.4.17 in /usr/local/lib/python3.7/dist-packages (from requests[socks]->gdown) (2022.9.24)\n",
            "Requirement already satisfied: urllib3!=1.25.0,!=1.25.1,<1.26,>=1.21.1 in /usr/local/lib/python3.7/dist-packages (from requests[socks]->gdown) (1.24.3)\n",
            "Requirement already satisfied: PySocks!=1.5.7,>=1.5.6 in /usr/local/lib/python3.7/dist-packages (from requests[socks]->gdown) (1.7.1)\n",
            "Downloading...\n",
            "From: https://drive.google.com/uc?id=1RVa4YzGpGidql_NOb69bYgpLZcdZD98b\n",
            "To: /content/pictures_small.tar\n",
            "100% 5.39M/5.39M [00:00<00:00, 211MB/s]\n"
          ]
        }
      ]
    },
    {
      "cell_type": "code",
      "source": [
        "import tarfile\n",
        "try: \n",
        "  tar = tarfile.open('/content/pictures_small.tar')\n",
        "  tar.extractall(path='/content/pic')\n",
        "  tar.close()\n",
        "except:\n",
        "  print(\"Pictures could not be extracted\")"
      ],
      "metadata": {
        "id": "ABrvx_7CzqRg"
      },
      "execution_count": 3,
      "outputs": []
    },
    {
      "cell_type": "code",
      "source": [
        "! mv /content/pic/content/small_pics/* /content/pic/\n",
        "! rmdir /content/pic/content"
      ],
      "metadata": {
        "colab": {
          "base_uri": "https://localhost:8080/"
        },
        "id": "7IPMIwllp_z0",
        "outputId": "2b0fa85f-5cb0-4cce-f350-63d5b2b80067"
      },
      "execution_count": 4,
      "outputs": [
        {
          "output_type": "stream",
          "name": "stdout",
          "text": [
            "rmdir: failed to remove '/content/pic/content': Directory not empty\n"
          ]
        }
      ]
    },
    {
      "cell_type": "code",
      "source": [
        "path_to_pictures = '/content/pic/'\n",
        "path_to_dataset = '/content/drive/MyDrive/Colab Notebooks/CVNLP/dataset_faces_small.csv'"
      ],
      "metadata": {
        "id": "jtkb3rz9PX4I"
      },
      "execution_count": 5,
      "outputs": []
    },
    {
      "cell_type": "code",
      "execution_count": 6,
      "outputs": [],
      "source": [
        "import pandas as pd\n",
        "import numpy as np\n",
        "import torchvision.transforms as T\n",
        "import matplotlib.pyplot as plt\n",
        "from PIL import Image\n",
        "import torch"
      ],
      "metadata": {
        "id": "hU8k8mlNPWqu"
      }
    },
    {
      "cell_type": "code",
      "execution_count": 7,
      "outputs": [],
      "source": [
        "df = pd.read_csv(path_to_dataset)"
      ],
      "metadata": {
        "id": "MA97DxqiPWqv"
      }
    },
    {
      "cell_type": "code",
      "execution_count": 8,
      "outputs": [
        {
          "output_type": "execute_result",
          "data": {
            "text/plain": [
              "                       filename  age  gender  ethnicity\n",
              "0  36_1_1_20170116153744623.jpg   36       1          1\n",
              "1  37_0_1_20170116002833730.jpg   37       0          1\n",
              "2  37_0_1_20170117143125092.jpg   37       0          1\n",
              "3  37_1_1_20170116001322849.jpg   37       1          1\n",
              "4  37_1_1_20170116232758932.jpg   37       1          1"
            ],
            "text/html": [
              "\n",
              "  <div id=\"df-16683b19-810d-4957-ba3c-c76d9cc58aae\">\n",
              "    <div class=\"colab-df-container\">\n",
              "      <div>\n",
              "<style scoped>\n",
              "    .dataframe tbody tr th:only-of-type {\n",
              "        vertical-align: middle;\n",
              "    }\n",
              "\n",
              "    .dataframe tbody tr th {\n",
              "        vertical-align: top;\n",
              "    }\n",
              "\n",
              "    .dataframe thead th {\n",
              "        text-align: right;\n",
              "    }\n",
              "</style>\n",
              "<table border=\"1\" class=\"dataframe\">\n",
              "  <thead>\n",
              "    <tr style=\"text-align: right;\">\n",
              "      <th></th>\n",
              "      <th>filename</th>\n",
              "      <th>age</th>\n",
              "      <th>gender</th>\n",
              "      <th>ethnicity</th>\n",
              "    </tr>\n",
              "  </thead>\n",
              "  <tbody>\n",
              "    <tr>\n",
              "      <th>0</th>\n",
              "      <td>36_1_1_20170116153744623.jpg</td>\n",
              "      <td>36</td>\n",
              "      <td>1</td>\n",
              "      <td>1</td>\n",
              "    </tr>\n",
              "    <tr>\n",
              "      <th>1</th>\n",
              "      <td>37_0_1_20170116002833730.jpg</td>\n",
              "      <td>37</td>\n",
              "      <td>0</td>\n",
              "      <td>1</td>\n",
              "    </tr>\n",
              "    <tr>\n",
              "      <th>2</th>\n",
              "      <td>37_0_1_20170117143125092.jpg</td>\n",
              "      <td>37</td>\n",
              "      <td>0</td>\n",
              "      <td>1</td>\n",
              "    </tr>\n",
              "    <tr>\n",
              "      <th>3</th>\n",
              "      <td>37_1_1_20170116001322849.jpg</td>\n",
              "      <td>37</td>\n",
              "      <td>1</td>\n",
              "      <td>1</td>\n",
              "    </tr>\n",
              "    <tr>\n",
              "      <th>4</th>\n",
              "      <td>37_1_1_20170116232758932.jpg</td>\n",
              "      <td>37</td>\n",
              "      <td>1</td>\n",
              "      <td>1</td>\n",
              "    </tr>\n",
              "  </tbody>\n",
              "</table>\n",
              "</div>\n",
              "      <button class=\"colab-df-convert\" onclick=\"convertToInteractive('df-16683b19-810d-4957-ba3c-c76d9cc58aae')\"\n",
              "              title=\"Convert this dataframe to an interactive table.\"\n",
              "              style=\"display:none;\">\n",
              "        \n",
              "  <svg xmlns=\"http://www.w3.org/2000/svg\" height=\"24px\"viewBox=\"0 0 24 24\"\n",
              "       width=\"24px\">\n",
              "    <path d=\"M0 0h24v24H0V0z\" fill=\"none\"/>\n",
              "    <path d=\"M18.56 5.44l.94 2.06.94-2.06 2.06-.94-2.06-.94-.94-2.06-.94 2.06-2.06.94zm-11 1L8.5 8.5l.94-2.06 2.06-.94-2.06-.94L8.5 2.5l-.94 2.06-2.06.94zm10 10l.94 2.06.94-2.06 2.06-.94-2.06-.94-.94-2.06-.94 2.06-2.06.94z\"/><path d=\"M17.41 7.96l-1.37-1.37c-.4-.4-.92-.59-1.43-.59-.52 0-1.04.2-1.43.59L10.3 9.45l-7.72 7.72c-.78.78-.78 2.05 0 2.83L4 21.41c.39.39.9.59 1.41.59.51 0 1.02-.2 1.41-.59l7.78-7.78 2.81-2.81c.8-.78.8-2.07 0-2.86zM5.41 20L4 18.59l7.72-7.72 1.47 1.35L5.41 20z\"/>\n",
              "  </svg>\n",
              "      </button>\n",
              "      \n",
              "  <style>\n",
              "    .colab-df-container {\n",
              "      display:flex;\n",
              "      flex-wrap:wrap;\n",
              "      gap: 12px;\n",
              "    }\n",
              "\n",
              "    .colab-df-convert {\n",
              "      background-color: #E8F0FE;\n",
              "      border: none;\n",
              "      border-radius: 50%;\n",
              "      cursor: pointer;\n",
              "      display: none;\n",
              "      fill: #1967D2;\n",
              "      height: 32px;\n",
              "      padding: 0 0 0 0;\n",
              "      width: 32px;\n",
              "    }\n",
              "\n",
              "    .colab-df-convert:hover {\n",
              "      background-color: #E2EBFA;\n",
              "      box-shadow: 0px 1px 2px rgba(60, 64, 67, 0.3), 0px 1px 3px 1px rgba(60, 64, 67, 0.15);\n",
              "      fill: #174EA6;\n",
              "    }\n",
              "\n",
              "    [theme=dark] .colab-df-convert {\n",
              "      background-color: #3B4455;\n",
              "      fill: #D2E3FC;\n",
              "    }\n",
              "\n",
              "    [theme=dark] .colab-df-convert:hover {\n",
              "      background-color: #434B5C;\n",
              "      box-shadow: 0px 1px 3px 1px rgba(0, 0, 0, 0.15);\n",
              "      filter: drop-shadow(0px 1px 2px rgba(0, 0, 0, 0.3));\n",
              "      fill: #FFFFFF;\n",
              "    }\n",
              "  </style>\n",
              "\n",
              "      <script>\n",
              "        const buttonEl =\n",
              "          document.querySelector('#df-16683b19-810d-4957-ba3c-c76d9cc58aae button.colab-df-convert');\n",
              "        buttonEl.style.display =\n",
              "          google.colab.kernel.accessAllowed ? 'block' : 'none';\n",
              "\n",
              "        async function convertToInteractive(key) {\n",
              "          const element = document.querySelector('#df-16683b19-810d-4957-ba3c-c76d9cc58aae');\n",
              "          const dataTable =\n",
              "            await google.colab.kernel.invokeFunction('convertToInteractive',\n",
              "                                                     [key], {});\n",
              "          if (!dataTable) return;\n",
              "\n",
              "          const docLinkHtml = 'Like what you see? Visit the ' +\n",
              "            '<a target=\"_blank\" href=https://colab.research.google.com/notebooks/data_table.ipynb>data table notebook</a>'\n",
              "            + ' to learn more about interactive tables.';\n",
              "          element.innerHTML = '';\n",
              "          dataTable['output_type'] = 'display_data';\n",
              "          await google.colab.output.renderOutput(dataTable, element);\n",
              "          const docLink = document.createElement('div');\n",
              "          docLink.innerHTML = docLinkHtml;\n",
              "          element.appendChild(docLink);\n",
              "        }\n",
              "      </script>\n",
              "    </div>\n",
              "  </div>\n",
              "  "
            ]
          },
          "metadata": {},
          "execution_count": 8
        }
      ],
      "source": [
        "df.head()"
      ],
      "metadata": {
        "colab": {
          "base_uri": "https://localhost:8080/",
          "height": 206
        },
        "id": "28o-IgLVPWqw",
        "outputId": "dcbfe678-709d-48d5-acf2-32441d2d0e11"
      }
    },
    {
      "cell_type": "code",
      "source": [
        "df.shape"
      ],
      "metadata": {
        "id": "1BQqGJ6aNGE4",
        "outputId": "f9fd828a-dc28-43b8-f67b-2482ae38e920",
        "colab": {
          "base_uri": "https://localhost:8080/"
        }
      },
      "execution_count": 9,
      "outputs": [
        {
          "output_type": "execute_result",
          "data": {
            "text/plain": [
              "(1251, 4)"
            ]
          },
          "metadata": {},
          "execution_count": 9
        }
      ]
    },
    {
      "cell_type": "markdown",
      "source": [
        "## Get pictures as numpy arrays"
      ],
      "metadata": {
        "collapsed": false,
        "id": "w2zaDjn4PWqx"
      }
    },
    {
      "cell_type": "code",
      "execution_count": 10,
      "outputs": [
        {
          "output_type": "stream",
          "name": "stderr",
          "text": [
            "100%|██████████| 1251/1251 [00:00<00:00, 1443.12it/s]\n"
          ]
        }
      ],
      "source": [
        "# WARNING: This might take long\n",
        "from tqdm import tqdm\n",
        "from pathlib import Path\n",
        "images = []\n",
        "\n",
        "for image in tqdm(df['filename']):\n",
        "  path = path_to_pictures + image\n",
        "  try: \n",
        "    img = Image.open(path).convert('RGB') # I use that to make sure all the pictures are RGB\n",
        "    images.append(img)\n",
        "    #img = np.array(img)\n",
        "  except FileNotFoundError as e:\n",
        "    print(e)\n",
        "  "
      ],
      "metadata": {
        "colab": {
          "base_uri": "https://localhost:8080/"
        },
        "id": "EKDSiCOqPWqx",
        "outputId": "dcd50dd8-199c-4367-ff66-6fdf02bed0f8"
      }
    },
    {
      "cell_type": "code",
      "execution_count": 11,
      "outputs": [
        {
          "output_type": "execute_result",
          "data": {
            "text/plain": [
              "<PIL.Image.Image image mode=RGB size=128x128 at 0x7F8C17E23B90>"
            ],
            "image/png": "[encoded data removed]"
          },
          "metadata": {},
          "execution_count": 11
        }
      ],
      "source": [
        "images[0]"
      ],
      "metadata": {
        "colab": {
          "base_uri": "https://localhost:8080/",
          "height": 145
        },
        "id": "35ng0xCZPWqy",
        "outputId": "70fdc8c6-cb61-4e3e-9536-886b29edc942"
      }
    },
    {
      "cell_type": "code",
      "source": [
        "# Check sizes\n",
        "for idx, img in enumerate(images[0:5]):\n",
        "  img_array = np.array(img)\n",
        "  print(f\"Image {idx} has shape {img_array.shape}\")"
      ],
      "metadata": {
        "id": "Ov23dcXxS6J_",
        "outputId": "aa076c88-e410-42aa-9a90-4bd9afdfbde3",
        "colab": {
          "base_uri": "https://localhost:8080/"
        }
      },
      "execution_count": 12,
      "outputs": [
        {
          "output_type": "stream",
          "name": "stdout",
          "text": [
            "Image 0 has shape (128, 128, 3)\n",
            "Image 1 has shape (128, 128, 3)\n",
            "Image 2 has shape (128, 128, 3)\n",
            "Image 3 has shape (128, 128, 3)\n",
            "Image 4 has shape (128, 128, 3)\n"
          ]
        }
      ]
    },
    {
      "cell_type": "code",
      "source": [
        "img_size = (64, 64)"
      ],
      "metadata": {
        "id": "8LYNntCSY3NI"
      },
      "execution_count": 13,
      "outputs": []
    },
    {
      "cell_type": "markdown",
      "source": [
        "# Normalize Pictures with PyTorch\n",
        "\n",
        "The normalization can constitute an effective way to speed up the computation in the model based on neural network architecture and learn faster by reducing the skewness. \n",
        "\n",
        "There are 2 steps to normalize the images: \n",
        "\n",
        "\n",
        "1.   Substract the channel mean from each input channel\n",
        "2.   Dived it by the channel standard deviation\n",
        "\n",
        "When we transformed an image into a PyTorch tensor, the pixel values are scaled between 0 and 1. In PyTorch, this transformation is done usint torchvision.transforms.ToTensor(). This converts the PIL image with a pixel range of 0 to 255 to a PyTorch FloatTensor of shape (C, H, W) with a range from 0 to 1. \n",
        "\n",
        "**Normalizing the images means transforming the images into such values that the mean and stadard deviation of the image become 0 and 1 respectively.**\n",
        "\n",
        "To actually normalize the image, then we use torchvision.transforms.Normalize(). \n",
        "\n",
        "Normalize() takes 2 parameters: \n",
        "* mean: Sequeance of means for each channel. \n",
        "* std. Sequence of standard deviations for each channel. \n",
        "And it returns a normalized tensor image. \n",
        "\n",
        "To normalize the image we first calculate the mean and standard deviation of 10 random pictures. "
      ],
      "metadata": {
        "id": "w8FVTRBxiYE4"
      }
    },
    {
      "cell_type": "code",
      "source": [
        "# Transform images to tensor images: \n",
        "tensor_images = []\n",
        "for idx, img in enumerate(images):\n",
        "  tensor_img = (T.ToTensor())(img) # Transform image to pixel values btw 0 and 1\n",
        "  tensor_images.append(tensor_img)"
      ],
      "metadata": {
        "id": "YKGC8ElysNus"
      },
      "execution_count": 14,
      "outputs": []
    },
    {
      "cell_type": "code",
      "source": [
        "# Plot pixel values of first image: \n",
        "array_img = np.array(tensor_images[0])\n",
        "\n",
        "plt.hist(array_img.ravel(), bins=50, density=True)\n",
        "plt.xlabel('pixel values')\n",
        "plt.ylabel('relative frequency')\n",
        "plt.title('distribution of pixels for first picture')"
      ],
      "metadata": {
        "id": "z_aXGRdKtUiN",
        "outputId": "491df402-ca1e-45cd-e723-41eb5c1431d6",
        "colab": {
          "base_uri": "https://localhost:8080/",
          "height": 312
        }
      },
      "execution_count": 15,
      "outputs": [
        {
          "output_type": "execute_result",
          "data": {
            "text/plain": [
              "Text(0.5, 1.0, 'distribution of pixels for first picture')"
            ]
          },
          "metadata": {},
          "execution_count": 15
        },
        {
          "output_type": "display_data",
          "data": {
            "text/plain": [
              "<Figure size 432x288 with 1 Axes>"
            ],
            "image/png": "[encoded data removed]"
          },
          "metadata": {
            "needs_background": "light"
          }
        }
      ]
    },
    {
      "cell_type": "code",
      "source": [
        "# Calculate mean and standard deviation for 10 random pictures: \n",
        "import random\n",
        "mean_pixels = torch.zeros([3, 10])\n",
        "std_pixels = torch.zeros([3, 10])\n",
        "\n",
        "for idx, img in enumerate(random.sample(tensor_images, k=10)):\n",
        "  mean = img.mean([1,2])\n",
        "  std = img.std([1,2])\n",
        "  mean_pixels[:, idx] = mean \n",
        "  std_pixels[:, idx] = std\n",
        "\n",
        "mean = mean_pixels.mean(1)\n",
        "std = std_pixels.mean(1)\n",
        "\n",
        "print(f\"Mean of 10 random images: {mean}\")\n",
        "print(f\"Std of 10 random images: {std}\")"
      ],
      "metadata": {
        "id": "EHy3wyQNt2RY",
        "outputId": "938b9324-7346-4858-c1bc-26c697cd0cd9",
        "colab": {
          "base_uri": "https://localhost:8080/"
        }
      },
      "execution_count": 16,
      "outputs": [
        {
          "output_type": "stream",
          "name": "stdout",
          "text": [
            "Mean of 10 random images: tensor([0.5344, 0.4811, 0.4267])\n",
            "Std of 10 random images: tensor([0.2344, 0.2154, 0.2300])\n"
          ]
        }
      ]
    },
    {
      "cell_type": "code",
      "source": [
        "normalized_images_tensor = []\n",
        "# normalized_images = []\n",
        "\n",
        "# Instanciate Normalize() function with calculated mean and std\n",
        "normalizer = T.Normalize(mean=list(mean), std=list(std))\n",
        "\n",
        "for idx, img in enumerate(tensor_images):\n",
        "  try: \n",
        "    normalized_img = normalizer(img)\n",
        "    normalized_images_tensor.append(normalized_img)\n",
        "    #normalized_img = T.ToPILImage()(normalized_img)\n",
        "    #normalized_images.append(normalized_img)\n",
        "  except RuntimeError as e:\n",
        "    # delete from the df: it is not working but i do not know why\n",
        "    # df = df.drop(index=idx)\n",
        "    print(f\"Normalization failed in index {idx}: {e}\")\n",
        "    print(\"Picture will be converted or deleted.\")\n"
      ],
      "metadata": {
        "id": "reZIJM3AirTL"
      },
      "execution_count": 17,
      "outputs": []
    },
    {
      "cell_type": "code",
      "source": [
        "print(f\"Normalized lists lenght is {len(normalized_images_tensor)}\")\n",
        "print(f\"df shape is {df.shape}\")"
      ],
      "metadata": {
        "id": "t7EASEMtsfAl",
        "colab": {
          "base_uri": "https://localhost:8080/"
        },
        "outputId": "cf639ab7-651f-454e-c2fc-a776b5d4881c"
      },
      "execution_count": 18,
      "outputs": [
        {
          "output_type": "stream",
          "name": "stdout",
          "text": [
            "Normalized lists lenght is 1251\n",
            "df shape is (1251, 4)\n"
          ]
        }
      ]
    },
    {
      "cell_type": "code",
      "source": [
        "normalized_images_tensor[0]"
      ],
      "metadata": {
        "colab": {
          "base_uri": "https://localhost:8080/"
        },
        "id": "6OqrVj85xUlv",
        "outputId": "c1f9c8f3-dbb0-48d4-f3b9-6b11864ea5dd"
      },
      "execution_count": 19,
      "outputs": [
        {
          "output_type": "execute_result",
          "data": {
            "text/plain": [
              "tensor([[[1.9868, 1.9868, 1.9868,  ..., 1.2840, 1.3175, 1.3342],\n",
              "         [1.9868, 1.9868, 1.9868,  ..., 1.2840, 1.3008, 1.3342],\n",
              "         [1.9868, 1.9868, 1.9868,  ..., 1.2673, 1.3008, 1.3342],\n",
              "         ...,\n",
              "         [1.9868, 1.9868, 1.9868,  ..., 1.3510, 1.3844, 1.4179],\n",
              "         [1.9868, 1.9868, 1.9868,  ..., 1.3510, 1.3844, 1.4179],\n",
              "         [1.9868, 1.9868, 1.9868,  ..., 1.3510, 1.3844, 1.4179]],\n",
              "\n",
              "        [[2.4085, 2.4085, 2.4085,  ..., 1.6258, 1.6623, 1.6805],\n",
              "         [2.4085, 2.4085, 2.4085,  ..., 1.6258, 1.6441, 1.6805],\n",
              "         [2.4085, 2.4085, 2.4085,  ..., 1.6076, 1.6441, 1.6805],\n",
              "         ...,\n",
              "         [2.4085, 2.4085, 2.4085,  ..., 1.7169, 1.7533, 1.7897],\n",
              "         [2.4085, 2.4085, 2.4085,  ..., 1.7169, 1.7533, 1.7897],\n",
              "         [2.4085, 2.4085, 2.4085,  ..., 1.7169, 1.7533, 1.7897]],\n",
              "\n",
              "        [[2.4579, 2.4579, 2.4579,  ..., 1.8954, 1.9295, 1.9465],\n",
              "         [2.4579, 2.4579, 2.4579,  ..., 1.8954, 1.9124, 1.9465],\n",
              "         [2.4579, 2.4579, 2.4579,  ..., 1.8783, 1.9124, 1.9465],\n",
              "         ...,\n",
              "         [2.4579, 2.4579, 2.4579,  ..., 1.8442, 1.8783, 1.9124],\n",
              "         [2.4579, 2.4579, 2.4579,  ..., 1.8442, 1.8783, 1.9124],\n",
              "         [2.4579, 2.4579, 2.4579,  ..., 1.8442, 1.8783, 1.9124]]])"
            ]
          },
          "metadata": {},
          "execution_count": 19
        }
      ]
    },
    {
      "cell_type": "code",
      "source": [
        "plt.imshow(normalized_images_tensor[0].permute(1, 2, 0)  )"
      ],
      "metadata": {
        "colab": {
          "base_uri": "https://localhost:8080/",
          "height": 303
        },
        "id": "S_co1torx0oo",
        "outputId": "0c5051df-dd61-4030-fa73-7f0ad6d585b6"
      },
      "execution_count": 20,
      "outputs": [
        {
          "output_type": "stream",
          "name": "stderr",
          "text": [
            "WARNING:matplotlib.image:Clipping input data to the valid range for imshow with RGB data ([0..1] for floats or [0..255] for integers).\n"
          ]
        },
        {
          "output_type": "execute_result",
          "data": {
            "text/plain": [
              "<matplotlib.image.AxesImage at 0x7f8c16e62690>"
            ]
          },
          "metadata": {},
          "execution_count": 20
        },
        {
          "output_type": "display_data",
          "data": {
            "text/plain": [
              "<Figure size 432x288 with 1 Axes>"
            ],
            "image/png": "[encoded data removed]"
          },
          "metadata": {
            "needs_background": "light"
          }
        }
      ]
    },
    {
      "cell_type": "markdown",
      "source": [
        "# Save tensors"
      ],
      "metadata": {
        "id": "iYO3LfYtx_CG"
      }
    },
    {
      "cell_type": "code",
      "source": [
        "df.shape\n",
        "len(normalized_images_tensor)"
      ],
      "metadata": {
        "colab": {
          "base_uri": "https://localhost:8080/"
        },
        "id": "SdvGw3fMzf2w",
        "outputId": "4b18d577-9293-4fde-d9ec-5c7c61ad285c"
      },
      "execution_count": 22,
      "outputs": [
        {
          "output_type": "execute_result",
          "data": {
            "text/plain": [
              "1251"
            ]
          },
          "metadata": {},
          "execution_count": 22
        }
      ]
    },
    {
      "cell_type": "code",
      "source": [
        "path_to_save_pictures = '/content/drive/MyDrive/Colab Notebooks/CVNLP/normalized_tensor_images/'"
      ],
      "metadata": {
        "id": "bJCUEHFZyCh4"
      },
      "execution_count": 27,
      "outputs": []
    },
    {
      "cell_type": "code",
      "source": [
        "import os\n",
        "for idx, img in enumerate(normalized_images_tensor): \n",
        "  basename, extension = os.path.splitext(df['filename'][idx]) # get filename without extension\n",
        "  path = path_to_save_pictures + basename + '.pth' # extension pth is for pythorch files\n",
        "  torch.save(img, path)"
      ],
      "metadata": {
        "id": "-Hl0qrsJzIwm"
      },
      "execution_count": 31,
      "outputs": []
    },
    {
      "cell_type": "code",
      "source": [
        "# Source: https://discuss.pytorch.org/t/storing-images-as-tensor/20096/3"
      ],
      "metadata": {
        "id": "36srYdRgy8_R"
      },
      "execution_count": null,
      "outputs": []
    }
  ]
}